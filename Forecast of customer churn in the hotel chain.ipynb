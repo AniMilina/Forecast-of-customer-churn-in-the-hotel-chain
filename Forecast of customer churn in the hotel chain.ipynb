{
 "cells": [
  {
   "cell_type": "markdown",
   "metadata": {},
   "source": [
    "# Прогнозирование оттока клиентов в сети отелей «Как в гостях»"
   ]
  },
  {
   "cell_type": "markdown",
   "metadata": {},
   "source": [
    "# Описание проекта  \n",
    "\n",
    "Заказчик этого исследования — сеть отелей «Как в гостях»  \n",
    "\n",
    "Чтобы привлечь клиентов, эта сеть отелей добавила на свой сайт возможность забронировать номер без предоплаты. Однако если клиент отменял бронирование, то компания терпела убытки. Сотрудники отеля могли, например, закупить продукты к приезду гостя или просто не успеть найти другого клиента  \n",
    "\n",
    "Чтобы решить эту проблему, вам нужно разработать систему, которая предсказывает отказ от брони. Если модель покажет, что бронь будет отменена, то клиенту предлагается внести депозит  \n",
    "\n",
    "Размер депозита — 80% от стоимости номера за одни сутки и затрат на разовую уборку. Деньги будут списаны со счёта клиента, если он всё же отменит бронь  \n",
    "\n",
    "# Бизнес-метрика и другие данные  \n",
    "\n",
    "Основная бизнес-метрика для любой сети отелей — её прибыль. \n",
    "\n",
    "Прибыль отеля — это разница между стоимостью номера за все ночи и затраты на обслуживание: как при подготовке номера, так и при проживании постояльца  \n",
    "\n",
    "В отеле есть несколько типов номеров. В зависимости от типа номера назначается стоимость за одну ночь. Есть также затраты на уборку. Если клиент снял номер надолго, то убираются каждые два дня  \n",
    "\n",
    "Стоимость номеров отеля:  \n",
    "- категория A: за ночь — 1 000, разовое обслуживание — 400\n",
    "- категория B: за ночь — 800, разовое обслуживание — 350\n",
    "- категория C: за ночь — 600, разовое обслуживание — 350\n",
    "- категория D: за ночь — 550, разовое обслуживание — 150\n",
    "- категория E: за ночь — 500, разовое обслуживание — 150\n",
    "- категория F: за ночь — 450, разовое обслуживание — 150\n",
    "- категория G: за ночь — 350, разовое обслуживание — 150\n",
    "\n",
    "В ценовой политике отеля используются сезонные коэффициенты: весной и осенью цены повышаются на 20%, летом — на 40%.  \n",
    "\n",
    "Убытки отеля в случае отмены брони номера — это стоимость одной уборки и одной ночи с учётом сезонного коэффициента.\n",
    "\n",
    "На разработку системы прогнозирования заложен бюджет — 400 000. При этом необходимо учесть, что внедрение модели должно окупиться за тестовый период. Затраты на разработку должны быть меньше той выручки, которую система принесёт компании.\n",
    "\n",
    "\n",
    "# План решения пошагово  \n",
    "\n",
    "**Шаг 1.** Изучим файлы с данными  \n",
    "\n",
    "Пути к файлам: \n",
    "/datasets/hotel_train.csv — данные для обучения модели  \n",
    "\n",
    "/datasets/hotel_test.csv — данные для тестирования модели  \n",
    "\n",
    "**Шаг 2.** Предобработка и исследовательский анализ данных\n",
    "\n",
    "* Проверка данных и корректировка их, если потребуется  \n",
    "* Исследовательский анализ представленных данных. Опишсание найденных особенностей: пропуски, выбросы  \n",
    "\n",
    "**Шаг 3.** Вычисление бизнес-метрики  \n",
    "\n",
    "Оцените прибыль отеля без внедрения депозитов.\n",
    "\n",
    "**Шаг 4.** Разработка модели ML\n",
    "\n",
    "Обучение разных моделей и оценка их качества кросс-валидацией. Выбор лучшей модели и проверка её на тестовой выборке. Описание выводов\n",
    "Выбор метрики для обучения\n",
    "Оценка прибыли, которую принесёт выбранная модель за год  \n",
    "\n",
    "**Шаг 5.** Выявление признаков «ненадёжного» клиента  \n",
    "\n",
    "На основе исследовательского анализа данных описание клиента, склонного к отказу от брони\n",
    "\n",
    "**Шаг 6.** Общий вывод\n",
    "\n",
    "Описание модели, которая решает задачу с наибольшей выгодой для бизнеса. А также, рекомендации бизнесу по результатам проделанной работы"
   ]
  },
  {
   "cell_type": "markdown",
   "metadata": {},
   "source": [
    "# Шаг 1. Изучим файлы с данными  \n",
    "\n",
    "Пути к файлам: \n",
    "/datasets/hotel_train.csv — данные для обучения модели  \n",
    "\n",
    "/datasets/hotel_test.csv — данные для тестирования модели"
   ]
  },
  {
   "cell_type": "code",
   "execution_count": 137,
   "metadata": {},
   "outputs": [],
   "source": [
    "# Импортируем инструменты, которые понадобятся нам для работы:\n",
    "\n",
    "import pandas as pd\n",
    "\n",
    "import numpy as np\n",
    "\n",
    "import scipy.stats as ss\n",
    "\n",
    "from sklearn.utils import shuffle\n",
    "\n",
    "import sklearn.metrics as sm\n",
    "\n",
    "import matplotlib.pyplot as plt\n",
    "\n",
    "import random\n",
    "\n",
    "import seaborn as sns\n",
    "\n",
    "from statsmodels.stats.proportion import proportion_confint\n",
    "\n",
    "from sklearn.model_selection import train_test_split,learning_curve, cross_val_score, StratifiedKFold\n",
    "\n",
    "from sklearn.metrics import confusion_matrix, accuracy_score, classification_report, precision_recall_curve, roc_curve, roc_auc_score, recall_score, precision_score, f1_score\n",
    "\n",
    "from sklearn.preprocessing import LabelEncoder, StandardScaler, StandardScaler, OneHotEncoder\n",
    "\n",
    "from sklearn.linear_model import LogisticRegression, LogisticRegressionCV, RidgeClassifier, SGDClassifier\n",
    "\n",
    "from sklearn.feature_selection import SelectKBest, SelectFromModel\n",
    "\n",
    "from sklearn.ensemble import GradientBoostingClassifier, RandomForestClassifier\n",
    "\n",
    "from sklearn.tree import DecisionTreeClassifier \n",
    "\n",
    "from IPython.core.interactiveshell import InteractiveShell\n",
    "InteractiveShell.ast_node_interactivity = 'all'\n",
    "\n",
    "from typing import Union\n",
    "\n",
    "import warnings\n",
    "warnings.filterwarnings(\"ignore\")"
   ]
  },
  {
   "cell_type": "code",
   "execution_count": 138,
   "metadata": {},
   "outputs": [],
   "source": [
    "data_train = pd.read_csv('/datasets/hotel_train.csv')\n",
    "data_test = pd.read_csv('/datasets/hotel_test.csv')"
   ]
  },
  {
   "cell_type": "markdown",
   "metadata": {},
   "source": [
    "# Шаг 2. Предобработка и исследовательский анализ данных\n",
    "\n",
    "* Проверка данных и корректировка их, если потребуется  \n",
    "* Исследовательский анализ представленных данных. Описание найденных особенностей: пропуски, выбросы  "
   ]
  },
  {
   "cell_type": "code",
   "execution_count": 139,
   "metadata": {},
   "outputs": [
    {
     "data": {
      "text/html": [
       "<div>\n",
       "<style scoped>\n",
       "    .dataframe tbody tr th:only-of-type {\n",
       "        vertical-align: middle;\n",
       "    }\n",
       "\n",
       "    .dataframe tbody tr th {\n",
       "        vertical-align: top;\n",
       "    }\n",
       "\n",
       "    .dataframe thead th {\n",
       "        text-align: right;\n",
       "    }\n",
       "</style>\n",
       "<table border=\"1\" class=\"dataframe\">\n",
       "  <thead>\n",
       "    <tr style=\"text-align: right;\">\n",
       "      <th></th>\n",
       "      <th>id</th>\n",
       "      <th>is_canceled</th>\n",
       "      <th>lead_time</th>\n",
       "      <th>arrival_date_year</th>\n",
       "      <th>arrival_date_month</th>\n",
       "      <th>arrival_date_week_number</th>\n",
       "      <th>arrival_date_day_of_month</th>\n",
       "      <th>stays_in_weekend_nights</th>\n",
       "      <th>stays_in_week_nights</th>\n",
       "      <th>adults</th>\n",
       "      <th>children</th>\n",
       "      <th>babies</th>\n",
       "      <th>meal</th>\n",
       "      <th>country</th>\n",
       "      <th>distribution_channel</th>\n",
       "      <th>is_repeated_guest</th>\n",
       "      <th>previous_cancellations</th>\n",
       "      <th>previous_bookings_not_canceled</th>\n",
       "      <th>reserved_room_type</th>\n",
       "      <th>booking_changes</th>\n",
       "      <th>days_in_waiting_list</th>\n",
       "      <th>customer_type</th>\n",
       "      <th>required_car_parking_spaces</th>\n",
       "      <th>total_of_special_requests</th>\n",
       "      <th>total_nights</th>\n",
       "    </tr>\n",
       "  </thead>\n",
       "  <tbody>\n",
       "    <tr>\n",
       "      <th>0</th>\n",
       "      <td>0</td>\n",
       "      <td>0</td>\n",
       "      <td>7.0</td>\n",
       "      <td>2015</td>\n",
       "      <td>July</td>\n",
       "      <td>27</td>\n",
       "      <td>1</td>\n",
       "      <td>0</td>\n",
       "      <td>1</td>\n",
       "      <td>1.0</td>\n",
       "      <td>0.0</td>\n",
       "      <td>0.0</td>\n",
       "      <td>BB</td>\n",
       "      <td>GBR</td>\n",
       "      <td>Direct</td>\n",
       "      <td>0</td>\n",
       "      <td>0</td>\n",
       "      <td>0</td>\n",
       "      <td>A</td>\n",
       "      <td>0</td>\n",
       "      <td>0</td>\n",
       "      <td>Transient</td>\n",
       "      <td>0</td>\n",
       "      <td>0</td>\n",
       "      <td>1</td>\n",
       "    </tr>\n",
       "    <tr>\n",
       "      <th>1</th>\n",
       "      <td>1</td>\n",
       "      <td>0</td>\n",
       "      <td>14.0</td>\n",
       "      <td>2015</td>\n",
       "      <td>July</td>\n",
       "      <td>27</td>\n",
       "      <td>1</td>\n",
       "      <td>0</td>\n",
       "      <td>2</td>\n",
       "      <td>2.0</td>\n",
       "      <td>0.0</td>\n",
       "      <td>0.0</td>\n",
       "      <td>BB</td>\n",
       "      <td>GBR</td>\n",
       "      <td>TA/TO</td>\n",
       "      <td>0</td>\n",
       "      <td>0</td>\n",
       "      <td>0</td>\n",
       "      <td>A</td>\n",
       "      <td>0</td>\n",
       "      <td>0</td>\n",
       "      <td>Transient</td>\n",
       "      <td>0</td>\n",
       "      <td>1</td>\n",
       "      <td>2</td>\n",
       "    </tr>\n",
       "  </tbody>\n",
       "</table>\n",
       "</div>"
      ],
      "text/plain": [
       "   id  is_canceled  lead_time  arrival_date_year arrival_date_month  \\\n",
       "0   0            0        7.0               2015               July   \n",
       "1   1            0       14.0               2015               July   \n",
       "\n",
       "   arrival_date_week_number  arrival_date_day_of_month  \\\n",
       "0                        27                          1   \n",
       "1                        27                          1   \n",
       "\n",
       "   stays_in_weekend_nights  stays_in_week_nights  adults  children  babies  \\\n",
       "0                        0                     1     1.0       0.0     0.0   \n",
       "1                        0                     2     2.0       0.0     0.0   \n",
       "\n",
       "        meal country distribution_channel  is_repeated_guest  \\\n",
       "0  BB            GBR               Direct                  0   \n",
       "1  BB            GBR                TA/TO                  0   \n",
       "\n",
       "   previous_cancellations  previous_bookings_not_canceled reserved_room_type  \\\n",
       "0                       0                               0   A                  \n",
       "1                       0                               0   A                  \n",
       "\n",
       "   booking_changes  days_in_waiting_list customer_type  \\\n",
       "0                0                     0     Transient   \n",
       "1                0                     0     Transient   \n",
       "\n",
       "   required_car_parking_spaces  total_of_special_requests  total_nights  \n",
       "0                            0                          0             1  \n",
       "1                            0                          1             2  "
      ]
     },
     "execution_count": 139,
     "metadata": {},
     "output_type": "execute_result"
    },
    {
     "name": "stdout",
     "output_type": "stream",
     "text": [
      "<class 'pandas.core.frame.DataFrame'>\n",
      "RangeIndex: 65229 entries, 0 to 65228\n",
      "Data columns (total 25 columns):\n",
      " #   Column                          Non-Null Count  Dtype  \n",
      "---  ------                          --------------  -----  \n",
      " 0   id                              65229 non-null  int64  \n",
      " 1   is_canceled                     65229 non-null  int64  \n",
      " 2   lead_time                       65229 non-null  float64\n",
      " 3   arrival_date_year               65229 non-null  int64  \n",
      " 4   arrival_date_month              65229 non-null  object \n",
      " 5   arrival_date_week_number        65229 non-null  int64  \n",
      " 6   arrival_date_day_of_month       65229 non-null  int64  \n",
      " 7   stays_in_weekend_nights         65229 non-null  int64  \n",
      " 8   stays_in_week_nights            65229 non-null  int64  \n",
      " 9   adults                          65229 non-null  float64\n",
      " 10  children                        65229 non-null  float64\n",
      " 11  babies                          65229 non-null  float64\n",
      " 12  meal                            65229 non-null  object \n",
      " 13  country                         65229 non-null  object \n",
      " 14  distribution_channel            65229 non-null  object \n",
      " 15  is_repeated_guest               65229 non-null  int64  \n",
      " 16  previous_cancellations          65229 non-null  int64  \n",
      " 17  previous_bookings_not_canceled  65229 non-null  int64  \n",
      " 18  reserved_room_type              65229 non-null  object \n",
      " 19  booking_changes                 65229 non-null  int64  \n",
      " 20  days_in_waiting_list            65229 non-null  int64  \n",
      " 21  customer_type                   65229 non-null  object \n",
      " 22  required_car_parking_spaces     65229 non-null  int64  \n",
      " 23  total_of_special_requests       65229 non-null  int64  \n",
      " 24  total_nights                    65229 non-null  int64  \n",
      "dtypes: float64(4), int64(15), object(6)\n",
      "memory usage: 12.4+ MB\n"
     ]
    }
   ],
   "source": [
    "data_train.head(2)\n",
    "data_train.info()"
   ]
  },
  {
   "cell_type": "code",
   "execution_count": 140,
   "metadata": {},
   "outputs": [
    {
     "data": {
      "text/html": [
       "<div>\n",
       "<style scoped>\n",
       "    .dataframe tbody tr th:only-of-type {\n",
       "        vertical-align: middle;\n",
       "    }\n",
       "\n",
       "    .dataframe tbody tr th {\n",
       "        vertical-align: top;\n",
       "    }\n",
       "\n",
       "    .dataframe thead th {\n",
       "        text-align: right;\n",
       "    }\n",
       "</style>\n",
       "<table border=\"1\" class=\"dataframe\">\n",
       "  <thead>\n",
       "    <tr style=\"text-align: right;\">\n",
       "      <th></th>\n",
       "      <th>id</th>\n",
       "      <th>is_canceled</th>\n",
       "      <th>lead_time</th>\n",
       "      <th>arrival_date_year</th>\n",
       "      <th>arrival_date_month</th>\n",
       "      <th>arrival_date_week_number</th>\n",
       "      <th>arrival_date_day_of_month</th>\n",
       "      <th>stays_in_weekend_nights</th>\n",
       "      <th>stays_in_week_nights</th>\n",
       "      <th>adults</th>\n",
       "      <th>children</th>\n",
       "      <th>babies</th>\n",
       "      <th>meal</th>\n",
       "      <th>country</th>\n",
       "      <th>distribution_channel</th>\n",
       "      <th>is_repeated_guest</th>\n",
       "      <th>previous_cancellations</th>\n",
       "      <th>previous_bookings_not_canceled</th>\n",
       "      <th>reserved_room_type</th>\n",
       "      <th>booking_changes</th>\n",
       "      <th>days_in_waiting_list</th>\n",
       "      <th>customer_type</th>\n",
       "      <th>required_car_parking_spaces</th>\n",
       "      <th>total_of_special_requests</th>\n",
       "      <th>total_nights</th>\n",
       "    </tr>\n",
       "  </thead>\n",
       "  <tbody>\n",
       "    <tr>\n",
       "      <th>0</th>\n",
       "      <td>6086</td>\n",
       "      <td>1</td>\n",
       "      <td>74.0</td>\n",
       "      <td>2017</td>\n",
       "      <td>January</td>\n",
       "      <td>1</td>\n",
       "      <td>1</td>\n",
       "      <td>1</td>\n",
       "      <td>0</td>\n",
       "      <td>2.0</td>\n",
       "      <td>0.0</td>\n",
       "      <td>0.0</td>\n",
       "      <td>BB</td>\n",
       "      <td>PRT</td>\n",
       "      <td>TA/TO</td>\n",
       "      <td>0</td>\n",
       "      <td>0</td>\n",
       "      <td>0</td>\n",
       "      <td>A</td>\n",
       "      <td>0</td>\n",
       "      <td>0</td>\n",
       "      <td>Transient</td>\n",
       "      <td>0</td>\n",
       "      <td>0</td>\n",
       "      <td>1</td>\n",
       "    </tr>\n",
       "    <tr>\n",
       "      <th>1</th>\n",
       "      <td>6087</td>\n",
       "      <td>1</td>\n",
       "      <td>62.0</td>\n",
       "      <td>2017</td>\n",
       "      <td>January</td>\n",
       "      <td>1</td>\n",
       "      <td>1</td>\n",
       "      <td>2</td>\n",
       "      <td>2</td>\n",
       "      <td>2.0</td>\n",
       "      <td>0.0</td>\n",
       "      <td>0.0</td>\n",
       "      <td>BB</td>\n",
       "      <td>AUT</td>\n",
       "      <td>TA/TO</td>\n",
       "      <td>0</td>\n",
       "      <td>0</td>\n",
       "      <td>0</td>\n",
       "      <td>A</td>\n",
       "      <td>0</td>\n",
       "      <td>0</td>\n",
       "      <td>Transient</td>\n",
       "      <td>0</td>\n",
       "      <td>1</td>\n",
       "      <td>4</td>\n",
       "    </tr>\n",
       "  </tbody>\n",
       "</table>\n",
       "</div>"
      ],
      "text/plain": [
       "     id  is_canceled  lead_time  arrival_date_year arrival_date_month  \\\n",
       "0  6086            1       74.0               2017            January   \n",
       "1  6087            1       62.0               2017            January   \n",
       "\n",
       "   arrival_date_week_number  arrival_date_day_of_month  \\\n",
       "0                         1                          1   \n",
       "1                         1                          1   \n",
       "\n",
       "   stays_in_weekend_nights  stays_in_week_nights  adults  children  babies  \\\n",
       "0                        1                     0     2.0       0.0     0.0   \n",
       "1                        2                     2     2.0       0.0     0.0   \n",
       "\n",
       "        meal country distribution_channel  is_repeated_guest  \\\n",
       "0  BB            PRT                TA/TO                  0   \n",
       "1  BB            AUT                TA/TO                  0   \n",
       "\n",
       "   previous_cancellations  previous_bookings_not_canceled reserved_room_type  \\\n",
       "0                       0                               0   A                  \n",
       "1                       0                               0   A                  \n",
       "\n",
       "   booking_changes  days_in_waiting_list customer_type  \\\n",
       "0                0                     0     Transient   \n",
       "1                0                     0     Transient   \n",
       "\n",
       "   required_car_parking_spaces  total_of_special_requests  total_nights  \n",
       "0                            0                          0             1  \n",
       "1                            0                          1             4  "
      ]
     },
     "execution_count": 140,
     "metadata": {},
     "output_type": "execute_result"
    },
    {
     "name": "stdout",
     "output_type": "stream",
     "text": [
      "<class 'pandas.core.frame.DataFrame'>\n",
      "RangeIndex: 32412 entries, 0 to 32411\n",
      "Data columns (total 25 columns):\n",
      " #   Column                          Non-Null Count  Dtype  \n",
      "---  ------                          --------------  -----  \n",
      " 0   id                              32412 non-null  int64  \n",
      " 1   is_canceled                     32412 non-null  int64  \n",
      " 2   lead_time                       32412 non-null  float64\n",
      " 3   arrival_date_year               32412 non-null  int64  \n",
      " 4   arrival_date_month              32412 non-null  object \n",
      " 5   arrival_date_week_number        32412 non-null  int64  \n",
      " 6   arrival_date_day_of_month       32412 non-null  int64  \n",
      " 7   stays_in_weekend_nights         32412 non-null  int64  \n",
      " 8   stays_in_week_nights            32412 non-null  int64  \n",
      " 9   adults                          32412 non-null  float64\n",
      " 10  children                        32412 non-null  float64\n",
      " 11  babies                          32412 non-null  float64\n",
      " 12  meal                            32412 non-null  object \n",
      " 13  country                         32412 non-null  object \n",
      " 14  distribution_channel            32412 non-null  object \n",
      " 15  is_repeated_guest               32412 non-null  int64  \n",
      " 16  previous_cancellations          32412 non-null  int64  \n",
      " 17  previous_bookings_not_canceled  32412 non-null  int64  \n",
      " 18  reserved_room_type              32412 non-null  object \n",
      " 19  booking_changes                 32412 non-null  int64  \n",
      " 20  days_in_waiting_list            32412 non-null  int64  \n",
      " 21  customer_type                   32412 non-null  object \n",
      " 22  required_car_parking_spaces     32412 non-null  int64  \n",
      " 23  total_of_special_requests       32412 non-null  int64  \n",
      " 24  total_nights                    32412 non-null  int64  \n",
      "dtypes: float64(4), int64(15), object(6)\n",
      "memory usage: 6.2+ MB\n"
     ]
    }
   ],
   "source": [
    "data_test.head(2)\n",
    "data_test.info()"
   ]
  },
  {
   "cell_type": "code",
   "execution_count": 141,
   "metadata": {},
   "outputs": [],
   "source": [
    "# Удалим ненужные пробелы в данных таблицы data_train:\n",
    "\n",
    "data_train['reserved_room_type'] = data_train['reserved_room_type'].apply(lambda x:x.strip())\n",
    "data_train['meal'] = data_train['meal'].apply(lambda x:x.strip())"
   ]
  },
  {
   "cell_type": "code",
   "execution_count": 142,
   "metadata": {},
   "outputs": [],
   "source": [
    "# Удалим ненужные пробелы в данных таблицы data_test:\n",
    "\n",
    "data_test['reserved_room_type'] = data_test['reserved_room_type'].apply(lambda x:x.strip())\n",
    "data_test['meal'] = data_test['meal'].apply(lambda x:x.strip())"
   ]
  },
  {
   "cell_type": "code",
   "execution_count": 143,
   "metadata": {},
   "outputs": [
    {
     "name": "stdout",
     "output_type": "stream",
     "text": [
      "0    41185\n",
      "1    24044\n",
      "Name: is_canceled, dtype: int64\n",
      "0    19821\n",
      "1    12591\n",
      "Name: is_canceled, dtype: int64\n"
     ]
    }
   ],
   "source": [
    "# Проверим количество уникальных совпадений в значимой для исследования колонке (отмена брони): \n",
    "\n",
    "print(data_train.is_canceled.value_counts())\n",
    "print(data_test.is_canceled.value_counts())"
   ]
  },
  {
   "cell_type": "code",
   "execution_count": 144,
   "metadata": {},
   "outputs": [
    {
     "data": {
      "image/png": "[encoded data removed]",
      "text/plain": [
       "<Figure size 1152x864 with 20 Axes>"
      ]
     },
     "metadata": {
      "needs_background": "light"
     },
     "output_type": "display_data"
    }
   ],
   "source": [
    "# Изучим распределения значений в данных:\n",
    "\n",
    "data_train.hist(figsize=[16,12]);\n"
   ]
  },
  {
   "cell_type": "code",
   "execution_count": 145,
   "metadata": {},
   "outputs": [
    {
     "name": "stdout",
     "output_type": "stream",
     "text": [
      "arrival_date_month\n",
      "October      9255\n",
      "September    8782\n",
      "August       6678\n",
      "November     5761\n",
      "July         5718\n",
      "December     5497\n",
      "April        4804\n",
      "May          4677\n",
      "June         4659\n",
      "March        4148\n",
      "February     3358\n",
      "January      1892\n",
      "Name: arrival_date_month, dtype: int64\n",
      "_______________\n",
      "meal\n",
      "BB    51697\n",
      "HB     7292\n",
      "SC     5789\n",
      "FB      451\n",
      "Name: meal, dtype: int64\n",
      "_______________\n",
      "country\n",
      "PRT    28831\n",
      "FRA     5974\n",
      "GBR     5109\n",
      "ESP     4900\n",
      "DEU     3887\n",
      "       ...  \n",
      "LCA        1\n",
      "ABW        1\n",
      "ZMB        1\n",
      "BEN        1\n",
      "BHR        1\n",
      "Name: country, Length: 155, dtype: int64\n",
      "_______________\n",
      "distribution_channel\n",
      "TA/TO        54454\n",
      "Direct        6853\n",
      "Corporate     3823\n",
      "GDS             99\n",
      "Name: distribution_channel, dtype: int64\n",
      "_______________\n",
      "reserved_room_type\n",
      "A    50501\n",
      "D     9387\n",
      "E     2448\n",
      "F     1213\n",
      "B      860\n",
      "G      592\n",
      "C      228\n",
      "Name: reserved_room_type, dtype: int64\n",
      "_______________\n",
      "customer_type\n",
      "Transient          45493\n",
      "Transient-Party    16703\n",
      "Contract            2746\n",
      "Group                287\n",
      "Name: customer_type, dtype: int64\n",
      "_______________\n"
     ]
    }
   ],
   "source": [
    "# Изучим содержание колонок с категориальными переменными обучающей выборки:\n",
    "\n",
    "for col in data_train.select_dtypes(['object']).columns:\n",
    "    print(col)\n",
    "    print(data_train[col].value_counts())\n",
    "    print('_______________')"
   ]
  },
  {
   "cell_type": "code",
   "execution_count": 146,
   "metadata": {},
   "outputs": [
    {
     "name": "stdout",
     "output_type": "stream",
     "text": [
      "arrival_date_month\n",
      "May         5262\n",
      "April       4878\n",
      "June        4580\n",
      "March       4277\n",
      "July        3626\n",
      "February    3543\n",
      "January     3150\n",
      "August      3096\n",
      "Name: arrival_date_month, dtype: int64\n",
      "_______________\n",
      "meal\n",
      "BB    24684\n",
      "SC     5293\n",
      "HB     2399\n",
      "FB       36\n",
      "Name: meal, dtype: int64\n",
      "_______________\n",
      "country\n",
      "PRT    9887\n",
      "GBR    3927\n",
      "FRA    3477\n",
      "DEU    2378\n",
      "ESP    1932\n",
      "       ... \n",
      "ABW       1\n",
      "UMI       1\n",
      "NCL       1\n",
      "GAB       1\n",
      "TZA       1\n",
      "Name: country, Length: 143, dtype: int64\n",
      "_______________\n",
      "distribution_channel\n",
      "TA/TO        27083\n",
      "Direct        3642\n",
      "Corporate     1602\n",
      "GDS             85\n",
      "Name: distribution_channel, dtype: int64\n",
      "_______________\n",
      "reserved_room_type\n",
      "A    23471\n",
      "D     6123\n",
      "E     1644\n",
      "F      503\n",
      "G      278\n",
      "C      201\n",
      "B      192\n",
      "Name: reserved_room_type, dtype: int64\n",
      "_______________\n",
      "customer_type\n",
      "Transient          27461\n",
      "Transient-Party     4427\n",
      "Contract             359\n",
      "Group                165\n",
      "Name: customer_type, dtype: int64\n",
      "_______________\n"
     ]
    }
   ],
   "source": [
    "# Изучим содержание колонок с категориальными переменными тестовой выборки:\n",
    "\n",
    "for col in data_test.select_dtypes(['object']).columns:\n",
    "    print(col)\n",
    "    print(data_test[col].value_counts())\n",
    "    print('_______________')"
   ]
  },
  {
   "cell_type": "markdown",
   "metadata": {},
   "source": [
    "# NB!\n",
    "\n",
    "В данных столбца **'country'** есть перечень стран с низкими количественными показателями, чтобы в дальнейшем не затруднять работу модели - объединим их в значение 'OTHER'. \n",
    "\n",
    "Также, удалим колонки **'children','babies'** - т.к. они не влияют на результат, а колонку **'adults'** очистим от нулевых значений и пропусков.\n",
    "\n",
    "Замену сделаем для обеих выборок"
   ]
  },
  {
   "cell_type": "code",
   "execution_count": 147,
   "metadata": {},
   "outputs": [
    {
     "data": {
      "text/plain": [
       "Index(['PRT', 'FRA', 'GBR', 'ESP', 'DEU', 'ITA', 'IRL', 'BEL', 'NLD', 'BRA',\n",
       "       'USA'],\n",
       "      dtype='object')"
      ]
     },
     "execution_count": 147,
     "metadata": {},
     "output_type": "execute_result"
    }
   ],
   "source": [
    "use_countries = data_train['country'].value_counts().head(11).index\n",
    "use_countries"
   ]
  },
  {
   "cell_type": "code",
   "execution_count": 148,
   "metadata": {},
   "outputs": [],
   "source": [
    "data_train['country'] = data_train.apply( lambda row: row.country if row.country in  use_countries  else 'OTHER', axis=1)"
   ]
  },
  {
   "cell_type": "code",
   "execution_count": 149,
   "metadata": {},
   "outputs": [],
   "source": [
    "data_test['country'] = data_test.apply( lambda row: row.country if row.country in  use_countries  else 'OTHER', axis=1)"
   ]
  },
  {
   "cell_type": "code",
   "execution_count": 150,
   "metadata": {},
   "outputs": [],
   "source": [
    "data_train.drop(columns = ['children','babies'],axis = 1, inplace=True)"
   ]
  },
  {
   "cell_type": "code",
   "execution_count": 151,
   "metadata": {},
   "outputs": [],
   "source": [
    "data_test.drop(columns = ['children','babies'],axis = 1, inplace=True)"
   ]
  },
  {
   "cell_type": "code",
   "execution_count": 152,
   "metadata": {},
   "outputs": [
    {
     "name": "stdout",
     "output_type": "stream",
     "text": [
      " Количество дубликатов в data_train: 0 \n",
      " Количество дубликатов в data_test: 0\n"
     ]
    }
   ],
   "source": [
    "print(' Количество дубликатов в data_train:', data_train.duplicated().sum(),\n",
    "    '\\n','Количество дубликатов в data_test:', data_test.duplicated().sum())"
   ]
  },
  {
   "cell_type": "markdown",
   "metadata": {},
   "source": [
    "# Вывод:  \n",
    "\n",
    "* Общее распределение данных довольно полное и равномерное\n",
    "* Пропусков и дубликатов обнаружено не было\n",
    "* В некоторых столбцах были дополнительные пробелы, которые были исправлены\n",
    "* В некоторых столбцах был изменен тип данных\n",
    "* Также, произведено объеденение общих по занчению но разных по количеству показателей (страны откуда прибывали гости отеля), имеющих более низкое количество относительно других"
   ]
  },
  {
   "cell_type": "code",
   "execution_count": 170,
   "metadata": {},
   "outputs": [],
   "source": [
    "data_train['adults'] = data_train.loc[data_train['adults']!=0]\n",
    "data_test['adults'] = data_test.loc[data_train['adults']!=0]"
   ]
  },
  {
   "cell_type": "code",
   "execution_count": 154,
   "metadata": {},
   "outputs": [],
   "source": [
    "#data_train['adults'] = data_train.dropna(subset=['adults'])\n",
    "#data_test['adults'] = data_test.dropna(subset=['adults'])"
   ]
  },
  {
   "cell_type": "code",
   "execution_count": 171,
   "metadata": {},
   "outputs": [],
   "source": [
    "data_train['adults'] = data_train['adults'].fillna(1)\n",
    "data_test['adults'] = data_test['adults'].fillna(1)"
   ]
  },
  {
   "cell_type": "code",
   "execution_count": 192,
   "metadata": {},
   "outputs": [
    {
     "data": {
      "text/plain": [
       "1.0        2\n",
       "17653.0    1\n",
       "41920.0    1\n",
       "80561.0    1\n",
       "62850.0    1\n",
       "          ..\n",
       "4476.0     1\n",
       "75954.0    1\n",
       "27691.0    1\n",
       "73074.0    1\n",
       "57889.0    1\n",
       "Name: adults, Length: 65228, dtype: int64"
      ]
     },
     "execution_count": 192,
     "metadata": {},
     "output_type": "execute_result"
    },
    {
     "data": {
      "text/plain": [
       "6147     1\n",
       "23159    1\n",
       "23422    1\n",
       "87566    1\n",
       "84860    1\n",
       "        ..\n",
       "52819    1\n",
       "50770    1\n",
       "54864    1\n",
       "91856    1\n",
       "88225    1\n",
       "Name: adults, Length: 32412, dtype: int64"
      ]
     },
     "execution_count": 192,
     "metadata": {},
     "output_type": "execute_result"
    },
    {
     "name": "stdout",
     "output_type": "stream",
     "text": [
      "<class 'pandas.core.frame.DataFrame'>\n",
      "RangeIndex: 65229 entries, 0 to 65228\n",
      "Data columns (total 26 columns):\n",
      " #   Column                          Non-Null Count  Dtype  \n",
      "---  ------                          --------------  -----  \n",
      " 0   id                              65229 non-null  int64  \n",
      " 1   is_canceled                     65229 non-null  int64  \n",
      " 2   lead_time                       65229 non-null  float64\n",
      " 3   arrival_date_year               65229 non-null  int64  \n",
      " 4   arrival_date_month              65229 non-null  object \n",
      " 5   arrival_date_week_number        65229 non-null  int64  \n",
      " 6   arrival_date_day_of_month       65229 non-null  int64  \n",
      " 7   stays_in_weekend_nights         65229 non-null  int64  \n",
      " 8   stays_in_week_nights            65229 non-null  int64  \n",
      " 9   adults                          65229 non-null  float64\n",
      " 10  meal                            65229 non-null  object \n",
      " 11  country                         65229 non-null  object \n",
      " 12  distribution_channel            65229 non-null  object \n",
      " 13  is_repeated_guest               65229 non-null  int64  \n",
      " 14  previous_cancellations          65229 non-null  int64  \n",
      " 15  previous_bookings_not_canceled  65229 non-null  int64  \n",
      " 16  reserved_room_type              65229 non-null  object \n",
      " 17  booking_changes                 65229 non-null  int64  \n",
      " 18  days_in_waiting_list            65229 non-null  int64  \n",
      " 19  customer_type                   65229 non-null  object \n",
      " 20  required_car_parking_spaces     65229 non-null  int64  \n",
      " 21  total_of_special_requests       65229 non-null  int64  \n",
      " 22  total_nights                    65229 non-null  int64  \n",
      " 23  income                          65229 non-null  float64\n",
      " 24  cost                            65229 non-null  int64  \n",
      " 25  canc                            65229 non-null  float64\n",
      "dtypes: float64(4), int64(16), object(6)\n",
      "memory usage: 12.9+ MB\n",
      "<class 'pandas.core.frame.DataFrame'>\n",
      "RangeIndex: 32412 entries, 0 to 32411\n",
      "Data columns (total 26 columns):\n",
      " #   Column                          Non-Null Count  Dtype  \n",
      "---  ------                          --------------  -----  \n",
      " 0   id                              32412 non-null  int64  \n",
      " 1   is_canceled                     32412 non-null  int64  \n",
      " 2   lead_time                       32412 non-null  float64\n",
      " 3   arrival_date_year               32412 non-null  int64  \n",
      " 4   arrival_date_month              32412 non-null  object \n",
      " 5   arrival_date_week_number        32412 non-null  int64  \n",
      " 6   arrival_date_day_of_month       32412 non-null  int64  \n",
      " 7   stays_in_weekend_nights         32412 non-null  int64  \n",
      " 8   stays_in_week_nights            32412 non-null  int64  \n",
      " 9   adults                          32412 non-null  int64  \n",
      " 10  meal                            32412 non-null  object \n",
      " 11  country                         32412 non-null  object \n",
      " 12  distribution_channel            32412 non-null  object \n",
      " 13  is_repeated_guest               32412 non-null  int64  \n",
      " 14  previous_cancellations          32412 non-null  int64  \n",
      " 15  previous_bookings_not_canceled  32412 non-null  int64  \n",
      " 16  reserved_room_type              32412 non-null  object \n",
      " 17  booking_changes                 32412 non-null  int64  \n",
      " 18  days_in_waiting_list            32412 non-null  int64  \n",
      " 19  customer_type                   32412 non-null  object \n",
      " 20  required_car_parking_spaces     32412 non-null  int64  \n",
      " 21  total_of_special_requests       32412 non-null  int64  \n",
      " 22  total_nights                    32412 non-null  int64  \n",
      " 23  income                          32412 non-null  float64\n",
      " 24  cost                            32412 non-null  int64  \n",
      " 25  canc                            32412 non-null  float64\n",
      "dtypes: float64(3), int64(17), object(6)\n",
      "memory usage: 6.4+ MB\n"
     ]
    }
   ],
   "source": [
    "#Код ревьюера\n",
    "data_train.adults.value_counts()\n",
    "data_test.adults.value_counts()\n",
    "data_train.info()\n",
    "data_test.info()"
   ]
  },
  {
   "cell_type": "markdown",
   "metadata": {},
   "source": [
    "# Шаг 3. Вычисление бизнес-метрики  \n",
    "\n",
    "Оценим прибыль отеля без внедрения депозитов"
   ]
  },
  {
   "cell_type": "code",
   "execution_count": 173,
   "metadata": {},
   "outputs": [],
   "source": [
    "# Создадим переменные - Стоимости и - Расходов номеров отеля по их типам:\n",
    "\n",
    "# категория A: за ночь — 1 000, разовое обслуживание — 400\n",
    "# категория B: за ночь — 800, разовое обслуживание — 350\n",
    "# категория C: за ночь — 600, разовое обслуживание — 350\n",
    "# категория D: за ночь — 550, разовое обслуживание — 150\n",
    "# категория E: за ночь — 500, разовое обслуживание — 150\n",
    "# категория F: за ночь — 450, разовое обслуживание — 150\n",
    "# категория G: за ночь — 350, разовое обслуживание — 150\n",
    "\n",
    "prices = {\"A\" : 1000, \"B\" : 800, \"C\" : 600, \"D\" : 550, \"E\" : 500, \"F\":450, \"G\":350}\n",
    "costs = {\"A\" : 400, \"B\" : 350, \"C\" : 350, \"D\" : 150, \"E\" : 150, \"F\":150, \"G\":150}\n"
   ]
  },
  {
   "cell_type": "code",
   "execution_count": 174,
   "metadata": {},
   "outputs": [],
   "source": [
    "# Функция для вычисления расходов на обслуживание номера с учетом его типа:\n",
    "\n",
    "def get_cost (row):\n",
    "    if row.is_canceled == 1:\n",
    "        return 0\n",
    "    if row.total_nights <= 2:\n",
    "        return costs[row.reserved_room_type]\n",
    "    else:\n",
    "        return costs[row.reserved_room_type]*(row.total_nights//2+1)"
   ]
  },
  {
   "cell_type": "code",
   "execution_count": 175,
   "metadata": {},
   "outputs": [],
   "source": [
    "# Функция для вычисления выручки за номер с учетом его типа и сезонного коэффицента:\n",
    "\n",
    "def get_income (row):  \n",
    "    \n",
    "    if row.arrival_date_month in ['June','July','August']:\n",
    "        coef =1.4\n",
    "    elif row.arrival_date_month in ['December','February','January']:\n",
    "        coef = 1\n",
    "    else:\n",
    "        coef = 1.2\n",
    "        \n",
    "    if  row.is_canceled == 1:    \n",
    "        coef = 0\n",
    "        \n",
    "    return prices[row.reserved_room_type]*(row.total_nights)*coef"
   ]
  },
  {
   "cell_type": "code",
   "execution_count": 176,
   "metadata": {},
   "outputs": [],
   "source": [
    "# Функция вычисления убытка при отмене бронирования с учетом типа номера и коэффицента сезонности:\n",
    "\n",
    "def canc (row):   \n",
    "    if row.arrival_date_month in ['June','July','August']:\n",
    "        coef =1.4\n",
    "    elif row.arrival_date_month in ['December','February','January']:\n",
    "        coef = 1\n",
    "    else:\n",
    "        coef = 1.2\n",
    "    if row.is_canceled == 1: \n",
    "        cancelled_cost = prices[row.reserved_room_type]*coef + costs[row.reserved_room_type]*coef\n",
    "    if row.is_canceled == 0:\n",
    "        cancelled_cost = 0\n",
    "    return cancelled_cost"
   ]
  },
  {
   "cell_type": "code",
   "execution_count": 177,
   "metadata": {},
   "outputs": [],
   "source": [
    "# Добавим новые столбцы в обучающую таблицу:\n",
    "\n",
    "data_train['income'] = data_train.apply(get_income, axis=1)\n",
    "data_train['cost'] = data_train.apply(get_cost, axis=1)\n",
    "data_train['canc'] = data_train.apply(canc, axis=1)"
   ]
  },
  {
   "cell_type": "code",
   "execution_count": 178,
   "metadata": {},
   "outputs": [
    {
     "name": "stdout",
     "output_type": "stream",
     "text": [
      "Сумма выручки за период равна: 132498270.0\n",
      "Сумма расходов на обслуживание номеров за период равна: 27421100\n",
      "Сумма прибыли отеля за период равна: 105077170.0\n",
      "Сумма упущенной выгоды из за отмены брони за период равна: 37601230.0\n"
     ]
    }
   ],
   "source": [
    "print('Сумма выручки за период равна:', data_train['income'].sum())\n",
    "print('Сумма расходов на обслуживание номеров за период равна:', data_train['cost'].sum())\n",
    "print('Сумма прибыли отеля за период равна:', data_train['income'].sum()-data_train['cost'].sum())\n",
    "print('Сумма упущенной выгоды из за отмены брони за период равна:', data_train['canc'].sum())"
   ]
  },
  {
   "cell_type": "code",
   "execution_count": 179,
   "metadata": {},
   "outputs": [],
   "source": [
    "# Расчет для тестовой выборки:\n",
    "\n",
    "data_test['income'] = data_test.apply(get_income, axis=1)\n",
    "data_test['cost'] = data_test.apply(get_cost, axis=1)\n",
    "data_test['canc'] = data_test.apply(canc, axis=1)"
   ]
  },
  {
   "cell_type": "code",
   "execution_count": 180,
   "metadata": {},
   "outputs": [
    {
     "name": "stdout",
     "output_type": "stream",
     "text": [
      "Сумма выручки за период равна: 65288980.0\n",
      "Сумма расходов на обслуживание номеров за период равна: 13339450\n",
      "Сумма прибыли отеля за период равна: 51949530.0\n",
      "Сумма упущенной выгоды из за отмены брони за период равна: 19046800.0\n"
     ]
    }
   ],
   "source": [
    "print('Сумма выручки за период равна:', data_test['income'].sum())\n",
    "print('Сумма расходов на обслуживание номеров за период равна:', data_test['cost'].sum())\n",
    "print('Сумма прибыли отеля за период равна:', data_test['income'].sum()-data_test['cost'].sum())\n",
    "print('Сумма упущенной выгоды из за отмены брони за период равна:', data_test['canc'].sum())"
   ]
  },
  {
   "cell_type": "markdown",
   "metadata": {},
   "source": [
    "# Вывод по обучающей выборке (период 2015-2016):\n",
    "\n",
    "* Сумма упущенной выгоды из за отмены брони за период равна: **37 601 230.0**, что составляет около **27%**  от выручки за указанный период.\n",
    "* **27%** достаточное значение, чтобы считать проблему весомой для предприятия, таким образом необходимость во внедрении системы определения потенциально проблемного клиента и внесения им безвозвратной предоплаты, имеет место"
   ]
  },
  {
   "cell_type": "markdown",
   "metadata": {},
   "source": [
    "# Вывод по тестовой выборке (8 мес. 2017 год):  \n",
    "\n",
    "* Сумма упущенной выгоды из за отмены брони за период равна: **19 046 800.0**, что составляет около 30 % от выручки за указанный период."
   ]
  },
  {
   "cell_type": "markdown",
   "metadata": {},
   "source": [
    "# Шаг 4. Разработка модели ML\n",
    "\n",
    "* Обучение разных моделей и оценка их качества кросс-валидацией.  \n",
    "* Выбор лучшей модели и проверка её на тестовой выборке.   \n",
    "* Описание выводов.  \n",
    "* Выбор метрики для обучения.  \n",
    "* Оценка прибыли, которую принесёт выбранная модель за год  "
   ]
  },
  {
   "cell_type": "code",
   "execution_count": 181,
   "metadata": {},
   "outputs": [
    {
     "data": {
      "text/html": [
       "<div>\n",
       "<style scoped>\n",
       "    .dataframe tbody tr th:only-of-type {\n",
       "        vertical-align: middle;\n",
       "    }\n",
       "\n",
       "    .dataframe tbody tr th {\n",
       "        vertical-align: top;\n",
       "    }\n",
       "\n",
       "    .dataframe thead th {\n",
       "        text-align: right;\n",
       "    }\n",
       "</style>\n",
       "<table border=\"1\" class=\"dataframe\">\n",
       "  <thead>\n",
       "    <tr style=\"text-align: right;\">\n",
       "      <th></th>\n",
       "      <th>id</th>\n",
       "      <th>is_canceled</th>\n",
       "      <th>lead_time</th>\n",
       "      <th>arrival_date_year</th>\n",
       "      <th>arrival_date_month</th>\n",
       "      <th>arrival_date_week_number</th>\n",
       "      <th>arrival_date_day_of_month</th>\n",
       "      <th>stays_in_weekend_nights</th>\n",
       "      <th>stays_in_week_nights</th>\n",
       "      <th>adults</th>\n",
       "      <th>meal</th>\n",
       "      <th>country</th>\n",
       "      <th>distribution_channel</th>\n",
       "      <th>is_repeated_guest</th>\n",
       "      <th>previous_cancellations</th>\n",
       "      <th>previous_bookings_not_canceled</th>\n",
       "      <th>reserved_room_type</th>\n",
       "      <th>booking_changes</th>\n",
       "      <th>days_in_waiting_list</th>\n",
       "      <th>customer_type</th>\n",
       "      <th>required_car_parking_spaces</th>\n",
       "      <th>total_of_special_requests</th>\n",
       "      <th>total_nights</th>\n",
       "      <th>income</th>\n",
       "      <th>cost</th>\n",
       "      <th>canc</th>\n",
       "    </tr>\n",
       "  </thead>\n",
       "  <tbody>\n",
       "    <tr>\n",
       "      <th>0</th>\n",
       "      <td>0</td>\n",
       "      <td>0</td>\n",
       "      <td>7.0</td>\n",
       "      <td>2015</td>\n",
       "      <td>July</td>\n",
       "      <td>27</td>\n",
       "      <td>1</td>\n",
       "      <td>0</td>\n",
       "      <td>1</td>\n",
       "      <td>1.0</td>\n",
       "      <td>BB</td>\n",
       "      <td>GBR</td>\n",
       "      <td>Direct</td>\n",
       "      <td>0</td>\n",
       "      <td>0</td>\n",
       "      <td>0</td>\n",
       "      <td>A</td>\n",
       "      <td>0</td>\n",
       "      <td>0</td>\n",
       "      <td>Transient</td>\n",
       "      <td>0</td>\n",
       "      <td>0</td>\n",
       "      <td>1</td>\n",
       "      <td>1400.0</td>\n",
       "      <td>400</td>\n",
       "      <td>0.0</td>\n",
       "    </tr>\n",
       "    <tr>\n",
       "      <th>1</th>\n",
       "      <td>1</td>\n",
       "      <td>0</td>\n",
       "      <td>14.0</td>\n",
       "      <td>2015</td>\n",
       "      <td>July</td>\n",
       "      <td>27</td>\n",
       "      <td>1</td>\n",
       "      <td>0</td>\n",
       "      <td>2</td>\n",
       "      <td>1.0</td>\n",
       "      <td>BB</td>\n",
       "      <td>GBR</td>\n",
       "      <td>TA/TO</td>\n",
       "      <td>0</td>\n",
       "      <td>0</td>\n",
       "      <td>0</td>\n",
       "      <td>A</td>\n",
       "      <td>0</td>\n",
       "      <td>0</td>\n",
       "      <td>Transient</td>\n",
       "      <td>0</td>\n",
       "      <td>1</td>\n",
       "      <td>2</td>\n",
       "      <td>2800.0</td>\n",
       "      <td>400</td>\n",
       "      <td>0.0</td>\n",
       "    </tr>\n",
       "    <tr>\n",
       "      <th>2</th>\n",
       "      <td>2</td>\n",
       "      <td>0</td>\n",
       "      <td>0.0</td>\n",
       "      <td>2015</td>\n",
       "      <td>July</td>\n",
       "      <td>27</td>\n",
       "      <td>1</td>\n",
       "      <td>0</td>\n",
       "      <td>2</td>\n",
       "      <td>2.0</td>\n",
       "      <td>BB</td>\n",
       "      <td>PRT</td>\n",
       "      <td>Direct</td>\n",
       "      <td>0</td>\n",
       "      <td>0</td>\n",
       "      <td>0</td>\n",
       "      <td>C</td>\n",
       "      <td>0</td>\n",
       "      <td>0</td>\n",
       "      <td>Transient</td>\n",
       "      <td>0</td>\n",
       "      <td>0</td>\n",
       "      <td>2</td>\n",
       "      <td>1680.0</td>\n",
       "      <td>350</td>\n",
       "      <td>0.0</td>\n",
       "    </tr>\n",
       "    <tr>\n",
       "      <th>3</th>\n",
       "      <td>3</td>\n",
       "      <td>0</td>\n",
       "      <td>9.0</td>\n",
       "      <td>2015</td>\n",
       "      <td>July</td>\n",
       "      <td>27</td>\n",
       "      <td>1</td>\n",
       "      <td>0</td>\n",
       "      <td>2</td>\n",
       "      <td>3.0</td>\n",
       "      <td>FB</td>\n",
       "      <td>PRT</td>\n",
       "      <td>Direct</td>\n",
       "      <td>0</td>\n",
       "      <td>0</td>\n",
       "      <td>0</td>\n",
       "      <td>C</td>\n",
       "      <td>0</td>\n",
       "      <td>0</td>\n",
       "      <td>Transient</td>\n",
       "      <td>0</td>\n",
       "      <td>1</td>\n",
       "      <td>2</td>\n",
       "      <td>1680.0</td>\n",
       "      <td>350</td>\n",
       "      <td>0.0</td>\n",
       "    </tr>\n",
       "    <tr>\n",
       "      <th>4</th>\n",
       "      <td>4</td>\n",
       "      <td>1</td>\n",
       "      <td>85.0</td>\n",
       "      <td>2015</td>\n",
       "      <td>July</td>\n",
       "      <td>27</td>\n",
       "      <td>1</td>\n",
       "      <td>0</td>\n",
       "      <td>3</td>\n",
       "      <td>4.0</td>\n",
       "      <td>BB</td>\n",
       "      <td>PRT</td>\n",
       "      <td>TA/TO</td>\n",
       "      <td>0</td>\n",
       "      <td>0</td>\n",
       "      <td>0</td>\n",
       "      <td>A</td>\n",
       "      <td>0</td>\n",
       "      <td>0</td>\n",
       "      <td>Transient</td>\n",
       "      <td>0</td>\n",
       "      <td>1</td>\n",
       "      <td>3</td>\n",
       "      <td>0.0</td>\n",
       "      <td>0</td>\n",
       "      <td>1960.0</td>\n",
       "    </tr>\n",
       "  </tbody>\n",
       "</table>\n",
       "</div>"
      ],
      "text/plain": [
       "   id  is_canceled  lead_time  arrival_date_year arrival_date_month  \\\n",
       "0   0            0        7.0               2015               July   \n",
       "1   1            0       14.0               2015               July   \n",
       "2   2            0        0.0               2015               July   \n",
       "3   3            0        9.0               2015               July   \n",
       "4   4            1       85.0               2015               July   \n",
       "\n",
       "   arrival_date_week_number  arrival_date_day_of_month  \\\n",
       "0                        27                          1   \n",
       "1                        27                          1   \n",
       "2                        27                          1   \n",
       "3                        27                          1   \n",
       "4                        27                          1   \n",
       "\n",
       "   stays_in_weekend_nights  stays_in_week_nights  adults meal country  \\\n",
       "0                        0                     1     1.0   BB     GBR   \n",
       "1                        0                     2     1.0   BB     GBR   \n",
       "2                        0                     2     2.0   BB     PRT   \n",
       "3                        0                     2     3.0   FB     PRT   \n",
       "4                        0                     3     4.0   BB     PRT   \n",
       "\n",
       "  distribution_channel  is_repeated_guest  previous_cancellations  \\\n",
       "0               Direct                  0                       0   \n",
       "1                TA/TO                  0                       0   \n",
       "2               Direct                  0                       0   \n",
       "3               Direct                  0                       0   \n",
       "4                TA/TO                  0                       0   \n",
       "\n",
       "   previous_bookings_not_canceled reserved_room_type  booking_changes  \\\n",
       "0                               0                  A                0   \n",
       "1                               0                  A                0   \n",
       "2                               0                  C                0   \n",
       "3                               0                  C                0   \n",
       "4                               0                  A                0   \n",
       "\n",
       "   days_in_waiting_list customer_type  required_car_parking_spaces  \\\n",
       "0                     0     Transient                            0   \n",
       "1                     0     Transient                            0   \n",
       "2                     0     Transient                            0   \n",
       "3                     0     Transient                            0   \n",
       "4                     0     Transient                            0   \n",
       "\n",
       "   total_of_special_requests  total_nights  income  cost    canc  \n",
       "0                          0             1  1400.0   400     0.0  \n",
       "1                          1             2  2800.0   400     0.0  \n",
       "2                          0             2  1680.0   350     0.0  \n",
       "3                          1             2  1680.0   350     0.0  \n",
       "4                          1             3     0.0     0  1960.0  "
      ]
     },
     "metadata": {},
     "output_type": "display_data"
    }
   ],
   "source": [
    "pd.set_option('display.max_columns',100)\n",
    "display(data_train.head(5))"
   ]
  },
  {
   "cell_type": "code",
   "execution_count": 182,
   "metadata": {},
   "outputs": [],
   "source": [
    "# Предобработка для модели - определим списки используемых столбцов:\n",
    "\n",
    "target_value = 'is_canceled' # целевая переменная\n",
    "\n",
    "data_cat = ['arrival_date_month','meal','country','distribution_channel','is_repeated_guest','reserved_room_type',\n",
    "            'customer_type',]  # категориальная переменная\n",
    "\n",
    "data_col = ['lead_time','arrival_date_day_of_month','stays_in_weekend_nights','stays_in_week_nights','adults',\n",
    "           'previous_cancellations','previous_bookings_not_canceled','booking_changes','days_in_waiting_list',\n",
    "            'required_car_parking_spaces','total_of_special_requests','total_nights'] # количественная переменная"
   ]
  },
  {
   "cell_type": "markdown",
   "metadata": {},
   "source": [
    "Проведем преобразование категориальных признаков в численные техникой One-Hot Encoding"
   ]
  },
  {
   "cell_type": "code",
   "execution_count": 183,
   "metadata": {},
   "outputs": [
    {
     "data": {
      "text/plain": [
       "OneHotEncoder(drop='first')"
      ]
     },
     "execution_count": 183,
     "metadata": {},
     "output_type": "execute_result"
    }
   ],
   "source": [
    "enc = OneHotEncoder( drop='first')\n",
    "enc.fit(data_train[data_cat])"
   ]
  },
  {
   "cell_type": "code",
   "execution_count": 184,
   "metadata": {},
   "outputs": [],
   "source": [
    "onehot_train = pd.DataFrame(enc.transform(data_train[data_cat]).toarray(), columns = enc.get_feature_names(data_cat))"
   ]
  },
  {
   "cell_type": "code",
   "execution_count": 185,
   "metadata": {},
   "outputs": [],
   "source": [
    "onehot_test = pd.DataFrame(enc.transform(data_test[data_cat]).toarray(),columns = enc.get_feature_names(data_cat))"
   ]
  },
  {
   "cell_type": "code",
   "execution_count": 186,
   "metadata": {},
   "outputs": [],
   "source": [
    "onehot_train= pd.concat([onehot_train,data_train[data_col]],axis=1)"
   ]
  },
  {
   "cell_type": "code",
   "execution_count": 187,
   "metadata": {},
   "outputs": [],
   "source": [
    "onehot_test= pd.concat([onehot_test,data_test[data_col]],axis=1)"
   ]
  },
  {
   "cell_type": "code",
   "execution_count": 188,
   "metadata": {},
   "outputs": [],
   "source": [
    "#onehot_test.info()"
   ]
  },
  {
   "cell_type": "markdown",
   "metadata": {},
   "source": [
    "**Проверим несколько моделей по разным метрикам, таким как:**\n",
    "\n",
    "Хорошо, когда значение **recall** близко к единице: модель хорошо ищет положительные объекты.  \n",
    "Если ближе к нулю — модель надо перепроверить и починить.\n",
    "\n",
    "Точность **precision** определяет, как много отрицательных ответов нашла модель, пока искала положительные. Чем больше отрицательных, тем ниже точность.\n",
    "\n",
    "Полнота и точность оценивают качество прогноза положительного класса с разных позиций. Recall описывает, как хорошо модель разобралась в особенностях этого класса и распознала его. \n",
    "Precision выявляет, не переусердствует ли модель, присваивая положительные метки.\n",
    "\n",
    "Контролировать их параллельно помогают агрегирующие метрики, одна из которых — **F1-score**. Это среднее гармоническое полноты и точности. Единица в F1 означает, что соотношение полноты и точности равно 1:1."
   ]
  },
  {
   "cell_type": "markdown",
   "metadata": {},
   "source": [
    "**Сначала проверим модель Логистической регрессии:**"
   ]
  },
  {
   "cell_type": "code",
   "execution_count": 189,
   "metadata": {},
   "outputs": [
    {
     "data": {
      "text/plain": [
       "LogisticRegression(max_iter=1000, random_state=12345)"
      ]
     },
     "execution_count": 189,
     "metadata": {},
     "output_type": "execute_result"
    },
    {
     "name": "stdout",
     "output_type": "stream",
     "text": [
      "0.7848043048337396\n"
     ]
    }
   ],
   "source": [
    "# Accuracy модели:\n",
    "\n",
    "features = onehot_train\n",
    "target = data_train[target_value]\n",
    "\n",
    "model_log = LogisticRegression(random_state=12345, solver='lbfgs', max_iter=1000)\n",
    "model_log.fit(features, target)\n",
    "\n",
    "\n",
    "print(model_log.score(features, target))"
   ]
  },
  {
   "cell_type": "code",
   "execution_count": 190,
   "metadata": {},
   "outputs": [
    {
     "name": "stdout",
     "output_type": "stream",
     "text": [
      "Полнота модели составила: 0.6693977707536184\n",
      "Точность модели составила: 0.7255556056439616\n",
      "F1 - мера модели составила: 0.6963462911285613\n",
      "Матрица ошибок модели: \n",
      " [[35097  6088]\n",
      " [ 7949 16095]]\n"
     ]
    }
   ],
   "source": [
    "# Рассчитаем precision, recall, F1-score и матрицу ошибок модели:\n",
    "\n",
    "predicted = model_log.predict(features)\n",
    "print('Полнота модели составила:', recall_score(target,predicted))\n",
    "print('Точность модели составила:', precision_score(target,predicted))\n",
    "print('F1 - мера модели составила:', f1_score(target,predicted))\n",
    "print('Матрица ошибок модели:','\\n', confusion_matrix(target,predicted))"
   ]
  },
  {
   "cell_type": "code",
   "execution_count": 191,
   "metadata": {},
   "outputs": [
    {
     "name": "stdout",
     "output_type": "stream",
     "text": [
      "Средняя оценка качества модели: 0.6832887314968346\n"
     ]
    }
   ],
   "source": [
    "# Кросс - валидация:  \n",
    "\n",
    "scores = cross_val_score(model_log,features,target, cv = 5)\n",
    "\n",
    "final_score = sum(scores)/len(scores)\n",
    "\n",
    "print('Средняя оценка качества модели:', final_score)"
   ]
  },
  {
   "cell_type": "markdown",
   "metadata": {},
   "source": [
    "**Попробуем SGDClassifier как метод подгонки линейных классификаторов и регрессоров под выпуклые функции потерь, такие как (линейные) Метод опорных векторов и логистическая регрессия**"
   ]
  },
  {
   "cell_type": "code",
   "execution_count": 196,
   "metadata": {},
   "outputs": [
    {
     "data": {
      "text/plain": [
       "SGDClassifier(loss='modified_huber', max_iter=10)"
      ]
     },
     "execution_count": 196,
     "metadata": {},
     "output_type": "execute_result"
    },
    {
     "data": {
      "text/plain": [
       "<Figure size 360x360 with 0 Axes>"
      ]
     },
     "execution_count": 196,
     "metadata": {},
     "output_type": "execute_result"
    },
    {
     "data": {
      "text/plain": [
       "[<matplotlib.lines.Line2D at 0x7f3f089ef640>]"
      ]
     },
     "execution_count": 196,
     "metadata": {},
     "output_type": "execute_result"
    },
    {
     "data": {
      "text/plain": [
       "Text(0.5, 0, 'Recall')"
      ]
     },
     "execution_count": 196,
     "metadata": {},
     "output_type": "execute_result"
    },
    {
     "data": {
      "text/plain": [
       "Text(0, 0.5, 'Precision')"
      ]
     },
     "execution_count": 196,
     "metadata": {},
     "output_type": "execute_result"
    },
    {
     "data": {
      "text/plain": [
       "(0.0, 1.05)"
      ]
     },
     "execution_count": 196,
     "metadata": {},
     "output_type": "execute_result"
    },
    {
     "data": {
      "text/plain": [
       "(0.0, 1.0)"
      ]
     },
     "execution_count": 196,
     "metadata": {},
     "output_type": "execute_result"
    },
    {
     "data": {
      "text/plain": [
       "Text(0.5, 1.0, 'Кривая Precision-Recall')"
      ]
     },
     "execution_count": 196,
     "metadata": {},
     "output_type": "execute_result"
    },
    {
     "data": {
      "image/png": "[encoded data removed]",
      "text/plain": [
       "<Figure size 360x360 with 1 Axes>"
      ]
     },
     "metadata": {
      "needs_background": "light"
     },
     "output_type": "display_data"
    },
    {
     "name": "stdout",
     "output_type": "stream",
     "text": [
      "0.5301584492512897\n"
     ]
    }
   ],
   "source": [
    "features = onehot_train\n",
    "target = data_train[target_value]\n",
    "\n",
    "features_train, features_valid, target_train, target_valid = train_test_split(\n",
    "    features, target, test_size=0.25, random_state=12345)\n",
    "\n",
    "model = SGDClassifier(loss='modified_huber', penalty=\"l2\", max_iter=10)\n",
    "model.fit(onehot_train,data_train[target_value])\n",
    "\n",
    "probabilities_valid = model.predict_proba(features_valid)\n",
    "precision, recall, thresholds = precision_recall_curve(target_valid, probabilities_valid[:, 1])\n",
    "probabilities_one_valid = probabilities_valid[:,1]\n",
    "\n",
    "plt.figure(figsize=(5, 5))\n",
    "plt.step(recall, precision, where='post')\n",
    "plt.xlabel('Recall')\n",
    "plt.ylabel('Precision')\n",
    "plt.ylim([0.0, 1.05])\n",
    "plt.xlim([0.0, 1.0])\n",
    "plt.title('Кривая Precision-Recall')\n",
    "plt.show() \n",
    "\n",
    "auc_roc = roc_auc_score(target_valid,probabilities_one_valid)\n",
    "\n",
    "print(auc_roc)"
   ]
  },
  {
   "cell_type": "code",
   "execution_count": 197,
   "metadata": {},
   "outputs": [
    {
     "name": "stdout",
     "output_type": "stream",
     "text": [
      "Полнота модели составила: 0.13411222642751358\n",
      "Точность модели составила: 0.5191082802547771\n",
      "F1 - мера модели составила: 0.2131554858114293\n",
      "Матрица ошибок модели: \n",
      " [[9476  755]\n",
      " [5262  815]]\n"
     ]
    }
   ],
   "source": [
    "predicted_valid = model.predict(features_valid)\n",
    "\n",
    "print('Полнота модели составила:', recall_score(target_valid,predicted_valid))\n",
    "print('Точность модели составила:', precision_score(target_valid,predicted_valid))\n",
    "print('F1 - мера модели составила:', f1_score(target_valid,predicted_valid))\n",
    "print('Матрица ошибок модели:','\\n', confusion_matrix(target_valid,predicted_valid))"
   ]
  },
  {
   "cell_type": "code",
   "execution_count": 198,
   "metadata": {},
   "outputs": [
    {
     "name": "stdout",
     "output_type": "stream",
     "text": [
      "Средняя оценка качества модели: 0.6096388678513338\n"
     ]
    }
   ],
   "source": [
    "# Кросс - валидация:  \n",
    "\n",
    "scores = cross_val_score(model,features,target, cv = 5)\n",
    "\n",
    "final_score = sum(scores)/len(scores)\n",
    "\n",
    "print('Средняя оценка качества модели:', final_score)"
   ]
  },
  {
   "cell_type": "markdown",
   "metadata": {},
   "source": [
    "Вариант **RandomForest**\n",
    "\n",
    "Алгоритм обучает большое количество независимых друг от друга деревьев, а потом принимает решение на основе голосования. Случайный лес помогает улучшить результат предсказания и избежать переобучения."
   ]
  },
  {
   "cell_type": "code",
   "execution_count": 199,
   "metadata": {},
   "outputs": [
    {
     "data": {
      "text/plain": [
       "RandomForestClassifier(random_state=12345)"
      ]
     },
     "execution_count": 199,
     "metadata": {},
     "output_type": "execute_result"
    },
    {
     "data": {
      "text/plain": [
       "<Figure size 360x360 with 0 Axes>"
      ]
     },
     "execution_count": 199,
     "metadata": {},
     "output_type": "execute_result"
    },
    {
     "data": {
      "text/plain": [
       "[<matplotlib.lines.Line2D at 0x7f3f02684d00>]"
      ]
     },
     "execution_count": 199,
     "metadata": {},
     "output_type": "execute_result"
    },
    {
     "data": {
      "text/plain": [
       "Text(0.5, 0, 'Recall')"
      ]
     },
     "execution_count": 199,
     "metadata": {},
     "output_type": "execute_result"
    },
    {
     "data": {
      "text/plain": [
       "Text(0, 0.5, 'Precision')"
      ]
     },
     "execution_count": 199,
     "metadata": {},
     "output_type": "execute_result"
    },
    {
     "data": {
      "text/plain": [
       "(0.0, 1.05)"
      ]
     },
     "execution_count": 199,
     "metadata": {},
     "output_type": "execute_result"
    },
    {
     "data": {
      "text/plain": [
       "(0.0, 1.0)"
      ]
     },
     "execution_count": 199,
     "metadata": {},
     "output_type": "execute_result"
    },
    {
     "data": {
      "text/plain": [
       "Text(0.5, 1.0, 'Кривая Precision-Recall')"
      ]
     },
     "execution_count": 199,
     "metadata": {},
     "output_type": "execute_result"
    },
    {
     "data": {
      "image/png": "[encoded data removed]",
      "text/plain": [
       "<Figure size 360x360 with 1 Axes>"
      ]
     },
     "metadata": {
      "needs_background": "light"
     },
     "output_type": "display_data"
    },
    {
     "name": "stdout",
     "output_type": "stream",
     "text": [
      "0.9937359533849852\n"
     ]
    }
   ],
   "source": [
    "features = onehot_train\n",
    "target = data_train[target_value]\n",
    "\n",
    "features_train, features_valid, target_train, target_valid = train_test_split(\n",
    "    features, target, test_size=0.25, random_state=12345)\n",
    "\n",
    "model = RandomForestClassifier(random_state=12345)\n",
    "model.fit(features_train, target_train)\n",
    "\n",
    "probabilities_valid = model.predict_proba(features_valid)\n",
    "precision, recall, thresholds = precision_recall_curve(target_valid, probabilities_valid[:, 1])\n",
    "probabilities_one_valid = probabilities_valid[:,1]\n",
    "\n",
    "plt.figure(figsize=(5, 5))\n",
    "plt.step(recall, precision, where='post')\n",
    "plt.xlabel('Recall')\n",
    "plt.ylabel('Precision')\n",
    "plt.ylim([0.0, 1.05])\n",
    "plt.xlim([0.0, 1.0])\n",
    "plt.title('Кривая Precision-Recall')\n",
    "plt.show() \n",
    "\n",
    "auc_roc = roc_auc_score(target_valid,probabilities_one_valid)\n",
    "\n",
    "print(auc_roc)"
   ]
  },
  {
   "cell_type": "code",
   "execution_count": 200,
   "metadata": {},
   "outputs": [
    {
     "name": "stdout",
     "output_type": "stream",
     "text": [
      "Полнота модели составила: 0.9504689814052987\n",
      "Точность модели составила: 0.9654019722547217\n",
      "F1 - мера модели составила: 0.9578772802653399\n",
      "Матрица ошибок модели: \n",
      " [[10024   207]\n",
      " [  301  5776]]\n"
     ]
    }
   ],
   "source": [
    "predicted_valid = model.predict(features_valid)\n",
    "\n",
    "print('Полнота модели составила:', recall_score(target_valid,predicted_valid))\n",
    "print('Точность модели составила:', precision_score(target_valid,predicted_valid))\n",
    "print('F1 - мера модели составила:', f1_score(target_valid,predicted_valid))\n",
    "print('Матрица ошибок модели:','\\n', confusion_matrix(target_valid,predicted_valid))"
   ]
  },
  {
   "cell_type": "code",
   "execution_count": 201,
   "metadata": {},
   "outputs": [
    {
     "name": "stdout",
     "output_type": "stream",
     "text": [
      "Средняя оценка качества модели: 0.6614543343902024\n"
     ]
    }
   ],
   "source": [
    "# Кросс - валидация:  \n",
    "\n",
    "scores = cross_val_score(model,features,target, cv = 5)\n",
    "\n",
    "final_score = sum(scores)/len(scores)\n",
    "\n",
    "print('Средняя оценка качества модели:', final_score)"
   ]
  },
  {
   "cell_type": "markdown",
   "metadata": {},
   "source": [
    "# Выводы по выборке data_train:\n",
    "\n",
    "* **Модель обученная на Логистической регрессии показала результаты:**  \n",
    "**accuracy*  0.7848043048337396 \n",
    "**Полнота модели составила:*  0.6693977707536184\n",
    "**Точность модели составила:*  0.7255556056439616\n",
    "**F1 - мера модели составила:*  0.6963462911285613\n",
    "**Матрица ошибок модели:*  [[35097  6088][8926 16095]] \n",
    "\n",
    " 35097 - положительных точек данных были правильно классифицированы моделью  \n",
    " 16095 - отрицательных точек данных были правильно классифицированы моделью  \n",
    " 6088   - отрицательных точек данных были неправильно классифицированы моделью как положительные  \n",
    " 7949 -  положительных точек данных были неправильно классифицированы моделью как отрицательные  \n",
    " \n",
    " **Кросс-валидация:** 0.6832887314968346  \n",
    " \n",
    "                            \n",
    "* **Модель обученная на SGDClassifier показала результаты:**  \n",
    "**roc_auc_score* 0.5301584492512897 \n",
    "**Полнота модели составила:* 0.13411222642751358\n",
    "**Точность модели составила:* 0.5191082802547771\n",
    "**F1 - мера модели составила:* 0.2131554858114293\n",
    "**Матрица ошибок модели:*  [[9476 755][5262 815]]  \n",
    "\n",
    " 9476 - положительных точек данных были правильно классифицированы моделью  \n",
    " 815 - отрицательных точек данных были правильно классифицированы моделью  \n",
    " 755 - отрицательных точек данных были неправильно классифицированы моделью как положительные  \n",
    " 5262   -  положительных точек данных были неправильно классифицированы моделью как отрицательные  \n",
    " \n",
    " **Кросс-валидация:** 0.6096388678513338\n",
    "                         \n",
    "* **Модель обученная на RandomForest показала результаты:** \n",
    "**roc_auc_score* 0.9937359533849852  \n",
    "**Полнота модели составила:* 0.9504689814052987\n",
    "**Точность модели составила:* 0.9654019722547217\n",
    "**F1 - мера модели составила:* 0.9578772802653399\n",
    "**Матрица ошибок модели:*  [[10024  207][301 5776]]  \n",
    "\n",
    " 10024 - положительных точек данных были правильно классифицированы моделью  \n",
    " 5776 - отрицательных точек данных были правильно классифицированы моделью  \n",
    " 207   - отрицательных точек данных были неправильно классифицированы моделью как положительные  \n",
    " 301 -  положительных точек данных были неправильно классифицированы моделью как отрицательные  \n",
    " \n",
    " **Кросс-валидация:** 0.6614543343902024\n",
    " \n",
    " \n",
    " **Думаю, что Случайный Лес показало самые оптимальные результаты, теперь попробуем на нем тестовую выборкую**"
   ]
  },
  {
   "cell_type": "code",
   "execution_count": 204,
   "metadata": {},
   "outputs": [
    {
     "data": {
      "text/plain": [
       "<Figure size 360x360 with 0 Axes>"
      ]
     },
     "execution_count": 204,
     "metadata": {},
     "output_type": "execute_result"
    },
    {
     "data": {
      "text/plain": [
       "[<matplotlib.lines.Line2D at 0x7f3eff3e0fd0>]"
      ]
     },
     "execution_count": 204,
     "metadata": {},
     "output_type": "execute_result"
    },
    {
     "data": {
      "text/plain": [
       "Text(0.5, 0, 'Recall')"
      ]
     },
     "execution_count": 204,
     "metadata": {},
     "output_type": "execute_result"
    },
    {
     "data": {
      "text/plain": [
       "Text(0, 0.5, 'Precision')"
      ]
     },
     "execution_count": 204,
     "metadata": {},
     "output_type": "execute_result"
    },
    {
     "data": {
      "text/plain": [
       "(0.0, 1.05)"
      ]
     },
     "execution_count": 204,
     "metadata": {},
     "output_type": "execute_result"
    },
    {
     "data": {
      "text/plain": [
       "(0.0, 1.0)"
      ]
     },
     "execution_count": 204,
     "metadata": {},
     "output_type": "execute_result"
    },
    {
     "data": {
      "text/plain": [
       "Text(0.5, 1.0, 'Кривая Precision-Recall')"
      ]
     },
     "execution_count": 204,
     "metadata": {},
     "output_type": "execute_result"
    },
    {
     "data": {
      "image/png": "[encoded data removed]",
      "text/plain": [
       "<Figure size 360x360 with 1 Axes>"
      ]
     },
     "metadata": {
      "needs_background": "light"
     },
     "output_type": "display_data"
    },
    {
     "name": "stdout",
     "output_type": "stream",
     "text": [
      "0.9951450038242559\n"
     ]
    }
   ],
   "source": [
    "# Случайный лес для data_test:\n",
    "\n",
    "features = onehot_test\n",
    "target = data_test[target_value]\n",
    "\n",
    "probabilities_valid = model.predict_proba(features)\n",
    "precision, recall, thresholds = precision_recall_curve(target, probabilities_valid[:, 1])\n",
    "probabilities_one_valid = probabilities_valid[:,1]\n",
    "\n",
    "plt.figure(figsize=(5, 5))\n",
    "plt.step(recall, precision, where='post')\n",
    "plt.xlabel('Recall')\n",
    "plt.ylabel('Precision')\n",
    "plt.ylim([0.0, 1.05])\n",
    "plt.xlim([0.0, 1.0])\n",
    "plt.title('Кривая Precision-Recall')\n",
    "plt.show() \n",
    "\n",
    "auc_roc = roc_auc_score(target,probabilities_one_valid)\n",
    "\n",
    "print(auc_roc)"
   ]
  },
  {
   "cell_type": "code",
   "execution_count": 203,
   "metadata": {},
   "outputs": [
    {
     "name": "stdout",
     "output_type": "stream",
     "text": [
      "Полнота модели составила: 0.7151933921054722\n",
      "Точность модели составила: 0.9943683745583038\n",
      "F1 - мера модели составила: 0.8319859564835774\n",
      "Матрица ошибок модели: \n",
      " [[19770    51]\n",
      " [ 3586  9005]]\n"
     ]
    }
   ],
   "source": [
    "predicted_valid = model.predict(features)\n",
    "\n",
    "print('Полнота модели составила:', recall_score(target,predicted_valid))\n",
    "print('Точность модели составила:', precision_score(target,predicted_valid))\n",
    "print('F1 - мера модели составила:', f1_score(target,predicted_valid))\n",
    "print('Матрица ошибок модели:','\\n', confusion_matrix(target,predicted_valid))"
   ]
  },
  {
   "cell_type": "markdown",
   "metadata": {},
   "source": [
    "# Выводы по выборке data_test:  \n",
    "\n",
    "* **Модель обученная на RandomForest показала результаты:** \n",
    "**roc_auc_score* 0.9951450038242559\n",
    "**Полнота модели составила:* 0.7151933921054722\n",
    "**Точность модели составила:* 0.9943683745583038\n",
    "**F1 - мера модели составила:* 0.8319859564835774\n",
    "**Матрица ошибок модели:*  [[19770 51][3586 9005]]  \n",
    "\n",
    " 19770- положительных точек данных были правильно классифицированы моделью    \n",
    " 9005- отрицательных точек данных были правильно классифицированы моделью   \n",
    " 51   - отрицательных точек данных были неправильно классифицированы моделью как положительные    \n",
    " 3586  -  положительных точек данных были неправильно классифицированы моделью как отрицательные  \n"
   ]
  },
  {
   "cell_type": "markdown",
   "metadata": {},
   "source": [
    "# Вычислим прибыль, которую за год принесет нам выбранная модель"
   ]
  },
  {
   "cell_type": "code",
   "execution_count": 205,
   "metadata": {},
   "outputs": [
    {
     "data": {
      "text/plain": [
       "<Figure size 720x504 with 0 Axes>"
      ]
     },
     "execution_count": 205,
     "metadata": {},
     "output_type": "execute_result"
    },
    {
     "data": {
      "text/plain": [
       "<AxesSubplot:>"
      ]
     },
     "execution_count": 205,
     "metadata": {},
     "output_type": "execute_result"
    },
    {
     "data": {
      "image/png": "[encoded data removed]",
      "text/plain": [
       "<Figure size 720x504 with 2 Axes>"
      ]
     },
     "metadata": {
      "needs_background": "light"
     },
     "output_type": "display_data"
    }
   ],
   "source": [
    "# Визуалтзируем матрицу ошибок:\n",
    "\n",
    "arr = confusion_matrix(target,predicted_valid)\n",
    "df_cm = pd.DataFrame(arr, index = [0,1],\n",
    "                  columns = [0,1])\n",
    "plt.figure(figsize = (10,7))\n",
    "sns.heatmap(df_cm, annot=True, fmt ='g')"
   ]
  },
  {
   "cell_type": "code",
   "execution_count": 206,
   "metadata": {},
   "outputs": [],
   "source": [
    "# Создадим переменные для итогового фин.анализа на полученных предсказания модели:\n",
    "\n",
    "data_test_fin = data_test[['income','cost','canc','is_canceled']]\n",
    "data_test_fin['pred'] = predicted_valid\n",
    "# data_test_fin"
   ]
  },
  {
   "cell_type": "code",
   "execution_count": 207,
   "metadata": {},
   "outputs": [],
   "source": [
    "# Переменная TP (True positive) показывает угаданные моделью отказы от брони:\n",
    "\n",
    "TP_df =data_test_fin[(data_test_fin['is_canceled'] == 1) & (data_test_fin['pred'] == 1)]\n",
    "TP_df_accept = TP_df.head(2936)\n",
    "TP_df_decline = TP_df.tail(TP_df.shape[0]-2936)"
   ]
  },
  {
   "cell_type": "code",
   "execution_count": 208,
   "metadata": {},
   "outputs": [
    {
     "data": {
      "text/html": [
       "<div>\n",
       "<style scoped>\n",
       "    .dataframe tbody tr th:only-of-type {\n",
       "        vertical-align: middle;\n",
       "    }\n",
       "\n",
       "    .dataframe tbody tr th {\n",
       "        vertical-align: top;\n",
       "    }\n",
       "\n",
       "    .dataframe thead th {\n",
       "        text-align: right;\n",
       "    }\n",
       "</style>\n",
       "<table border=\"1\" class=\"dataframe\">\n",
       "  <thead>\n",
       "    <tr style=\"text-align: right;\">\n",
       "      <th></th>\n",
       "      <th>income</th>\n",
       "      <th>cost</th>\n",
       "      <th>canc</th>\n",
       "      <th>is_canceled</th>\n",
       "      <th>pred</th>\n",
       "      <th>new_income</th>\n",
       "      <th>new_cost</th>\n",
       "      <th>new_canc</th>\n",
       "    </tr>\n",
       "  </thead>\n",
       "  <tbody>\n",
       "    <tr>\n",
       "      <th>0</th>\n",
       "      <td>0.0</td>\n",
       "      <td>0</td>\n",
       "      <td>1400.0</td>\n",
       "      <td>1</td>\n",
       "      <td>1</td>\n",
       "      <td>1120.0</td>\n",
       "      <td>0</td>\n",
       "      <td>1400.0</td>\n",
       "    </tr>\n",
       "    <tr>\n",
       "      <th>3</th>\n",
       "      <td>0.0</td>\n",
       "      <td>0</td>\n",
       "      <td>1400.0</td>\n",
       "      <td>1</td>\n",
       "      <td>1</td>\n",
       "      <td>1120.0</td>\n",
       "      <td>0</td>\n",
       "      <td>1400.0</td>\n",
       "    </tr>\n",
       "  </tbody>\n",
       "</table>\n",
       "</div>"
      ],
      "text/plain": [
       "   income  cost    canc  is_canceled  pred  new_income  new_cost  new_canc\n",
       "0     0.0     0  1400.0            1     1      1120.0         0    1400.0\n",
       "3     0.0     0  1400.0            1     1      1120.0         0    1400.0"
      ]
     },
     "execution_count": 208,
     "metadata": {},
     "output_type": "execute_result"
    }
   ],
   "source": [
    "TP_df_accept['new_income']= TP_df_accept['canc']*0.8\n",
    "TP_df_accept['new_cost'] = TP_df_accept['cost']\n",
    "TP_df_accept['new_canc']= TP_df_accept['canc']\n",
    "\n",
    "TP_df_decline['new_income']= 0\n",
    "TP_df_decline['new_cost'] = TP_df_decline['cost']\n",
    "TP_df_decline['new_canc']= 0\n",
    "\n",
    "TP_df = pd.concat([TP_df_accept,TP_df_decline])\n",
    "TP_df.head(2)\n"
   ]
  },
  {
   "cell_type": "code",
   "execution_count": 209,
   "metadata": {},
   "outputs": [],
   "source": [
    "# Переменная FP (False positive) показывает значения, которые модель оценила как потенциальную отмену,но ошиблась:\n",
    "\n",
    "FP_df =data_test_fin[(data_test_fin['is_canceled'] == 0) & (data_test_fin['pred'] == 1)]\n",
    "FP_df_accept = FP_df.head(round(FP_df.shape[0]/2))\n",
    "FP_df_decline = FP_df.tail(FP_df.shape[0]-round(FP_df.shape[0]/2))"
   ]
  },
  {
   "cell_type": "code",
   "execution_count": 210,
   "metadata": {},
   "outputs": [
    {
     "data": {
      "text/html": [
       "<div>\n",
       "<style scoped>\n",
       "    .dataframe tbody tr th:only-of-type {\n",
       "        vertical-align: middle;\n",
       "    }\n",
       "\n",
       "    .dataframe tbody tr th {\n",
       "        vertical-align: top;\n",
       "    }\n",
       "\n",
       "    .dataframe thead th {\n",
       "        text-align: right;\n",
       "    }\n",
       "</style>\n",
       "<table border=\"1\" class=\"dataframe\">\n",
       "  <thead>\n",
       "    <tr style=\"text-align: right;\">\n",
       "      <th></th>\n",
       "      <th>income</th>\n",
       "      <th>cost</th>\n",
       "      <th>canc</th>\n",
       "      <th>is_canceled</th>\n",
       "      <th>pred</th>\n",
       "      <th>new_income</th>\n",
       "      <th>new_cost</th>\n",
       "      <th>new_canc</th>\n",
       "    </tr>\n",
       "  </thead>\n",
       "  <tbody>\n",
       "    <tr>\n",
       "      <th>2179</th>\n",
       "      <td>2520.0</td>\n",
       "      <td>450</td>\n",
       "      <td>0.0</td>\n",
       "      <td>0</td>\n",
       "      <td>1</td>\n",
       "      <td>2520.0</td>\n",
       "      <td>450</td>\n",
       "      <td>0.0</td>\n",
       "    </tr>\n",
       "    <tr>\n",
       "      <th>2231</th>\n",
       "      <td>3600.0</td>\n",
       "      <td>800</td>\n",
       "      <td>0.0</td>\n",
       "      <td>0</td>\n",
       "      <td>1</td>\n",
       "      <td>3600.0</td>\n",
       "      <td>800</td>\n",
       "      <td>0.0</td>\n",
       "    </tr>\n",
       "  </tbody>\n",
       "</table>\n",
       "</div>"
      ],
      "text/plain": [
       "      income  cost  canc  is_canceled  pred  new_income  new_cost  new_canc\n",
       "2179  2520.0   450   0.0            0     1      2520.0       450       0.0\n",
       "2231  3600.0   800   0.0            0     1      3600.0       800       0.0"
      ]
     },
     "execution_count": 210,
     "metadata": {},
     "output_type": "execute_result"
    }
   ],
   "source": [
    "FP_df_decline['new_income']=0\n",
    "FP_df_decline['new_cost']=0\n",
    "FP_df_decline['new_canc']=0\n",
    "\n",
    "\n",
    "FP_df_accept['new_income']=FP_df_accept['income']\n",
    "FP_df_accept['new_cost']=FP_df_accept['cost']\n",
    "FP_df_accept['new_canc']=FP_df_accept['canc']\n",
    "\n",
    "FP_df = pd.concat([FP_df_accept,FP_df_decline])\n",
    "FP_df.head(2)"
   ]
  },
  {
   "cell_type": "code",
   "execution_count": 211,
   "metadata": {},
   "outputs": [
    {
     "data": {
      "text/html": [
       "<div>\n",
       "<style scoped>\n",
       "    .dataframe tbody tr th:only-of-type {\n",
       "        vertical-align: middle;\n",
       "    }\n",
       "\n",
       "    .dataframe tbody tr th {\n",
       "        vertical-align: top;\n",
       "    }\n",
       "\n",
       "    .dataframe thead th {\n",
       "        text-align: right;\n",
       "    }\n",
       "</style>\n",
       "<table border=\"1\" class=\"dataframe\">\n",
       "  <thead>\n",
       "    <tr style=\"text-align: right;\">\n",
       "      <th></th>\n",
       "      <th>income</th>\n",
       "      <th>cost</th>\n",
       "      <th>canc</th>\n",
       "      <th>is_canceled</th>\n",
       "      <th>pred</th>\n",
       "      <th>new_income</th>\n",
       "      <th>new_cost</th>\n",
       "      <th>new_canc</th>\n",
       "    </tr>\n",
       "  </thead>\n",
       "  <tbody>\n",
       "    <tr>\n",
       "      <th>1</th>\n",
       "      <td>0.0</td>\n",
       "      <td>0</td>\n",
       "      <td>1400.0</td>\n",
       "      <td>1</td>\n",
       "      <td>0</td>\n",
       "      <td>0.0</td>\n",
       "      <td>0</td>\n",
       "      <td>1400.0</td>\n",
       "    </tr>\n",
       "    <tr>\n",
       "      <th>2</th>\n",
       "      <td>0.0</td>\n",
       "      <td>0</td>\n",
       "      <td>1400.0</td>\n",
       "      <td>1</td>\n",
       "      <td>0</td>\n",
       "      <td>0.0</td>\n",
       "      <td>0</td>\n",
       "      <td>1400.0</td>\n",
       "    </tr>\n",
       "  </tbody>\n",
       "</table>\n",
       "</div>"
      ],
      "text/plain": [
       "   income  cost    canc  is_canceled  pred  new_income  new_cost  new_canc\n",
       "1     0.0     0  1400.0            1     0         0.0         0    1400.0\n",
       "2     0.0     0  1400.0            1     0         0.0         0    1400.0"
      ]
     },
     "execution_count": 211,
     "metadata": {},
     "output_type": "execute_result"
    }
   ],
   "source": [
    "# Переменная True negative & False negative, показывает состаявшиеся брони независимо от предсказания модели:\n",
    "\n",
    "TN_FN_DF  = data_test_fin[ (data_test_fin['pred'] == 0)]\n",
    "TN_FN_DF['new_income']=TN_FN_DF['income']\n",
    "TN_FN_DF['new_cost']=TN_FN_DF['cost']\n",
    "TN_FN_DF['new_canc']=TN_FN_DF['canc']\n",
    "TN_FN_DF.head(2)"
   ]
  },
  {
   "cell_type": "code",
   "execution_count": 212,
   "metadata": {},
   "outputs": [
    {
     "data": {
      "text/html": [
       "<div>\n",
       "<style scoped>\n",
       "    .dataframe tbody tr th:only-of-type {\n",
       "        vertical-align: middle;\n",
       "    }\n",
       "\n",
       "    .dataframe tbody tr th {\n",
       "        vertical-align: top;\n",
       "    }\n",
       "\n",
       "    .dataframe thead th {\n",
       "        text-align: right;\n",
       "    }\n",
       "</style>\n",
       "<table border=\"1\" class=\"dataframe\">\n",
       "  <thead>\n",
       "    <tr style=\"text-align: right;\">\n",
       "      <th></th>\n",
       "      <th>income</th>\n",
       "      <th>cost</th>\n",
       "      <th>canc</th>\n",
       "      <th>is_canceled</th>\n",
       "      <th>pred</th>\n",
       "      <th>new_income</th>\n",
       "      <th>new_cost</th>\n",
       "      <th>new_canc</th>\n",
       "    </tr>\n",
       "  </thead>\n",
       "  <tbody>\n",
       "    <tr>\n",
       "      <th>2179</th>\n",
       "      <td>2520.0</td>\n",
       "      <td>450</td>\n",
       "      <td>0.0</td>\n",
       "      <td>0</td>\n",
       "      <td>1</td>\n",
       "      <td>2520.0</td>\n",
       "      <td>450</td>\n",
       "      <td>0.0</td>\n",
       "    </tr>\n",
       "    <tr>\n",
       "      <th>2231</th>\n",
       "      <td>3600.0</td>\n",
       "      <td>800</td>\n",
       "      <td>0.0</td>\n",
       "      <td>0</td>\n",
       "      <td>1</td>\n",
       "      <td>3600.0</td>\n",
       "      <td>800</td>\n",
       "      <td>0.0</td>\n",
       "    </tr>\n",
       "    <tr>\n",
       "      <th>4081</th>\n",
       "      <td>4000.0</td>\n",
       "      <td>1200</td>\n",
       "      <td>0.0</td>\n",
       "      <td>0</td>\n",
       "      <td>1</td>\n",
       "      <td>4000.0</td>\n",
       "      <td>1200</td>\n",
       "      <td>0.0</td>\n",
       "    </tr>\n",
       "    <tr>\n",
       "      <th>4709</th>\n",
       "      <td>1200.0</td>\n",
       "      <td>400</td>\n",
       "      <td>0.0</td>\n",
       "      <td>0</td>\n",
       "      <td>1</td>\n",
       "      <td>1200.0</td>\n",
       "      <td>400</td>\n",
       "      <td>0.0</td>\n",
       "    </tr>\n",
       "    <tr>\n",
       "      <th>4731</th>\n",
       "      <td>660.0</td>\n",
       "      <td>150</td>\n",
       "      <td>0.0</td>\n",
       "      <td>0</td>\n",
       "      <td>1</td>\n",
       "      <td>660.0</td>\n",
       "      <td>150</td>\n",
       "      <td>0.0</td>\n",
       "    </tr>\n",
       "    <tr>\n",
       "      <th>...</th>\n",
       "      <td>...</td>\n",
       "      <td>...</td>\n",
       "      <td>...</td>\n",
       "      <td>...</td>\n",
       "      <td>...</td>\n",
       "      <td>...</td>\n",
       "      <td>...</td>\n",
       "      <td>...</td>\n",
       "    </tr>\n",
       "    <tr>\n",
       "      <th>32407</th>\n",
       "      <td>8400.0</td>\n",
       "      <td>1600</td>\n",
       "      <td>0.0</td>\n",
       "      <td>0</td>\n",
       "      <td>0</td>\n",
       "      <td>8400.0</td>\n",
       "      <td>1600</td>\n",
       "      <td>0.0</td>\n",
       "    </tr>\n",
       "    <tr>\n",
       "      <th>32408</th>\n",
       "      <td>9800.0</td>\n",
       "      <td>1600</td>\n",
       "      <td>0.0</td>\n",
       "      <td>0</td>\n",
       "      <td>0</td>\n",
       "      <td>9800.0</td>\n",
       "      <td>1600</td>\n",
       "      <td>0.0</td>\n",
       "    </tr>\n",
       "    <tr>\n",
       "      <th>32409</th>\n",
       "      <td>9800.0</td>\n",
       "      <td>1600</td>\n",
       "      <td>0.0</td>\n",
       "      <td>0</td>\n",
       "      <td>0</td>\n",
       "      <td>9800.0</td>\n",
       "      <td>1600</td>\n",
       "      <td>0.0</td>\n",
       "    </tr>\n",
       "    <tr>\n",
       "      <th>32410</th>\n",
       "      <td>5390.0</td>\n",
       "      <td>600</td>\n",
       "      <td>0.0</td>\n",
       "      <td>0</td>\n",
       "      <td>0</td>\n",
       "      <td>5390.0</td>\n",
       "      <td>600</td>\n",
       "      <td>0.0</td>\n",
       "    </tr>\n",
       "    <tr>\n",
       "      <th>32411</th>\n",
       "      <td>9800.0</td>\n",
       "      <td>1600</td>\n",
       "      <td>0.0</td>\n",
       "      <td>0</td>\n",
       "      <td>0</td>\n",
       "      <td>9800.0</td>\n",
       "      <td>1600</td>\n",
       "      <td>0.0</td>\n",
       "    </tr>\n",
       "  </tbody>\n",
       "</table>\n",
       "<p>32412 rows × 8 columns</p>\n",
       "</div>"
      ],
      "text/plain": [
       "       income  cost  canc  is_canceled  pred  new_income  new_cost  new_canc\n",
       "2179   2520.0   450   0.0            0     1      2520.0       450       0.0\n",
       "2231   3600.0   800   0.0            0     1      3600.0       800       0.0\n",
       "4081   4000.0  1200   0.0            0     1      4000.0      1200       0.0\n",
       "4709   1200.0   400   0.0            0     1      1200.0       400       0.0\n",
       "4731    660.0   150   0.0            0     1       660.0       150       0.0\n",
       "...       ...   ...   ...          ...   ...         ...       ...       ...\n",
       "32407  8400.0  1600   0.0            0     0      8400.0      1600       0.0\n",
       "32408  9800.0  1600   0.0            0     0      9800.0      1600       0.0\n",
       "32409  9800.0  1600   0.0            0     0      9800.0      1600       0.0\n",
       "32410  5390.0   600   0.0            0     0      5390.0       600       0.0\n",
       "32411  9800.0  1600   0.0            0     0      9800.0      1600       0.0\n",
       "\n",
       "[32412 rows x 8 columns]"
      ]
     },
     "execution_count": 212,
     "metadata": {},
     "output_type": "execute_result"
    }
   ],
   "source": [
    "# Соединим полученные результаты:\n",
    "\n",
    "result_df = pd.concat([FP_df,TP_df,TN_FN_DF])\n",
    "result_df"
   ]
  },
  {
   "cell_type": "markdown",
   "metadata": {},
   "source": [
    "В задаче необходимо указать результат прибыли за год, в обучающей выборке мы имеем данные за 2015 и 2016 годы. А тестовая содержит данные за 8 месяцев 2017 года. Таким образом, рассчет будет с учетом этих данных"
   ]
  },
  {
   "cell_type": "code",
   "execution_count": 213,
   "metadata": {},
   "outputs": [
    {
     "data": {
      "text/plain": [
       "(18328, 26)"
      ]
     },
     "execution_count": 213,
     "metadata": {},
     "output_type": "execute_result"
    }
   ],
   "source": [
    "# Количество данных в обучающей выборке за 2015 год:\n",
    "\n",
    "data_train[data_train['arrival_date_year']==2015].shape"
   ]
  },
  {
   "cell_type": "code",
   "execution_count": 214,
   "metadata": {},
   "outputs": [
    {
     "data": {
      "text/plain": [
       "(46901, 26)"
      ]
     },
     "execution_count": 214,
     "metadata": {},
     "output_type": "execute_result"
    }
   ],
   "source": [
    "# Количество данных в обучающей выборке за 2016 год:\n",
    "\n",
    "data_train[data_train['arrival_date_year']==2016].shape"
   ]
  },
  {
   "cell_type": "code",
   "execution_count": 215,
   "metadata": {},
   "outputs": [
    {
     "data": {
      "text/plain": [
       "(32412, 26)"
      ]
     },
     "execution_count": 215,
     "metadata": {},
     "output_type": "execute_result"
    }
   ],
   "source": [
    "data_test[data_test['arrival_date_year']==2017].shape"
   ]
  },
  {
   "cell_type": "code",
   "execution_count": 216,
   "metadata": {},
   "outputs": [
    {
     "data": {
      "text/plain": [
       "May         5262\n",
       "April       4878\n",
       "June        4580\n",
       "March       4277\n",
       "July        3626\n",
       "February    3543\n",
       "January     3150\n",
       "August      3096\n",
       "Name: arrival_date_month, dtype: int64"
      ]
     },
     "execution_count": 216,
     "metadata": {},
     "output_type": "execute_result"
    }
   ],
   "source": [
    "data_test.arrival_date_month.value_counts()"
   ]
  },
  {
   "cell_type": "code",
   "execution_count": 217,
   "metadata": {},
   "outputs": [
    {
     "name": "stdout",
     "output_type": "stream",
     "text": [
      "Сумма выручки за период равна: 100167246.0\n",
      "Сумма расходов на обслуживание номеров за период равна: 19561620.3125\n",
      "Сумма прибыли отеля за период равна: 80605625.6875\n",
      "Сумма упущенной выгоды из за отмены брони за период равна: 13763626.875\n"
     ]
    }
   ],
   "source": [
    "# Результат года с использованием модели будет:\n",
    "\n",
    "print('Сумма выручки за период равна:', result_df['new_income'].sum()*47/32)\n",
    "print('Сумма расходов на обслуживание номеров за период равна:', result_df['new_cost'].sum()*47/32)\n",
    "print('Сумма прибыли отеля за период равна:', (result_df['new_income'].sum()-result_df['new_cost'].sum())*47/32)\n",
    "print('Сумма упущенной выгоды из за отмены брони за период равна:', result_df['new_canc'].sum()*47/32)"
   ]
  },
  {
   "cell_type": "markdown",
   "metadata": {},
   "source": [
    "# Вывод:   \n",
    "\n",
    "* Для решения поставленной задачи, была выбрана модель обученная на алгоритме Случайного леса - она показала наиболее стабильный и высокий результат.\n",
    "* Используя данную модель за год, с учетом предположения что на депозит 80% согласится только 50% от клиентов, которых модель идентифицирует как \"потенциальную отмену брони\" мы получили следующий результат:  \n",
    "\n",
    "**Сумма выручки за год составит:** 100 167 246.0  \n",
    "**Сумма расходов на обслуживание номеров за год составит:** 19 561 620.31  \n",
    "**Сумма прибыли отеля за год составит:** 80 605 625.68  \n",
    "**Сумма упущенной выгоды из за отмены брони за год составит:**  13 763 626.87 "
   ]
  },
  {
   "cell_type": "markdown",
   "metadata": {},
   "source": [
    "# Шаг 5. Выявление признаков «ненадёжного» клиента  \n",
    "\n",
    "На основе исследовательского анализа данных описание клиента, склонного к отказу от брони"
   ]
  },
  {
   "cell_type": "code",
   "execution_count": 218,
   "metadata": {},
   "outputs": [
    {
     "data": {
      "text/html": [
       "<div>\n",
       "<style scoped>\n",
       "    .dataframe tbody tr th:only-of-type {\n",
       "        vertical-align: middle;\n",
       "    }\n",
       "\n",
       "    .dataframe tbody tr th {\n",
       "        vertical-align: top;\n",
       "    }\n",
       "\n",
       "    .dataframe thead th {\n",
       "        text-align: right;\n",
       "    }\n",
       "</style>\n",
       "<table border=\"1\" class=\"dataframe\">\n",
       "  <thead>\n",
       "    <tr style=\"text-align: right;\">\n",
       "      <th></th>\n",
       "      <th>coef</th>\n",
       "      <th>feat</th>\n",
       "    </tr>\n",
       "  </thead>\n",
       "  <tbody>\n",
       "    <tr>\n",
       "      <th>23</th>\n",
       "      <td>1.193749</td>\n",
       "      <td>country_PRT</td>\n",
       "    </tr>\n",
       "    <tr>\n",
       "      <th>43</th>\n",
       "      <td>0.829592</td>\n",
       "      <td>previous_cancellations</td>\n",
       "    </tr>\n",
       "    <tr>\n",
       "      <th>36</th>\n",
       "      <td>0.704091</td>\n",
       "      <td>customer_type_Transient</td>\n",
       "    </tr>\n",
       "    <tr>\n",
       "      <th>27</th>\n",
       "      <td>0.455693</td>\n",
       "      <td>distribution_channel_TA/TO</td>\n",
       "    </tr>\n",
       "    <tr>\n",
       "      <th>13</th>\n",
       "      <td>0.139992</td>\n",
       "      <td>meal_SC</td>\n",
       "    </tr>\n",
       "    <tr>\n",
       "      <th>1</th>\n",
       "      <td>0.070406</td>\n",
       "      <td>arrival_date_month_December</td>\n",
       "    </tr>\n",
       "    <tr>\n",
       "      <th>2</th>\n",
       "      <td>0.056332</td>\n",
       "      <td>arrival_date_month_February</td>\n",
       "    </tr>\n",
       "    <tr>\n",
       "      <th>5</th>\n",
       "      <td>0.046098</td>\n",
       "      <td>arrival_date_month_June</td>\n",
       "    </tr>\n",
       "    <tr>\n",
       "      <th>20</th>\n",
       "      <td>0.020980</td>\n",
       "      <td>country_ITA</td>\n",
       "    </tr>\n",
       "    <tr>\n",
       "      <th>14</th>\n",
       "      <td>0.016974</td>\n",
       "      <td>country_BRA</td>\n",
       "    </tr>\n",
       "    <tr>\n",
       "      <th>11</th>\n",
       "      <td>0.011218</td>\n",
       "      <td>meal_FB</td>\n",
       "    </tr>\n",
       "    <tr>\n",
       "      <th>38</th>\n",
       "      <td>0.007680</td>\n",
       "      <td>lead_time</td>\n",
       "    </tr>\n",
       "    <tr>\n",
       "      <th>26</th>\n",
       "      <td>0.001114</td>\n",
       "      <td>distribution_channel_GDS</td>\n",
       "    </tr>\n",
       "    <tr>\n",
       "      <th>31</th>\n",
       "      <td>0.000892</td>\n",
       "      <td>reserved_room_type_D</td>\n",
       "    </tr>\n",
       "    <tr>\n",
       "      <th>0</th>\n",
       "      <td>0.000826</td>\n",
       "      <td>arrival_date_month_August</td>\n",
       "    </tr>\n",
       "  </tbody>\n",
       "</table>\n",
       "</div>"
      ],
      "text/plain": [
       "        coef                         feat\n",
       "23  1.193749                  country_PRT\n",
       "43  0.829592       previous_cancellations\n",
       "36  0.704091      customer_type_Transient\n",
       "27  0.455693   distribution_channel_TA/TO\n",
       "13  0.139992                      meal_SC\n",
       "1   0.070406  arrival_date_month_December\n",
       "2   0.056332  arrival_date_month_February\n",
       "5   0.046098      arrival_date_month_June\n",
       "20  0.020980                  country_ITA\n",
       "14  0.016974                  country_BRA\n",
       "11  0.011218                      meal_FB\n",
       "38  0.007680                    lead_time\n",
       "26  0.001114     distribution_channel_GDS\n",
       "31  0.000892         reserved_room_type_D\n",
       "0   0.000826    arrival_date_month_August"
      ]
     },
     "execution_count": 218,
     "metadata": {},
     "output_type": "execute_result"
    }
   ],
   "source": [
    "# Посмотрим на коэффицент 15 главных признаков, влияющих на вероятность отказа от брони:\n",
    "\n",
    "feats = pd.DataFrame(model_log.coef_.T)\n",
    "feats['feat'] = onehot_train.columns\n",
    "feats.columns=['coef','feat']\n",
    "feats.sort_values(by=['coef'], ascending= False).head(15)"
   ]
  },
  {
   "cell_type": "markdown",
   "metadata": {},
   "source": [
    "# Почему я выбрала модель Случайный лес, но признаки ненадежного клиента ищу в Логистической регрессии:\n",
    "\n",
    "**Как я поняла задачу, есть необходимость обучить модель определять отмену, по моему исследованию для неё оптимален - Случайный лес;**\n",
    "\n",
    "**Но и есть задача описать клиента, для этого я использую Логистическую регрессию т.к. Лес неинтерпретируемый**"
   ]
  },
  {
   "cell_type": "markdown",
   "metadata": {},
   "source": [
    "* Самый высокий коэффицент (1.193749) признак - **У гостей из Португалии (country_PRT)**\n",
    "\n",
    "* Также часто отменяют бронь гости из стран: \n",
    "\n",
    "Италии (0.020980)  \n",
    "Бразилии (0.016974)\n",
    "\n",
    "* Также, часто отменяют те, кто делал это и ранее (0.829592) - **previous_cancellations**\n",
    "\n",
    "* Туристы, которые бронируют на месяцы:\n",
    "- Декабрь (0.070406) - **arrival_date_month_December**\n",
    "- Февраль (0.056332) - **arrival_date_month_February**\n",
    "- Июнь (0.046098) - **arrival_date_month_June**\n",
    "- Август (0.000826) - **arrival_date_month_August**\n",
    "\n",
    "* Туристы путешествующие самостоятельно (0.704091) **Не связано с договором или групповым заездом (Transient)**  \n",
    "\n",
    "* Туристы заказывающие питание (0.011218) по типу **FB** (трехразовое) **meal**   \n",
    "\n",
    "* Туристы сделавшие заказ через турагентов/туроператоров (TA/TO) (0.455693) **Канал дистрибуции заказа (distribution_channel)**\n",
    "\n",
    "* Туристы сделавшие заказ через Глобальную дистрибьюторскую систему — это международная система бронирования (0.001114) **distribution_channel_GDS**\n",
    "\n",
    "* Туристы не выбравшие дополнительные опции (0.139992) **SC - meal**  \n",
    "\n",
    "* Туристы выбирающие категории номеров **D** (0.000892) **reserved_room_type**"
   ]
  },
  {
   "cell_type": "markdown",
   "metadata": {},
   "source": [
    "# Шаг 6. Общий вывод\n",
    "\n",
    "Описание модели, которая решает задачу с наибольшей выгодой для бизнеса. А также, рекомендации бизнесу по результатам проделанной работы"
   ]
  },
  {
   "cell_type": "markdown",
   "metadata": {},
   "source": [
    "До внедрения системы депозитов, по итогам 2015 и 2016 годов (объединены) мы имели следующий результат:  \n",
    "\n",
    "* Сумма выручки за период составляла: 132 498 270.00\n",
    "* Сумма расходов на обслуживание номеров за период составляла: 27 421 100.00\n",
    "* Сумма прибыли отеля за период составляла: 105 077 170.00\n",
    "* Сумма упущенной выгоды из за отмены брони за период составляла: 37 601 230.00\n",
    "\n",
    "По поставленной задаче, нужно было обучить модель которая сможет вычислять в заявках клиента который вероятно откажется от брони, таким образом отель получит убыток.  \n",
    "\n",
    "В поиске алгоритма для обучения были проверены: \n",
    "\n",
    "* Логистическая регрессия\n",
    "* Случайный лес\n",
    "* SGDClassifier  \n",
    "\n",
    "Лучшие результаты показал алгоритм - **Случайный лес**, он же был применени к тестовой выборке.  \n",
    "\n",
    "После обучения модели был сделан прогноз прибыли за год, с учетом следующих факторов:  \n",
    "\n",
    "* Предположение, что 50% потенциальных клиентов откажутся от брони с депозитом  \n",
    "  \n",
    "И получили результат:  \n",
    "\n",
    "* Сумма выручки за год составит: 100 167 246.0\n",
    "* Сумма расходов на обслуживание номеров за год составит: 19 561 620.31\n",
    "* Сумма прибыли отеля за год составит: 80 605 625.68\n",
    "* Сумма упущенной выгоды из за отмены брони за год составит: 13 763 626.87\n",
    "\n",
    "По сравнению с данными тестовой выборки без внедрения депозита 80% мы получили результат:  \n",
    "\n",
    "* Сумма выручки за год уменьшится на 32 млн.\n",
    "* Сумма расходов на обслуживание номеров за год меньше на 7,8 млн.\n",
    "* Сумма прибыли отеля за год уменьшиться суммарно на 25 млн.\n",
    "* Сумма упущенной выгоды из за отмены брони за год уменьшится на 21 млн.\n",
    "\n",
    "Несмотря на уменьшение суммы прибыли после внедрения депозита, справедливо считать внедрение модели выгодной, т.к. сумма экономии на обслуживании номеров и уменьшение размера упущенной выгоды составит **28 млн.** , таким образом покрыв сумму на которую уменьшится прибыль отеля.  \n",
    "\n",
    "\n",
    "**На основе исследовательского анализа данных был получен портрет клиента, склонного к отказу от брони:**\n",
    "\n",
    "Самый высокий коэффицент гостей из Португалии. Также часто отменяют бронь гости из стран: - Италия и Бразилия. Также, часто отменяют те, кто делал это и ранее - previous_cancellations.  \n",
    "\n",
    "Туристы, которые бронируют на месяцы: - Декабрь; - Февраль; - Июнь; - Август; \n",
    "\n",
    "Туристы путешествующие самостоятельно. Туристы сделавшие заказ через турагентов/туроператоров и через Глобальную дистрибьюторскую систему. Туристы заказывающие питание по типу FB (трехразовое).  \n",
    "\n",
    "Туристы не выбравшие дополнительные опции. Туристы выбирающие категории номеров D. \n",
    "\n",
    "Таким образом, систему внедрения депозита для клиентов попадающих под алгоритм модели можно считать экономически оправданной для Заказчика, в том числе и с учетом репутационных особенностей туристической сферы.  "
   ]
  }
 ],
 "metadata": {
  "ExecuteTimeLog": [
   {
    "duration": 1464,
    "start_time": "2022-12-22T08:56:14.855Z"
   },
   {
    "duration": 826,
    "start_time": "2022-12-22T08:56:16.321Z"
   },
   {
    "duration": 42,
    "start_time": "2022-12-22T08:56:17.148Z"
   },
   {
    "duration": 31,
    "start_time": "2022-12-22T08:56:18.108Z"
   },
   {
    "duration": 71,
    "start_time": "2022-12-22T11:58:17.978Z"
   },
   {
    "duration": 1675,
    "start_time": "2023-01-04T15:11:39.201Z"
   },
   {
    "duration": 51,
    "start_time": "2023-01-04T16:56:16.380Z"
   },
   {
    "duration": 116,
    "start_time": "2023-01-04T17:03:26.067Z"
   },
   {
    "duration": 6,
    "start_time": "2023-01-04T17:03:33.417Z"
   },
   {
    "duration": 421,
    "start_time": "2023-01-04T17:03:34.625Z"
   },
   {
    "duration": 43,
    "start_time": "2023-01-04T17:03:35.292Z"
   },
   {
    "duration": 32,
    "start_time": "2023-01-04T17:03:35.906Z"
   },
   {
    "duration": 78,
    "start_time": "2023-01-04T17:03:36.936Z"
   },
   {
    "duration": 75,
    "start_time": "2023-01-04T17:03:37.928Z"
   },
   {
    "duration": 79,
    "start_time": "2023-01-04T17:04:07.929Z"
   },
   {
    "duration": 74,
    "start_time": "2023-01-04T17:04:21.895Z"
   },
   {
    "duration": 70,
    "start_time": "2023-01-04T17:04:37.195Z"
   },
   {
    "duration": 70,
    "start_time": "2023-01-04T17:05:06.136Z"
   },
   {
    "duration": 54,
    "start_time": "2023-01-05T11:17:10.996Z"
   },
   {
    "duration": 1585,
    "start_time": "2023-01-05T11:17:16.814Z"
   },
   {
    "duration": 406,
    "start_time": "2023-01-05T11:17:18.401Z"
   },
   {
    "duration": 44,
    "start_time": "2023-01-05T11:17:19.086Z"
   },
   {
    "duration": 42,
    "start_time": "2023-01-05T11:17:23.820Z"
   },
   {
    "duration": 6,
    "start_time": "2023-01-05T13:35:01.483Z"
   },
   {
    "duration": 4,
    "start_time": "2023-01-05T13:35:06.718Z"
   },
   {
    "duration": 5,
    "start_time": "2023-01-05T13:36:02.076Z"
   },
   {
    "duration": 7,
    "start_time": "2023-01-05T13:37:38.737Z"
   },
   {
    "duration": 5,
    "start_time": "2023-01-05T13:38:05.839Z"
   },
   {
    "duration": 5,
    "start_time": "2023-01-05T13:38:35.182Z"
   },
   {
    "duration": 5,
    "start_time": "2023-01-05T13:41:17.827Z"
   },
   {
    "duration": 80,
    "start_time": "2023-01-05T13:43:17.854Z"
   },
   {
    "duration": 41,
    "start_time": "2023-01-05T13:44:34.878Z"
   },
   {
    "duration": 36,
    "start_time": "2023-01-05T13:45:47.349Z"
   },
   {
    "duration": 5,
    "start_time": "2023-01-05T13:46:01.566Z"
   },
   {
    "duration": 937,
    "start_time": "2023-01-05T13:47:33.994Z"
   },
   {
    "duration": 465,
    "start_time": "2023-01-05T13:55:04.363Z"
   },
   {
    "duration": 10,
    "start_time": "2023-01-05T13:55:25.547Z"
   },
   {
    "duration": 9,
    "start_time": "2023-01-05T13:55:41.945Z"
   },
   {
    "duration": 43,
    "start_time": "2023-01-05T13:57:59.011Z"
   },
   {
    "duration": 44,
    "start_time": "2023-01-05T13:58:40.630Z"
   },
   {
    "duration": 33,
    "start_time": "2023-01-05T13:59:20.078Z"
   },
   {
    "duration": 79,
    "start_time": "2023-01-05T13:59:30.111Z"
   },
   {
    "duration": 4,
    "start_time": "2023-01-05T13:59:37.373Z"
   },
   {
    "duration": 125,
    "start_time": "2023-01-05T16:11:07.597Z"
   },
   {
    "duration": 4,
    "start_time": "2023-01-05T16:12:17.656Z"
   },
   {
    "duration": 111,
    "start_time": "2023-01-05T16:15:08.808Z"
   },
   {
    "duration": 109,
    "start_time": "2023-01-05T16:16:56.670Z"
   },
   {
    "duration": 117,
    "start_time": "2023-01-05T16:17:32.397Z"
   },
   {
    "duration": 110,
    "start_time": "2023-01-05T16:17:53.437Z"
   },
   {
    "duration": 69,
    "start_time": "2023-01-05T16:20:33.328Z"
   },
   {
    "duration": 6,
    "start_time": "2023-01-05T16:37:18.202Z"
   },
   {
    "duration": 194,
    "start_time": "2023-01-05T16:37:19.438Z"
   },
   {
    "duration": 39,
    "start_time": "2023-01-05T16:37:19.731Z"
   },
   {
    "duration": 121,
    "start_time": "2023-01-05T16:37:20.270Z"
   },
   {
    "duration": 4,
    "start_time": "2023-01-05T16:37:20.463Z"
   },
   {
    "duration": 33,
    "start_time": "2023-01-05T16:37:21.253Z"
   },
   {
    "duration": 115,
    "start_time": "2023-01-05T16:37:21.757Z"
   },
   {
    "duration": 70,
    "start_time": "2023-01-05T16:37:23.778Z"
   },
   {
    "duration": 1785,
    "start_time": "2023-01-06T08:31:18.157Z"
   },
   {
    "duration": 434,
    "start_time": "2023-01-06T08:31:19.944Z"
   },
   {
    "duration": 52,
    "start_time": "2023-01-06T08:31:20.380Z"
   },
   {
    "duration": 155,
    "start_time": "2023-01-06T08:31:20.435Z"
   },
   {
    "duration": 4,
    "start_time": "2023-01-06T08:31:20.592Z"
   },
   {
    "duration": 44,
    "start_time": "2023-01-06T08:31:20.598Z"
   },
   {
    "duration": 141,
    "start_time": "2023-01-06T08:31:20.643Z"
   },
   {
    "duration": 80,
    "start_time": "2023-01-06T08:31:20.807Z"
   },
   {
    "duration": 46,
    "start_time": "2023-01-06T08:31:21.298Z"
   },
   {
    "duration": 6,
    "start_time": "2023-01-06T09:11:13.638Z"
   },
   {
    "duration": 1495,
    "start_time": "2023-01-06T09:12:02.255Z"
   },
   {
    "duration": 1453,
    "start_time": "2023-01-06T09:12:08.717Z"
   },
   {
    "duration": 1517,
    "start_time": "2023-01-06T09:12:33.263Z"
   },
   {
    "duration": 1969,
    "start_time": "2023-01-06T09:12:40.912Z"
   },
   {
    "duration": 2059,
    "start_time": "2023-01-06T09:13:01.188Z"
   },
   {
    "duration": 5,
    "start_time": "2023-01-06T09:16:33.630Z"
   },
   {
    "duration": 6,
    "start_time": "2023-01-06T09:16:39.521Z"
   },
   {
    "duration": 6,
    "start_time": "2023-01-06T09:17:00.927Z"
   },
   {
    "duration": 147,
    "start_time": "2023-01-06T09:17:16.065Z"
   },
   {
    "duration": 147,
    "start_time": "2023-01-06T09:17:37.523Z"
   },
   {
    "duration": 4,
    "start_time": "2023-01-06T09:18:19.503Z"
   },
   {
    "duration": 6,
    "start_time": "2023-01-06T09:18:48.593Z"
   },
   {
    "duration": 5,
    "start_time": "2023-01-06T09:19:08.623Z"
   },
   {
    "duration": 40,
    "start_time": "2023-01-06T09:21:20.237Z"
   },
   {
    "duration": 42,
    "start_time": "2023-01-06T09:21:38.500Z"
   },
   {
    "duration": 115,
    "start_time": "2023-01-06T09:29:24.941Z"
   },
   {
    "duration": 11,
    "start_time": "2023-01-06T09:29:36.803Z"
   },
   {
    "duration": 10,
    "start_time": "2023-01-06T09:29:49.489Z"
   },
   {
    "duration": 9,
    "start_time": "2023-01-06T09:30:02.163Z"
   },
   {
    "duration": 10,
    "start_time": "2023-01-06T09:30:22.916Z"
   },
   {
    "duration": 10,
    "start_time": "2023-01-06T09:30:30.654Z"
   },
   {
    "duration": 10,
    "start_time": "2023-01-06T09:30:45.446Z"
   },
   {
    "duration": 11,
    "start_time": "2023-01-06T09:33:15.912Z"
   },
   {
    "duration": 10,
    "start_time": "2023-01-06T09:33:21.286Z"
   },
   {
    "duration": 56,
    "start_time": "2023-01-06T09:33:28.683Z"
   },
   {
    "duration": 9,
    "start_time": "2023-01-06T09:33:34.558Z"
   },
   {
    "duration": 9,
    "start_time": "2023-01-06T09:34:03.761Z"
   },
   {
    "duration": 51,
    "start_time": "2023-01-06T09:34:37.726Z"
   },
   {
    "duration": 10,
    "start_time": "2023-01-06T09:34:41.345Z"
   },
   {
    "duration": 867,
    "start_time": "2023-01-06T09:34:56.929Z"
   },
   {
    "duration": 10,
    "start_time": "2023-01-06T09:35:05.718Z"
   },
   {
    "duration": 2,
    "start_time": "2023-01-06T09:38:04.569Z"
   },
   {
    "duration": 3,
    "start_time": "2023-01-06T09:38:12.478Z"
   },
   {
    "duration": 5,
    "start_time": "2023-01-06T09:40:22.053Z"
   },
   {
    "duration": 47,
    "start_time": "2023-01-06T09:45:43.097Z"
   },
   {
    "duration": 49,
    "start_time": "2023-01-06T09:50:10.969Z"
   },
   {
    "duration": 3,
    "start_time": "2023-01-06T09:50:18.969Z"
   },
   {
    "duration": 4,
    "start_time": "2023-01-06T10:02:55.143Z"
   },
   {
    "duration": 4,
    "start_time": "2023-01-06T10:12:07.729Z"
   },
   {
    "duration": 44,
    "start_time": "2023-01-06T10:12:17.413Z"
   },
   {
    "duration": 13,
    "start_time": "2023-01-06T10:12:41.122Z"
   },
   {
    "duration": 3,
    "start_time": "2023-01-06T10:12:44.805Z"
   },
   {
    "duration": 5,
    "start_time": "2023-01-06T10:12:45.105Z"
   },
   {
    "duration": 48,
    "start_time": "2023-01-06T10:12:45.228Z"
   },
   {
    "duration": 5,
    "start_time": "2023-01-06T10:13:12.949Z"
   },
   {
    "duration": 37,
    "start_time": "2023-01-06T10:13:12.956Z"
   },
   {
    "duration": 4,
    "start_time": "2023-01-06T10:13:13.067Z"
   },
   {
    "duration": 4,
    "start_time": "2023-01-06T10:13:13.176Z"
   },
   {
    "duration": 53,
    "start_time": "2023-01-06T10:13:13.286Z"
   },
   {
    "duration": 19,
    "start_time": "2023-01-06T10:13:33.372Z"
   },
   {
    "duration": 15,
    "start_time": "2023-01-06T10:13:39.724Z"
   },
   {
    "duration": 7,
    "start_time": "2023-01-06T10:14:14.215Z"
   },
   {
    "duration": 14,
    "start_time": "2023-01-06T10:14:43.777Z"
   },
   {
    "duration": 50,
    "start_time": "2023-01-06T10:14:49.592Z"
   },
   {
    "duration": 47,
    "start_time": "2023-01-06T10:15:19.748Z"
   },
   {
    "duration": 6,
    "start_time": "2023-01-06T10:15:20.255Z"
   },
   {
    "duration": 4,
    "start_time": "2023-01-06T10:15:20.618Z"
   },
   {
    "duration": 2115,
    "start_time": "2023-01-06T10:15:20.898Z"
   },
   {
    "duration": 37,
    "start_time": "2023-01-06T10:15:23.015Z"
   },
   {
    "duration": 24,
    "start_time": "2023-01-06T10:15:23.054Z"
   },
   {
    "duration": 901,
    "start_time": "2023-01-06T10:15:23.080Z"
   },
   {
    "duration": 76,
    "start_time": "2023-01-06T10:15:32.727Z"
   },
   {
    "duration": 4,
    "start_time": "2023-01-06T10:15:33.885Z"
   },
   {
    "duration": 4,
    "start_time": "2023-01-06T10:15:34.421Z"
   },
   {
    "duration": 3,
    "start_time": "2023-01-06T10:15:36.164Z"
   },
   {
    "duration": 4,
    "start_time": "2023-01-06T10:15:36.561Z"
   },
   {
    "duration": 1578,
    "start_time": "2023-01-06T10:15:36.895Z"
   },
   {
    "duration": 136,
    "start_time": "2023-01-06T10:15:47.407Z"
   },
   {
    "duration": 1085,
    "start_time": "2023-01-06T10:16:56.176Z"
   },
   {
    "duration": 118,
    "start_time": "2023-01-06T10:17:03.716Z"
   },
   {
    "duration": 1688,
    "start_time": "2023-01-06T10:18:01.031Z"
   },
   {
    "duration": 146,
    "start_time": "2023-01-06T10:18:04.510Z"
   },
   {
    "duration": 5,
    "start_time": "2023-01-06T10:18:23.832Z"
   },
   {
    "duration": 50,
    "start_time": "2023-01-06T10:20:14.879Z"
   },
   {
    "duration": 1825,
    "start_time": "2023-01-09T09:53:29.417Z"
   },
   {
    "duration": 872,
    "start_time": "2023-01-09T09:53:33.370Z"
   },
   {
    "duration": 13,
    "start_time": "2023-01-09T09:53:34.560Z"
   },
   {
    "duration": 58,
    "start_time": "2023-01-09T09:53:36.668Z"
   },
   {
    "duration": 6,
    "start_time": "2023-01-09T09:54:09.574Z"
   },
   {
    "duration": 4,
    "start_time": "2023-01-09T09:54:10.006Z"
   },
   {
    "duration": 2027,
    "start_time": "2023-01-09T09:54:11.202Z"
   },
   {
    "duration": 47,
    "start_time": "2023-01-09T09:54:13.232Z"
   },
   {
    "duration": 11,
    "start_time": "2023-01-09T09:54:13.281Z"
   },
   {
    "duration": 848,
    "start_time": "2023-01-09T09:54:13.294Z"
   },
   {
    "duration": 82,
    "start_time": "2023-01-09T09:54:14.144Z"
   },
   {
    "duration": 3,
    "start_time": "2023-01-09T09:54:17.725Z"
   },
   {
    "duration": 3,
    "start_time": "2023-01-09T09:54:20.449Z"
   },
   {
    "duration": 4,
    "start_time": "2023-01-09T10:13:05.706Z"
   },
   {
    "duration": 4,
    "start_time": "2023-01-09T10:13:06.264Z"
   },
   {
    "duration": 3,
    "start_time": "2023-01-09T10:13:06.837Z"
   },
   {
    "duration": 4191,
    "start_time": "2023-01-09T10:13:11.227Z"
   },
   {
    "duration": 5,
    "start_time": "2023-01-09T10:14:19.007Z"
   },
   {
    "duration": 6,
    "start_time": "2023-01-09T11:36:14.029Z"
   },
   {
    "duration": 5,
    "start_time": "2023-01-09T11:37:10.822Z"
   },
   {
    "duration": 5,
    "start_time": "2023-01-09T11:39:54.708Z"
   },
   {
    "duration": 5,
    "start_time": "2023-01-09T11:41:13.749Z"
   },
   {
    "duration": 2369,
    "start_time": "2023-01-09T11:56:07.568Z"
   },
   {
    "duration": 2074,
    "start_time": "2023-01-09T11:56:23.549Z"
   },
   {
    "duration": 2143,
    "start_time": "2023-01-09T11:56:43.842Z"
   },
   {
    "duration": 4,
    "start_time": "2023-01-09T11:59:18.807Z"
   },
   {
    "duration": 5,
    "start_time": "2023-01-09T13:37:02.063Z"
   },
   {
    "duration": 229,
    "start_time": "2023-01-09T13:39:49.893Z"
   },
   {
    "duration": 6,
    "start_time": "2023-01-09T13:40:05.450Z"
   },
   {
    "duration": 212,
    "start_time": "2023-01-09T13:40:06.600Z"
   },
   {
    "duration": 24,
    "start_time": "2023-01-09T13:40:07.063Z"
   },
   {
    "duration": 53,
    "start_time": "2023-01-09T13:40:07.783Z"
   },
   {
    "duration": 7,
    "start_time": "2023-01-09T13:40:08.984Z"
   },
   {
    "duration": 4,
    "start_time": "2023-01-09T13:40:13.472Z"
   },
   {
    "duration": 2148,
    "start_time": "2023-01-09T13:40:15.617Z"
   },
   {
    "duration": 56,
    "start_time": "2023-01-09T13:40:17.767Z"
   },
   {
    "duration": 11,
    "start_time": "2023-01-09T13:40:20.393Z"
   },
   {
    "duration": 807,
    "start_time": "2023-01-09T13:40:24.098Z"
   },
   {
    "duration": 76,
    "start_time": "2023-01-09T13:40:26.204Z"
   },
   {
    "duration": 5,
    "start_time": "2023-01-09T13:40:30.007Z"
   },
   {
    "duration": 3,
    "start_time": "2023-01-09T13:40:33.238Z"
   },
   {
    "duration": 4,
    "start_time": "2023-01-09T13:40:38.409Z"
   },
   {
    "duration": 4,
    "start_time": "2023-01-09T13:40:41.337Z"
   },
   {
    "duration": 4251,
    "start_time": "2023-01-09T13:40:42.253Z"
   },
   {
    "duration": 5,
    "start_time": "2023-01-09T13:41:01.472Z"
   },
   {
    "duration": 4,
    "start_time": "2023-01-09T13:41:01.824Z"
   },
   {
    "duration": 4,
    "start_time": "2023-01-09T13:41:02.239Z"
   },
   {
    "duration": 2,
    "start_time": "2023-01-09T13:41:03.236Z"
   },
   {
    "duration": 5,
    "start_time": "2023-01-09T13:41:06.488Z"
   },
   {
    "duration": 86,
    "start_time": "2023-01-09T13:41:07.200Z"
   },
   {
    "duration": 13,
    "start_time": "2023-01-09T13:41:57.426Z"
   },
   {
    "duration": 10,
    "start_time": "2023-01-09T13:42:21.960Z"
   },
   {
    "duration": 11,
    "start_time": "2023-01-09T13:42:30.644Z"
   },
   {
    "duration": 4,
    "start_time": "2023-01-09T13:44:42.415Z"
   },
   {
    "duration": 5,
    "start_time": "2023-01-09T13:45:24.816Z"
   },
   {
    "duration": 114,
    "start_time": "2023-01-09T13:56:29.708Z"
   },
   {
    "duration": 7,
    "start_time": "2023-01-09T14:44:00.618Z"
   },
   {
    "duration": 104,
    "start_time": "2023-01-09T14:57:16.503Z"
   },
   {
    "duration": 1735,
    "start_time": "2023-01-10T08:34:13.151Z"
   },
   {
    "duration": 384,
    "start_time": "2023-01-10T08:34:14.888Z"
   },
   {
    "duration": 14,
    "start_time": "2023-01-10T08:34:15.274Z"
   },
   {
    "duration": 56,
    "start_time": "2023-01-10T08:34:15.290Z"
   },
   {
    "duration": 6,
    "start_time": "2023-01-10T08:34:15.348Z"
   },
   {
    "duration": 18,
    "start_time": "2023-01-10T08:34:15.355Z"
   },
   {
    "duration": 2154,
    "start_time": "2023-01-10T08:34:15.375Z"
   },
   {
    "duration": 46,
    "start_time": "2023-01-10T08:34:17.531Z"
   },
   {
    "duration": 10,
    "start_time": "2023-01-10T08:34:17.579Z"
   },
   {
    "duration": 939,
    "start_time": "2023-01-10T08:34:17.592Z"
   },
   {
    "duration": 82,
    "start_time": "2023-01-10T08:34:18.534Z"
   },
   {
    "duration": 17,
    "start_time": "2023-01-10T08:34:18.618Z"
   },
   {
    "duration": 3,
    "start_time": "2023-01-10T08:34:18.638Z"
   },
   {
    "duration": 10,
    "start_time": "2023-01-10T08:34:18.643Z"
   },
   {
    "duration": 24,
    "start_time": "2023-01-10T08:34:18.655Z"
   },
   {
    "duration": 4784,
    "start_time": "2023-01-10T08:34:18.681Z"
   },
   {
    "duration": 4,
    "start_time": "2023-01-10T08:34:23.467Z"
   },
   {
    "duration": 14,
    "start_time": "2023-01-10T08:34:23.473Z"
   },
   {
    "duration": 9,
    "start_time": "2023-01-10T08:34:23.488Z"
   },
   {
    "duration": 8,
    "start_time": "2023-01-10T08:34:23.499Z"
   },
   {
    "duration": 18,
    "start_time": "2023-01-10T08:34:23.509Z"
   },
   {
    "duration": 128,
    "start_time": "2023-01-10T08:34:23.535Z"
   },
   {
    "duration": 0,
    "start_time": "2023-01-10T08:34:23.664Z"
   },
   {
    "duration": 6,
    "start_time": "2023-01-10T08:36:41.916Z"
   },
   {
    "duration": 3,
    "start_time": "2023-01-10T09:07:18.423Z"
   },
   {
    "duration": 3,
    "start_time": "2023-01-10T09:07:18.853Z"
   },
   {
    "duration": 4,
    "start_time": "2023-01-10T09:07:19.312Z"
   },
   {
    "duration": 4,
    "start_time": "2023-01-10T09:07:19.946Z"
   },
   {
    "duration": 4667,
    "start_time": "2023-01-10T09:07:21.648Z"
   },
   {
    "duration": 6,
    "start_time": "2023-01-10T09:26:54.426Z"
   },
   {
    "duration": 43,
    "start_time": "2023-01-10T09:27:58.867Z"
   },
   {
    "duration": 21,
    "start_time": "2023-01-10T09:28:09.233Z"
   },
   {
    "duration": 12,
    "start_time": "2023-01-10T09:31:54.289Z"
   },
   {
    "duration": 28,
    "start_time": "2023-01-10T09:32:08.574Z"
   },
   {
    "duration": 21,
    "start_time": "2023-01-10T09:32:51.640Z"
   },
   {
    "duration": 4,
    "start_time": "2023-01-10T09:43:02.150Z"
   },
   {
    "duration": 446,
    "start_time": "2023-01-10T09:44:04.357Z"
   },
   {
    "duration": 43,
    "start_time": "2023-01-10T09:47:37.237Z"
   },
   {
    "duration": 39,
    "start_time": "2023-01-10T09:47:59.389Z"
   },
   {
    "duration": 27,
    "start_time": "2023-01-10T09:50:21.397Z"
   },
   {
    "duration": 9,
    "start_time": "2023-01-10T09:50:42.684Z"
   },
   {
    "duration": 7528,
    "start_time": "2023-01-10T09:53:46.685Z"
   },
   {
    "duration": 11,
    "start_time": "2023-01-10T09:54:21.785Z"
   },
   {
    "duration": 9,
    "start_time": "2023-01-10T09:54:23.888Z"
   },
   {
    "duration": 12,
    "start_time": "2023-01-10T09:54:24.649Z"
   },
   {
    "duration": 40,
    "start_time": "2023-01-10T09:54:26.976Z"
   },
   {
    "duration": 10,
    "start_time": "2023-01-10T09:54:27.368Z"
   },
   {
    "duration": 7200,
    "start_time": "2023-01-10T09:54:27.921Z"
   },
   {
    "duration": 35,
    "start_time": "2023-01-10T09:58:53.844Z"
   },
   {
    "duration": 57,
    "start_time": "2023-01-10T09:59:23.415Z"
   },
   {
    "duration": 8,
    "start_time": "2023-01-10T09:59:28.393Z"
   },
   {
    "duration": 9,
    "start_time": "2023-01-10T09:59:41.744Z"
   },
   {
    "duration": 25,
    "start_time": "2023-01-10T09:59:48.422Z"
   },
   {
    "duration": 38,
    "start_time": "2023-01-10T09:59:50.803Z"
   },
   {
    "duration": 27,
    "start_time": "2023-01-10T09:59:51.372Z"
   },
   {
    "duration": 9,
    "start_time": "2023-01-10T09:59:52.106Z"
   },
   {
    "duration": 9,
    "start_time": "2023-01-10T09:59:52.655Z"
   },
   {
    "duration": 7370,
    "start_time": "2023-01-10T09:59:53.656Z"
   },
   {
    "duration": 7,
    "start_time": "2023-01-10T10:00:01.028Z"
   },
   {
    "duration": 6,
    "start_time": "2023-01-10T10:03:10.305Z"
   },
   {
    "duration": 15,
    "start_time": "2023-01-10T10:05:20.460Z"
   },
   {
    "duration": 17,
    "start_time": "2023-01-10T10:05:48.667Z"
   },
   {
    "duration": 13,
    "start_time": "2023-01-10T10:05:54.485Z"
   },
   {
    "duration": 23,
    "start_time": "2023-01-10T10:05:58.182Z"
   },
   {
    "duration": 117,
    "start_time": "2023-01-10T10:06:56.445Z"
   },
   {
    "duration": 144,
    "start_time": "2023-01-10T10:07:04.665Z"
   },
   {
    "duration": 175,
    "start_time": "2023-01-10T10:08:44.269Z"
   },
   {
    "duration": 5,
    "start_time": "2023-01-10T10:09:21.118Z"
   },
   {
    "duration": 9,
    "start_time": "2023-01-10T10:09:40.058Z"
   },
   {
    "duration": 9,
    "start_time": "2023-01-10T10:09:48.367Z"
   },
   {
    "duration": 9,
    "start_time": "2023-01-10T10:09:53.953Z"
   },
   {
    "duration": 10,
    "start_time": "2023-01-10T10:09:55.987Z"
   },
   {
    "duration": 6,
    "start_time": "2023-01-10T10:10:16.044Z"
   },
   {
    "duration": 145,
    "start_time": "2023-01-10T10:11:10.657Z"
   },
   {
    "duration": 197,
    "start_time": "2023-01-10T10:11:14.142Z"
   },
   {
    "duration": 130,
    "start_time": "2023-01-10T10:11:14.341Z"
   },
   {
    "duration": 49,
    "start_time": "2023-01-10T10:17:33.834Z"
   },
   {
    "duration": 11,
    "start_time": "2023-01-10T10:18:24.750Z"
   },
   {
    "duration": 45,
    "start_time": "2023-01-10T10:18:27.296Z"
   },
   {
    "duration": 6,
    "start_time": "2023-01-10T10:18:27.498Z"
   },
   {
    "duration": 5,
    "start_time": "2023-01-10T10:18:27.693Z"
   },
   {
    "duration": 2296,
    "start_time": "2023-01-10T10:18:27.897Z"
   },
   {
    "duration": 54,
    "start_time": "2023-01-10T10:18:30.195Z"
   },
   {
    "duration": 108,
    "start_time": "2023-01-10T10:18:30.251Z"
   },
   {
    "duration": 1003,
    "start_time": "2023-01-10T10:18:30.361Z"
   },
   {
    "duration": 472,
    "start_time": "2023-01-10T10:18:31.365Z"
   },
   {
    "duration": 96,
    "start_time": "2023-01-10T10:18:31.839Z"
   },
   {
    "duration": 41,
    "start_time": "2023-01-10T10:18:31.937Z"
   },
   {
    "duration": 31,
    "start_time": "2023-01-10T10:18:31.980Z"
   },
   {
    "duration": 13,
    "start_time": "2023-01-10T10:18:32.013Z"
   },
   {
    "duration": 14,
    "start_time": "2023-01-10T10:18:32.028Z"
   },
   {
    "duration": 4887,
    "start_time": "2023-01-10T10:18:32.044Z"
   },
   {
    "duration": 5,
    "start_time": "2023-01-10T10:18:36.933Z"
   },
   {
    "duration": 29,
    "start_time": "2023-01-10T10:18:36.939Z"
   },
   {
    "duration": 13,
    "start_time": "2023-01-10T10:18:36.970Z"
   },
   {
    "duration": 21,
    "start_time": "2023-01-10T10:18:36.985Z"
   },
   {
    "duration": 31,
    "start_time": "2023-01-10T10:18:37.009Z"
   },
   {
    "duration": 31,
    "start_time": "2023-01-10T10:18:37.041Z"
   },
   {
    "duration": 18,
    "start_time": "2023-01-10T10:18:37.074Z"
   },
   {
    "duration": 11,
    "start_time": "2023-01-10T10:18:37.094Z"
   },
   {
    "duration": 11,
    "start_time": "2023-01-10T10:18:37.107Z"
   },
   {
    "duration": 12,
    "start_time": "2023-01-10T10:18:37.119Z"
   },
   {
    "duration": 15,
    "start_time": "2023-01-10T10:18:37.133Z"
   },
   {
    "duration": 4460,
    "start_time": "2023-01-10T10:18:37.150Z"
   },
   {
    "duration": 3,
    "start_time": "2023-01-10T10:18:41.612Z"
   },
   {
    "duration": 42,
    "start_time": "2023-01-10T10:18:41.617Z"
   },
   {
    "duration": 197,
    "start_time": "2023-01-10T10:18:41.663Z"
   },
   {
    "duration": 129,
    "start_time": "2023-01-10T10:18:41.862Z"
   },
   {
    "duration": 137,
    "start_time": "2023-01-10T10:20:05.109Z"
   },
   {
    "duration": 73,
    "start_time": "2023-01-10T10:20:10.408Z"
   },
   {
    "duration": 34,
    "start_time": "2023-01-10T10:21:17.006Z"
   },
   {
    "duration": 15,
    "start_time": "2023-01-10T10:21:17.516Z"
   },
   {
    "duration": 5772,
    "start_time": "2023-01-10T10:22:32.122Z"
   },
   {
    "duration": 7,
    "start_time": "2023-01-10T10:23:26.304Z"
   },
   {
    "duration": 17,
    "start_time": "2023-01-10T10:24:45.721Z"
   },
   {
    "duration": 11,
    "start_time": "2023-01-10T10:24:57.731Z"
   },
   {
    "duration": 59,
    "start_time": "2023-01-10T10:26:42.368Z"
   },
   {
    "duration": 4,
    "start_time": "2023-01-10T10:26:47.066Z"
   },
   {
    "duration": 6,
    "start_time": "2023-01-10T10:27:27.385Z"
   },
   {
    "duration": 4,
    "start_time": "2023-01-10T16:22:35.143Z"
   },
   {
    "duration": 210,
    "start_time": "2023-01-10T16:27:06.913Z"
   },
   {
    "duration": 15,
    "start_time": "2023-01-10T16:27:08.215Z"
   },
   {
    "duration": 11,
    "start_time": "2023-01-10T16:27:08.708Z"
   },
   {
    "duration": 46,
    "start_time": "2023-01-10T16:27:09.066Z"
   },
   {
    "duration": 6,
    "start_time": "2023-01-10T16:27:10.034Z"
   },
   {
    "duration": 4,
    "start_time": "2023-01-10T16:27:10.977Z"
   },
   {
    "duration": 2165,
    "start_time": "2023-01-10T16:27:17.095Z"
   },
   {
    "duration": 42,
    "start_time": "2023-01-10T16:27:19.262Z"
   },
   {
    "duration": 11,
    "start_time": "2023-01-10T16:27:19.306Z"
   },
   {
    "duration": 890,
    "start_time": "2023-01-10T16:27:19.319Z"
   },
   {
    "duration": 425,
    "start_time": "2023-01-10T16:27:20.211Z"
   },
   {
    "duration": 73,
    "start_time": "2023-01-10T16:27:20.637Z"
   },
   {
    "duration": 3,
    "start_time": "2023-01-10T16:27:20.712Z"
   },
   {
    "duration": 3,
    "start_time": "2023-01-10T16:27:21.069Z"
   },
   {
    "duration": 3,
    "start_time": "2023-01-10T16:27:21.462Z"
   },
   {
    "duration": 4,
    "start_time": "2023-01-10T16:27:21.746Z"
   },
   {
    "duration": 4731,
    "start_time": "2023-01-10T16:27:22.048Z"
   },
   {
    "duration": 5,
    "start_time": "2023-01-10T16:27:26.781Z"
   },
   {
    "duration": 9,
    "start_time": "2023-01-10T16:27:26.788Z"
   },
   {
    "duration": 13,
    "start_time": "2023-01-10T16:27:26.799Z"
   },
   {
    "duration": 5,
    "start_time": "2023-01-10T16:27:52.778Z"
   },
   {
    "duration": 18,
    "start_time": "2023-01-10T16:27:54.414Z"
   },
   {
    "duration": 3,
    "start_time": "2023-01-10T16:27:55.529Z"
   },
   {
    "duration": 17,
    "start_time": "2023-01-10T16:28:13.597Z"
   },
   {
    "duration": 4,
    "start_time": "2023-01-10T16:28:15.911Z"
   },
   {
    "duration": 3,
    "start_time": "2023-01-10T16:28:16.192Z"
   },
   {
    "duration": 3,
    "start_time": "2023-01-10T16:28:16.484Z"
   },
   {
    "duration": 3,
    "start_time": "2023-01-10T16:28:16.736Z"
   },
   {
    "duration": 6086,
    "start_time": "2023-01-10T16:28:17.010Z"
   },
   {
    "duration": 3,
    "start_time": "2023-01-10T16:28:23.098Z"
   },
   {
    "duration": 25,
    "start_time": "2023-01-10T16:28:34.404Z"
   },
   {
    "duration": 118,
    "start_time": "2023-01-10T16:28:34.641Z"
   },
   {
    "duration": 61,
    "start_time": "2023-01-10T16:28:34.894Z"
   },
   {
    "duration": 23,
    "start_time": "2023-01-10T16:28:35.141Z"
   },
   {
    "duration": 14,
    "start_time": "2023-01-10T16:28:36.191Z"
   },
   {
    "duration": 11,
    "start_time": "2023-01-10T16:33:20.798Z"
   },
   {
    "duration": 9,
    "start_time": "2023-01-10T16:35:39.361Z"
   },
   {
    "duration": 127,
    "start_time": "2023-01-10T16:35:54.514Z"
   },
   {
    "duration": 73,
    "start_time": "2023-01-10T16:41:44.163Z"
   },
   {
    "duration": 10,
    "start_time": "2023-01-10T16:42:11.198Z"
   },
   {
    "duration": 84,
    "start_time": "2023-01-10T16:42:22.553Z"
   },
   {
    "duration": 22,
    "start_time": "2023-01-10T16:43:37.741Z"
   },
   {
    "duration": 4,
    "start_time": "2023-01-10T16:45:17.200Z"
   },
   {
    "duration": 3,
    "start_time": "2023-01-10T16:45:27.984Z"
   },
   {
    "duration": 11,
    "start_time": "2023-01-10T16:58:59.357Z"
   },
   {
    "duration": 12,
    "start_time": "2023-01-10T17:02:29.695Z"
   },
   {
    "duration": 14,
    "start_time": "2023-01-10T17:10:32.872Z"
   },
   {
    "duration": 27,
    "start_time": "2023-01-10T17:10:58.713Z"
   },
   {
    "duration": 16,
    "start_time": "2023-01-10T17:11:12.909Z"
   },
   {
    "duration": 5,
    "start_time": "2023-01-10T17:11:26.989Z"
   },
   {
    "duration": 182,
    "start_time": "2023-01-10T17:11:28.094Z"
   },
   {
    "duration": 14,
    "start_time": "2023-01-10T17:11:28.556Z"
   },
   {
    "duration": 8,
    "start_time": "2023-01-10T17:11:28.952Z"
   },
   {
    "duration": 40,
    "start_time": "2023-01-10T17:11:29.433Z"
   },
   {
    "duration": 6,
    "start_time": "2023-01-10T17:11:29.841Z"
   },
   {
    "duration": 4,
    "start_time": "2023-01-10T17:11:30.250Z"
   },
   {
    "duration": 1861,
    "start_time": "2023-01-10T17:11:30.690Z"
   },
   {
    "duration": 59,
    "start_time": "2023-01-10T17:11:32.554Z"
   },
   {
    "duration": 29,
    "start_time": "2023-01-10T17:11:32.615Z"
   },
   {
    "duration": 893,
    "start_time": "2023-01-10T17:11:32.646Z"
   },
   {
    "duration": 436,
    "start_time": "2023-01-10T17:11:34.514Z"
   },
   {
    "duration": 69,
    "start_time": "2023-01-10T17:11:35.252Z"
   },
   {
    "duration": 3,
    "start_time": "2023-01-10T17:11:38.553Z"
   },
   {
    "duration": 3,
    "start_time": "2023-01-10T17:11:39.108Z"
   },
   {
    "duration": 4,
    "start_time": "2023-01-10T17:11:39.569Z"
   },
   {
    "duration": 5,
    "start_time": "2023-01-10T17:11:40.150Z"
   },
   {
    "duration": 4778,
    "start_time": "2023-01-10T17:11:40.640Z"
   },
   {
    "duration": 4,
    "start_time": "2023-01-10T17:11:45.420Z"
   },
   {
    "duration": 4,
    "start_time": "2023-01-10T17:11:47.360Z"
   },
   {
    "duration": 4,
    "start_time": "2023-01-10T17:11:47.956Z"
   },
   {
    "duration": 5,
    "start_time": "2023-01-10T17:11:49.172Z"
   },
   {
    "duration": 2,
    "start_time": "2023-01-10T17:11:52.330Z"
   },
   {
    "duration": 17,
    "start_time": "2023-01-10T17:11:56.118Z"
   },
   {
    "duration": 4,
    "start_time": "2023-01-10T17:11:59.697Z"
   },
   {
    "duration": 3,
    "start_time": "2023-01-10T17:11:59.960Z"
   },
   {
    "duration": 2,
    "start_time": "2023-01-10T17:12:00.224Z"
   },
   {
    "duration": 3,
    "start_time": "2023-01-10T17:12:00.491Z"
   },
   {
    "duration": 5103,
    "start_time": "2023-01-10T17:12:00.801Z"
   },
   {
    "duration": 4,
    "start_time": "2023-01-10T17:12:07.042Z"
   },
   {
    "duration": 26,
    "start_time": "2023-01-10T17:12:07.693Z"
   },
   {
    "duration": 120,
    "start_time": "2023-01-10T17:12:08.257Z"
   },
   {
    "duration": 65,
    "start_time": "2023-01-10T17:12:08.914Z"
   },
   {
    "duration": 29,
    "start_time": "2023-01-10T17:12:13.578Z"
   },
   {
    "duration": 15,
    "start_time": "2023-01-10T17:12:13.951Z"
   },
   {
    "duration": 2,
    "start_time": "2023-01-10T17:12:17.094Z"
   },
   {
    "duration": 15,
    "start_time": "2023-01-10T17:12:18.252Z"
   },
   {
    "duration": 17,
    "start_time": "2023-01-10T17:12:26.280Z"
   },
   {
    "duration": 18,
    "start_time": "2023-01-10T17:13:09.266Z"
   },
   {
    "duration": 12,
    "start_time": "2023-01-10T17:13:21.097Z"
   },
   {
    "duration": 14,
    "start_time": "2023-01-10T17:15:33.218Z"
   },
   {
    "duration": 9,
    "start_time": "2023-01-10T17:16:30.216Z"
   },
   {
    "duration": 25,
    "start_time": "2023-01-10T17:16:42.545Z"
   },
   {
    "duration": 29,
    "start_time": "2023-01-10T17:17:20.454Z"
   },
   {
    "duration": 18,
    "start_time": "2023-01-10T17:17:21.357Z"
   },
   {
    "duration": 9,
    "start_time": "2023-01-10T17:19:39.550Z"
   },
   {
    "duration": 76,
    "start_time": "2023-01-10T17:25:13.133Z"
   },
   {
    "duration": 14,
    "start_time": "2023-01-10T17:26:21.260Z"
   },
   {
    "duration": 71,
    "start_time": "2023-01-10T17:27:30.387Z"
   },
   {
    "duration": 1453,
    "start_time": "2023-01-11T09:17:08.632Z"
   },
   {
    "duration": 360,
    "start_time": "2023-01-11T09:17:10.090Z"
   },
   {
    "duration": 15,
    "start_time": "2023-01-11T09:17:10.452Z"
   },
   {
    "duration": 42,
    "start_time": "2023-01-11T09:17:10.469Z"
   },
   {
    "duration": 71,
    "start_time": "2023-01-11T09:17:10.512Z"
   },
   {
    "duration": 5,
    "start_time": "2023-01-11T09:17:10.584Z"
   },
   {
    "duration": 40,
    "start_time": "2023-01-11T09:17:10.590Z"
   },
   {
    "duration": 1875,
    "start_time": "2023-01-11T09:17:10.631Z"
   },
   {
    "duration": 40,
    "start_time": "2023-01-11T09:17:12.508Z"
   },
   {
    "duration": 17,
    "start_time": "2023-01-11T09:17:12.551Z"
   },
   {
    "duration": 818,
    "start_time": "2023-01-11T09:17:12.569Z"
   },
   {
    "duration": 394,
    "start_time": "2023-01-11T09:17:13.389Z"
   },
   {
    "duration": 77,
    "start_time": "2023-01-11T09:17:13.784Z"
   },
   {
    "duration": 6,
    "start_time": "2023-01-11T09:17:13.862Z"
   },
   {
    "duration": 20,
    "start_time": "2023-01-11T09:17:13.869Z"
   },
   {
    "duration": 30,
    "start_time": "2023-01-11T09:17:13.890Z"
   },
   {
    "duration": 16,
    "start_time": "2023-01-11T09:17:13.922Z"
   },
   {
    "duration": 4368,
    "start_time": "2023-01-11T09:17:13.941Z"
   },
   {
    "duration": 4,
    "start_time": "2023-01-11T09:17:18.311Z"
   },
   {
    "duration": 9,
    "start_time": "2023-01-11T09:17:18.316Z"
   },
   {
    "duration": 12,
    "start_time": "2023-01-11T09:17:18.327Z"
   },
   {
    "duration": 5,
    "start_time": "2023-01-11T09:17:18.340Z"
   },
   {
    "duration": 11,
    "start_time": "2023-01-11T09:17:18.346Z"
   },
   {
    "duration": 18,
    "start_time": "2023-01-11T09:17:18.358Z"
   },
   {
    "duration": 8,
    "start_time": "2023-01-11T09:17:18.377Z"
   },
   {
    "duration": 11,
    "start_time": "2023-01-11T09:17:18.386Z"
   },
   {
    "duration": 9,
    "start_time": "2023-01-11T09:17:18.398Z"
   },
   {
    "duration": 27,
    "start_time": "2023-01-11T09:17:18.411Z"
   },
   {
    "duration": 103,
    "start_time": "2023-01-11T09:17:18.439Z"
   },
   {
    "duration": 0,
    "start_time": "2023-01-11T09:17:18.544Z"
   },
   {
    "duration": 0,
    "start_time": "2023-01-11T09:17:18.545Z"
   },
   {
    "duration": 0,
    "start_time": "2023-01-11T09:17:18.546Z"
   },
   {
    "duration": 0,
    "start_time": "2023-01-11T09:17:18.547Z"
   },
   {
    "duration": 0,
    "start_time": "2023-01-11T09:17:18.549Z"
   },
   {
    "duration": 0,
    "start_time": "2023-01-11T09:17:18.550Z"
   },
   {
    "duration": 0,
    "start_time": "2023-01-11T09:17:18.551Z"
   },
   {
    "duration": 0,
    "start_time": "2023-01-11T09:17:18.552Z"
   },
   {
    "duration": 0,
    "start_time": "2023-01-11T09:17:18.553Z"
   },
   {
    "duration": 0,
    "start_time": "2023-01-11T09:17:18.554Z"
   },
   {
    "duration": 0,
    "start_time": "2023-01-11T09:17:18.555Z"
   },
   {
    "duration": 0,
    "start_time": "2023-01-11T09:17:18.556Z"
   },
   {
    "duration": 0,
    "start_time": "2023-01-11T09:17:18.557Z"
   },
   {
    "duration": 0,
    "start_time": "2023-01-11T09:17:18.558Z"
   },
   {
    "duration": 0,
    "start_time": "2023-01-11T09:17:18.559Z"
   },
   {
    "duration": 0,
    "start_time": "2023-01-11T09:17:18.560Z"
   },
   {
    "duration": 0,
    "start_time": "2023-01-11T09:17:18.561Z"
   },
   {
    "duration": 7,
    "start_time": "2023-01-11T10:03:17.247Z"
   },
   {
    "duration": 5,
    "start_time": "2023-01-11T11:04:22.868Z"
   },
   {
    "duration": 216,
    "start_time": "2023-01-11T11:04:24.335Z"
   },
   {
    "duration": 4,
    "start_time": "2023-01-11T11:04:58.171Z"
   },
   {
    "duration": 223,
    "start_time": "2023-01-11T11:05:00.178Z"
   },
   {
    "duration": 26,
    "start_time": "2023-01-11T11:06:19.137Z"
   },
   {
    "duration": 15,
    "start_time": "2023-01-11T11:06:34.411Z"
   },
   {
    "duration": 18,
    "start_time": "2023-01-11T11:06:43.007Z"
   },
   {
    "duration": 12,
    "start_time": "2023-01-11T11:06:50.009Z"
   },
   {
    "duration": 10,
    "start_time": "2023-01-11T11:07:03.977Z"
   },
   {
    "duration": 26,
    "start_time": "2023-01-11T11:07:48.592Z"
   },
   {
    "duration": 39,
    "start_time": "2023-01-11T11:08:01.309Z"
   },
   {
    "duration": 36,
    "start_time": "2023-01-11T11:08:26.699Z"
   },
   {
    "duration": 21,
    "start_time": "2023-01-11T11:08:49.795Z"
   },
   {
    "duration": 9,
    "start_time": "2023-01-11T11:08:52.435Z"
   },
   {
    "duration": 13,
    "start_time": "2023-01-11T11:08:54.599Z"
   },
   {
    "duration": 5,
    "start_time": "2023-01-11T11:08:57.858Z"
   },
   {
    "duration": 2038,
    "start_time": "2023-01-11T11:09:01.712Z"
   },
   {
    "duration": 43,
    "start_time": "2023-01-11T11:09:17.636Z"
   },
   {
    "duration": 55,
    "start_time": "2023-01-11T11:09:53.895Z"
   },
   {
    "duration": 47,
    "start_time": "2023-01-11T11:11:25.198Z"
   },
   {
    "duration": 13,
    "start_time": "2023-01-11T11:11:54.613Z"
   },
   {
    "duration": 938,
    "start_time": "2023-01-11T11:11:55.588Z"
   },
   {
    "duration": 444,
    "start_time": "2023-01-11T11:11:56.528Z"
   },
   {
    "duration": 79,
    "start_time": "2023-01-11T11:11:57.309Z"
   },
   {
    "duration": 4,
    "start_time": "2023-01-11T11:12:15.219Z"
   },
   {
    "duration": 3,
    "start_time": "2023-01-11T11:12:16.175Z"
   },
   {
    "duration": 4,
    "start_time": "2023-01-11T11:12:22.829Z"
   },
   {
    "duration": 4,
    "start_time": "2023-01-11T11:12:23.345Z"
   },
   {
    "duration": 4446,
    "start_time": "2023-01-11T11:12:25.432Z"
   },
   {
    "duration": 7,
    "start_time": "2023-01-11T11:12:29.880Z"
   },
   {
    "duration": 11,
    "start_time": "2023-01-11T11:18:11.236Z"
   },
   {
    "duration": 929,
    "start_time": "2023-01-11T11:18:11.812Z"
   },
   {
    "duration": 437,
    "start_time": "2023-01-11T11:18:15.241Z"
   },
   {
    "duration": 103,
    "start_time": "2023-01-11T11:18:15.680Z"
   },
   {
    "duration": 4,
    "start_time": "2023-01-11T11:18:22.073Z"
   },
   {
    "duration": 5,
    "start_time": "2023-01-11T11:18:22.339Z"
   },
   {
    "duration": 5,
    "start_time": "2023-01-11T11:18:22.791Z"
   },
   {
    "duration": 4,
    "start_time": "2023-01-11T11:18:23.313Z"
   },
   {
    "duration": 4759,
    "start_time": "2023-01-11T11:18:23.980Z"
   },
   {
    "duration": 7,
    "start_time": "2023-01-11T11:18:28.741Z"
   },
   {
    "duration": 17,
    "start_time": "2023-01-11T11:18:32.865Z"
   },
   {
    "duration": 4,
    "start_time": "2023-01-11T11:18:52.812Z"
   },
   {
    "duration": 9,
    "start_time": "2023-01-11T11:18:57.587Z"
   },
   {
    "duration": 2,
    "start_time": "2023-01-11T11:19:07.735Z"
   },
   {
    "duration": 22,
    "start_time": "2023-01-11T11:19:09.335Z"
   },
   {
    "duration": 140,
    "start_time": "2023-01-11T11:19:13.734Z"
   },
   {
    "duration": 74,
    "start_time": "2023-01-11T11:19:14.944Z"
   },
   {
    "duration": 32,
    "start_time": "2023-01-11T11:19:15.792Z"
   },
   {
    "duration": 16,
    "start_time": "2023-01-11T11:19:16.666Z"
   },
   {
    "duration": 136,
    "start_time": "2023-01-11T11:19:46.353Z"
   },
   {
    "duration": 58,
    "start_time": "2023-01-11T11:19:46.848Z"
   },
   {
    "duration": 35,
    "start_time": "2023-01-11T11:19:47.771Z"
   },
   {
    "duration": 14,
    "start_time": "2023-01-11T11:19:48.676Z"
   },
   {
    "duration": 6179,
    "start_time": "2023-01-11T11:19:49.267Z"
   },
   {
    "duration": 71,
    "start_time": "2023-01-11T11:19:58.582Z"
   },
   {
    "duration": 28,
    "start_time": "2023-01-11T11:26:59.414Z"
   },
   {
    "duration": 66,
    "start_time": "2023-01-11T11:30:35.036Z"
   },
   {
    "duration": 5,
    "start_time": "2023-01-11T11:40:10.772Z"
   },
   {
    "duration": 231,
    "start_time": "2023-01-11T11:40:11.505Z"
   },
   {
    "duration": 43,
    "start_time": "2023-01-11T11:40:11.901Z"
   },
   {
    "duration": 49,
    "start_time": "2023-01-11T11:40:12.091Z"
   },
   {
    "duration": 21,
    "start_time": "2023-01-11T11:40:12.288Z"
   },
   {
    "duration": 9,
    "start_time": "2023-01-11T11:40:12.483Z"
   },
   {
    "duration": 10,
    "start_time": "2023-01-11T11:40:12.687Z"
   },
   {
    "duration": 7,
    "start_time": "2023-01-11T11:40:12.881Z"
   },
   {
    "duration": 2098,
    "start_time": "2023-01-11T11:40:13.086Z"
   },
   {
    "duration": 52,
    "start_time": "2023-01-11T11:40:15.187Z"
   },
   {
    "duration": 9,
    "start_time": "2023-01-11T11:40:15.241Z"
   },
   {
    "duration": 845,
    "start_time": "2023-01-11T11:40:15.252Z"
   },
   {
    "duration": 390,
    "start_time": "2023-01-11T11:40:16.099Z"
   },
   {
    "duration": 72,
    "start_time": "2023-01-11T11:40:16.490Z"
   },
   {
    "duration": 4,
    "start_time": "2023-01-11T11:40:16.564Z"
   },
   {
    "duration": 26,
    "start_time": "2023-01-11T11:40:16.569Z"
   },
   {
    "duration": 7,
    "start_time": "2023-01-11T11:40:16.598Z"
   },
   {
    "duration": 8,
    "start_time": "2023-01-11T11:40:16.606Z"
   },
   {
    "duration": 4271,
    "start_time": "2023-01-11T11:40:16.616Z"
   },
   {
    "duration": 8,
    "start_time": "2023-01-11T11:40:20.891Z"
   },
   {
    "duration": 30,
    "start_time": "2023-01-11T11:40:20.902Z"
   },
   {
    "duration": 11,
    "start_time": "2023-01-11T11:40:20.934Z"
   },
   {
    "duration": 35,
    "start_time": "2023-01-11T11:40:20.946Z"
   },
   {
    "duration": 119,
    "start_time": "2023-01-11T11:40:20.983Z"
   },
   {
    "duration": 56,
    "start_time": "2023-01-11T11:40:21.104Z"
   },
   {
    "duration": 50,
    "start_time": "2023-01-11T11:40:21.162Z"
   },
   {
    "duration": 13,
    "start_time": "2023-01-11T11:40:21.214Z"
   },
   {
    "duration": 6292,
    "start_time": "2023-01-11T11:40:21.229Z"
   },
   {
    "duration": 3,
    "start_time": "2023-01-11T11:40:27.523Z"
   },
   {
    "duration": 83,
    "start_time": "2023-01-11T11:40:27.527Z"
   },
   {
    "duration": 8,
    "start_time": "2023-01-11T11:53:39.522Z"
   },
   {
    "duration": 188,
    "start_time": "2023-01-11T11:53:48.743Z"
   },
   {
    "duration": 43,
    "start_time": "2023-01-11T11:53:49.175Z"
   },
   {
    "duration": 36,
    "start_time": "2023-01-11T11:53:49.361Z"
   },
   {
    "duration": 14,
    "start_time": "2023-01-11T11:53:49.566Z"
   },
   {
    "duration": 9,
    "start_time": "2023-01-11T11:53:49.752Z"
   },
   {
    "duration": 12,
    "start_time": "2023-01-11T11:53:49.960Z"
   },
   {
    "duration": 7,
    "start_time": "2023-01-11T11:53:50.162Z"
   },
   {
    "duration": 1831,
    "start_time": "2023-01-11T11:53:50.351Z"
   },
   {
    "duration": 52,
    "start_time": "2023-01-11T11:53:52.184Z"
   },
   {
    "duration": 10,
    "start_time": "2023-01-11T11:53:52.237Z"
   },
   {
    "duration": 813,
    "start_time": "2023-01-11T11:53:52.248Z"
   },
   {
    "duration": 436,
    "start_time": "2023-01-11T11:53:53.063Z"
   },
   {
    "duration": 228,
    "start_time": "2023-01-11T11:53:53.500Z"
   },
   {
    "duration": 3,
    "start_time": "2023-01-11T11:53:53.730Z"
   },
   {
    "duration": 14,
    "start_time": "2023-01-11T11:53:53.735Z"
   },
   {
    "duration": 8,
    "start_time": "2023-01-11T11:53:53.751Z"
   },
   {
    "duration": 18,
    "start_time": "2023-01-11T11:53:53.761Z"
   },
   {
    "duration": 4390,
    "start_time": "2023-01-11T11:53:53.780Z"
   },
   {
    "duration": 7,
    "start_time": "2023-01-11T11:53:58.172Z"
   },
   {
    "duration": 27,
    "start_time": "2023-01-11T11:53:58.182Z"
   },
   {
    "duration": 4,
    "start_time": "2023-01-11T11:53:58.210Z"
   },
   {
    "duration": 32,
    "start_time": "2023-01-11T11:53:58.215Z"
   },
   {
    "duration": 142,
    "start_time": "2023-01-11T11:53:58.248Z"
   },
   {
    "duration": 62,
    "start_time": "2023-01-11T11:53:58.391Z"
   },
   {
    "duration": 25,
    "start_time": "2023-01-11T11:53:58.454Z"
   },
   {
    "duration": 25,
    "start_time": "2023-01-11T11:53:58.481Z"
   },
   {
    "duration": 7311,
    "start_time": "2023-01-11T11:53:58.507Z"
   },
   {
    "duration": 3,
    "start_time": "2023-01-11T11:54:05.820Z"
   },
   {
    "duration": 118,
    "start_time": "2023-01-11T11:54:05.825Z"
   },
   {
    "duration": 70,
    "start_time": "2023-01-11T11:56:26.441Z"
   },
   {
    "duration": 23,
    "start_time": "2023-01-11T12:05:33.290Z"
   },
   {
    "duration": 4,
    "start_time": "2023-01-11T12:08:01.658Z"
   },
   {
    "duration": 20,
    "start_time": "2023-01-11T12:08:03.302Z"
   },
   {
    "duration": 106,
    "start_time": "2023-01-11T12:08:04.304Z"
   },
   {
    "duration": 56,
    "start_time": "2023-01-11T12:08:06.462Z"
   },
   {
    "duration": 21,
    "start_time": "2023-01-11T12:08:08.675Z"
   },
   {
    "duration": 13,
    "start_time": "2023-01-11T12:08:09.376Z"
   },
   {
    "duration": 19,
    "start_time": "2023-01-11T12:08:10.441Z"
   },
   {
    "duration": 4776,
    "start_time": "2023-01-11T12:08:20.141Z"
   },
   {
    "duration": 29,
    "start_time": "2023-01-11T12:08:24.919Z"
   },
   {
    "duration": 841,
    "start_time": "2023-01-11T12:09:50.090Z"
   },
   {
    "duration": 922,
    "start_time": "2023-01-11T12:14:42.938Z"
   },
   {
    "duration": 864,
    "start_time": "2023-01-11T12:15:03.488Z"
   },
   {
    "duration": 5,
    "start_time": "2023-01-11T12:17:04.063Z"
   },
   {
    "duration": 205,
    "start_time": "2023-01-11T12:17:04.863Z"
   },
   {
    "duration": 44,
    "start_time": "2023-01-11T12:17:05.296Z"
   },
   {
    "duration": 32,
    "start_time": "2023-01-11T12:17:05.534Z"
   },
   {
    "duration": 13,
    "start_time": "2023-01-11T12:17:05.739Z"
   },
   {
    "duration": 8,
    "start_time": "2023-01-11T12:17:05.949Z"
   },
   {
    "duration": 9,
    "start_time": "2023-01-11T12:17:06.175Z"
   },
   {
    "duration": 6,
    "start_time": "2023-01-11T12:17:06.406Z"
   },
   {
    "duration": 1811,
    "start_time": "2023-01-11T12:17:06.626Z"
   },
   {
    "duration": 41,
    "start_time": "2023-01-11T12:17:08.439Z"
   },
   {
    "duration": 15,
    "start_time": "2023-01-11T12:17:08.501Z"
   },
   {
    "duration": 847,
    "start_time": "2023-01-11T12:17:08.518Z"
   },
   {
    "duration": 412,
    "start_time": "2023-01-11T12:17:09.367Z"
   },
   {
    "duration": 78,
    "start_time": "2023-01-11T12:17:09.780Z"
   },
   {
    "duration": 5,
    "start_time": "2023-01-11T12:17:09.860Z"
   },
   {
    "duration": 75,
    "start_time": "2023-01-11T12:17:09.866Z"
   },
   {
    "duration": 11,
    "start_time": "2023-01-11T12:17:09.943Z"
   },
   {
    "duration": 8,
    "start_time": "2023-01-11T12:17:09.955Z"
   },
   {
    "duration": 4371,
    "start_time": "2023-01-11T12:17:09.964Z"
   },
   {
    "duration": 7,
    "start_time": "2023-01-11T12:17:14.337Z"
   },
   {
    "duration": 23,
    "start_time": "2023-01-11T12:17:14.346Z"
   },
   {
    "duration": 6,
    "start_time": "2023-01-11T12:17:14.370Z"
   },
   {
    "duration": 42,
    "start_time": "2023-01-11T12:17:14.378Z"
   },
   {
    "duration": 129,
    "start_time": "2023-01-11T12:17:14.421Z"
   },
   {
    "duration": 77,
    "start_time": "2023-01-11T12:17:14.551Z"
   },
   {
    "duration": 23,
    "start_time": "2023-01-11T12:17:14.630Z"
   },
   {
    "duration": 13,
    "start_time": "2023-01-11T12:17:14.655Z"
   },
   {
    "duration": 5561,
    "start_time": "2023-01-11T12:17:14.670Z"
   },
   {
    "duration": 2,
    "start_time": "2023-01-11T12:17:20.233Z"
   },
   {
    "duration": 904,
    "start_time": "2023-01-11T12:17:20.238Z"
   },
   {
    "duration": 880,
    "start_time": "2023-01-11T12:18:44.844Z"
   },
   {
    "duration": 75,
    "start_time": "2023-01-11T15:02:31.714Z"
   },
   {
    "duration": 264,
    "start_time": "2023-01-11T15:02:32.347Z"
   },
   {
    "duration": 37,
    "start_time": "2023-01-11T15:02:32.943Z"
   },
   {
    "duration": 13,
    "start_time": "2023-01-11T15:02:49.505Z"
   },
   {
    "duration": 344,
    "start_time": "2023-01-11T15:02:52.325Z"
   },
   {
    "duration": 61,
    "start_time": "2023-01-11T15:02:53.015Z"
   },
   {
    "duration": 35,
    "start_time": "2023-01-11T15:02:53.438Z"
   },
   {
    "duration": 29,
    "start_time": "2023-01-11T15:02:53.822Z"
   },
   {
    "duration": 9,
    "start_time": "2023-01-11T15:02:54.171Z"
   },
   {
    "duration": 11,
    "start_time": "2023-01-11T15:02:54.449Z"
   },
   {
    "duration": 9,
    "start_time": "2023-01-11T15:02:54.742Z"
   },
   {
    "duration": 2611,
    "start_time": "2023-01-11T15:02:54.959Z"
   },
   {
    "duration": 71,
    "start_time": "2023-01-11T15:02:57.571Z"
   },
   {
    "duration": 25,
    "start_time": "2023-01-11T15:02:57.644Z"
   },
   {
    "duration": 1115,
    "start_time": "2023-01-11T15:02:57.671Z"
   },
   {
    "duration": 582,
    "start_time": "2023-01-11T15:02:58.787Z"
   },
   {
    "duration": 106,
    "start_time": "2023-01-11T15:02:59.371Z"
   },
   {
    "duration": 4,
    "start_time": "2023-01-11T15:02:59.479Z"
   },
   {
    "duration": 58,
    "start_time": "2023-01-11T15:02:59.485Z"
   },
   {
    "duration": 11,
    "start_time": "2023-01-11T15:02:59.547Z"
   },
   {
    "duration": 11,
    "start_time": "2023-01-11T15:02:59.560Z"
   },
   {
    "duration": 6445,
    "start_time": "2023-01-11T15:02:59.573Z"
   },
   {
    "duration": 10,
    "start_time": "2023-01-11T15:03:06.020Z"
   },
   {
    "duration": 59,
    "start_time": "2023-01-11T15:03:06.032Z"
   },
   {
    "duration": 6,
    "start_time": "2023-01-11T15:03:06.093Z"
   },
   {
    "duration": 94,
    "start_time": "2023-01-11T15:03:06.102Z"
   },
   {
    "duration": 176,
    "start_time": "2023-01-11T15:03:06.203Z"
   },
   {
    "duration": 96,
    "start_time": "2023-01-11T15:03:06.382Z"
   },
   {
    "duration": 51,
    "start_time": "2023-01-11T15:03:06.479Z"
   },
   {
    "duration": 27,
    "start_time": "2023-01-11T15:03:06.534Z"
   },
   {
    "duration": 9003,
    "start_time": "2023-01-11T15:03:06.564Z"
   },
   {
    "duration": 1015,
    "start_time": "2023-01-11T15:03:15.569Z"
   },
   {
    "duration": 2,
    "start_time": "2023-01-11T15:03:16.586Z"
   },
   {
    "duration": 85,
    "start_time": "2023-01-11T15:12:08.639Z"
   },
   {
    "duration": 161,
    "start_time": "2023-01-11T15:17:17.539Z"
   },
   {
    "duration": 136,
    "start_time": "2023-01-11T15:17:41.574Z"
   },
   {
    "duration": 4477,
    "start_time": "2023-01-11T15:57:48.388Z"
   },
   {
    "duration": 912,
    "start_time": "2023-01-11T15:59:04.597Z"
   },
   {
    "duration": 2860,
    "start_time": "2023-01-11T16:13:24.958Z"
   },
   {
    "duration": 16,
    "start_time": "2023-01-11T16:27:39.666Z"
   },
   {
    "duration": 4,
    "start_time": "2023-01-11T16:27:40.871Z"
   },
   {
    "duration": 22,
    "start_time": "2023-01-11T16:27:43.341Z"
   },
   {
    "duration": 126,
    "start_time": "2023-01-11T16:27:44.331Z"
   },
   {
    "duration": 71,
    "start_time": "2023-01-11T16:27:44.897Z"
   },
   {
    "duration": 25,
    "start_time": "2023-01-11T16:27:45.661Z"
   },
   {
    "duration": 15,
    "start_time": "2023-01-11T16:27:47.100Z"
   },
   {
    "duration": 835,
    "start_time": "2023-01-11T16:27:50.314Z"
   },
   {
    "duration": 181,
    "start_time": "2023-01-11T16:27:57.729Z"
   },
   {
    "duration": 2779,
    "start_time": "2023-01-11T16:28:09.443Z"
   },
   {
    "duration": 4684,
    "start_time": "2023-01-11T16:47:12.867Z"
   },
   {
    "duration": 5071,
    "start_time": "2023-01-11T16:47:51.051Z"
   },
   {
    "duration": 165,
    "start_time": "2023-01-11T16:48:28.109Z"
   },
   {
    "duration": 5072,
    "start_time": "2023-01-11T16:49:07.446Z"
   },
   {
    "duration": 186,
    "start_time": "2023-01-11T16:49:59.634Z"
   },
   {
    "duration": 14711,
    "start_time": "2023-01-11T16:50:33.504Z"
   },
   {
    "duration": 158,
    "start_time": "2023-01-11T16:56:01.438Z"
   },
   {
    "duration": 4362,
    "start_time": "2023-01-11T16:56:18.438Z"
   },
   {
    "duration": 196,
    "start_time": "2023-01-11T16:56:36.010Z"
   },
   {
    "duration": 166,
    "start_time": "2023-01-11T16:56:46.614Z"
   },
   {
    "duration": 346,
    "start_time": "2023-01-11T16:57:53.474Z"
   },
   {
    "duration": 46,
    "start_time": "2023-01-11T16:58:10.034Z"
   },
   {
    "duration": 808,
    "start_time": "2023-01-11T16:58:38.601Z"
   },
   {
    "duration": 1603,
    "start_time": "2023-01-12T09:16:11.237Z"
   },
   {
    "duration": 863,
    "start_time": "2023-01-12T09:16:12.842Z"
   },
   {
    "duration": 45,
    "start_time": "2023-01-12T09:16:13.706Z"
   },
   {
    "duration": 33,
    "start_time": "2023-01-12T09:16:13.752Z"
   },
   {
    "duration": 29,
    "start_time": "2023-01-12T09:16:13.787Z"
   },
   {
    "duration": 13,
    "start_time": "2023-01-12T09:16:13.818Z"
   },
   {
    "duration": 8,
    "start_time": "2023-01-12T09:16:13.833Z"
   },
   {
    "duration": 6,
    "start_time": "2023-01-12T09:16:13.842Z"
   },
   {
    "duration": 2048,
    "start_time": "2023-01-12T09:16:13.849Z"
   },
   {
    "duration": 38,
    "start_time": "2023-01-12T09:16:15.899Z"
   },
   {
    "duration": 9,
    "start_time": "2023-01-12T09:16:15.938Z"
   },
   {
    "duration": 847,
    "start_time": "2023-01-12T09:16:15.949Z"
   },
   {
    "duration": 416,
    "start_time": "2023-01-12T09:16:16.798Z"
   },
   {
    "duration": 73,
    "start_time": "2023-01-12T09:16:17.217Z"
   },
   {
    "duration": 4,
    "start_time": "2023-01-12T09:16:17.292Z"
   },
   {
    "duration": 6,
    "start_time": "2023-01-12T09:16:17.312Z"
   },
   {
    "duration": 5,
    "start_time": "2023-01-12T09:16:17.319Z"
   },
   {
    "duration": 6,
    "start_time": "2023-01-12T09:16:17.326Z"
   },
   {
    "duration": 4634,
    "start_time": "2023-01-12T09:16:17.333Z"
   },
   {
    "duration": 7,
    "start_time": "2023-01-12T09:16:21.968Z"
   },
   {
    "duration": 19,
    "start_time": "2023-01-12T09:16:21.976Z"
   },
   {
    "duration": 16,
    "start_time": "2023-01-12T09:16:21.997Z"
   },
   {
    "duration": 37,
    "start_time": "2023-01-12T09:16:22.015Z"
   },
   {
    "duration": 153,
    "start_time": "2023-01-12T09:16:22.054Z"
   },
   {
    "duration": 68,
    "start_time": "2023-01-12T09:16:22.209Z"
   },
   {
    "duration": 41,
    "start_time": "2023-01-12T09:16:22.278Z"
   },
   {
    "duration": 17,
    "start_time": "2023-01-12T09:16:22.320Z"
   },
   {
    "duration": 922,
    "start_time": "2023-01-12T09:16:22.338Z"
   },
   {
    "duration": 160,
    "start_time": "2023-01-12T09:16:23.261Z"
   },
   {
    "duration": 2954,
    "start_time": "2023-01-12T09:16:23.422Z"
   },
   {
    "duration": 360,
    "start_time": "2023-01-12T09:16:26.413Z"
   },
   {
    "duration": 0,
    "start_time": "2023-01-12T09:16:26.775Z"
   },
   {
    "duration": 0,
    "start_time": "2023-01-12T09:16:26.775Z"
   },
   {
    "duration": 0,
    "start_time": "2023-01-12T09:16:26.776Z"
   },
   {
    "duration": 0,
    "start_time": "2023-01-12T09:16:26.778Z"
   },
   {
    "duration": 0,
    "start_time": "2023-01-12T09:16:26.779Z"
   },
   {
    "duration": 0,
    "start_time": "2023-01-12T09:16:26.780Z"
   },
   {
    "duration": 0,
    "start_time": "2023-01-12T09:16:26.781Z"
   },
   {
    "duration": 233,
    "start_time": "2023-01-12T09:19:54.620Z"
   },
   {
    "duration": 289,
    "start_time": "2023-01-12T09:20:07.380Z"
   },
   {
    "duration": 4562,
    "start_time": "2023-01-12T09:20:18.028Z"
   },
   {
    "duration": 374,
    "start_time": "2023-01-12T09:22:39.397Z"
   },
   {
    "duration": 773,
    "start_time": "2023-01-12T09:26:59.506Z"
   },
   {
    "duration": 630,
    "start_time": "2023-01-12T09:28:18.327Z"
   },
   {
    "duration": 595,
    "start_time": "2023-01-12T09:28:31.856Z"
   },
   {
    "duration": 667,
    "start_time": "2023-01-12T09:30:27.473Z"
   },
   {
    "duration": 5,
    "start_time": "2023-01-12T09:30:54.742Z"
   },
   {
    "duration": 193,
    "start_time": "2023-01-12T09:30:55.148Z"
   },
   {
    "duration": 38,
    "start_time": "2023-01-12T09:30:55.741Z"
   },
   {
    "duration": 31,
    "start_time": "2023-01-12T09:30:56.186Z"
   },
   {
    "duration": 13,
    "start_time": "2023-01-12T09:30:56.547Z"
   },
   {
    "duration": 9,
    "start_time": "2023-01-12T09:30:56.892Z"
   },
   {
    "duration": 9,
    "start_time": "2023-01-12T09:30:57.237Z"
   },
   {
    "duration": 6,
    "start_time": "2023-01-12T09:30:57.540Z"
   },
   {
    "duration": 1862,
    "start_time": "2023-01-12T09:30:57.878Z"
   },
   {
    "duration": 38,
    "start_time": "2023-01-12T09:30:59.743Z"
   },
   {
    "duration": 8,
    "start_time": "2023-01-12T09:30:59.783Z"
   },
   {
    "duration": 914,
    "start_time": "2023-01-12T09:30:59.813Z"
   },
   {
    "duration": 437,
    "start_time": "2023-01-12T09:31:00.728Z"
   },
   {
    "duration": 77,
    "start_time": "2023-01-12T09:31:01.167Z"
   },
   {
    "duration": 4,
    "start_time": "2023-01-12T09:31:01.246Z"
   },
   {
    "duration": 3,
    "start_time": "2023-01-12T09:31:01.408Z"
   },
   {
    "duration": 4,
    "start_time": "2023-01-12T09:31:01.869Z"
   },
   {
    "duration": 4,
    "start_time": "2023-01-12T09:31:02.297Z"
   },
   {
    "duration": 4463,
    "start_time": "2023-01-12T09:31:02.690Z"
   },
   {
    "duration": 6,
    "start_time": "2023-01-12T09:31:07.155Z"
   },
   {
    "duration": 18,
    "start_time": "2023-01-12T09:31:07.163Z"
   },
   {
    "duration": 5,
    "start_time": "2023-01-12T09:31:07.183Z"
   },
   {
    "duration": 21,
    "start_time": "2023-01-12T09:31:07.600Z"
   },
   {
    "duration": 121,
    "start_time": "2023-01-12T09:31:07.991Z"
   },
   {
    "duration": 58,
    "start_time": "2023-01-12T09:31:08.320Z"
   },
   {
    "duration": 32,
    "start_time": "2023-01-12T09:31:08.677Z"
   },
   {
    "duration": 14,
    "start_time": "2023-01-12T09:31:09.079Z"
   },
   {
    "duration": 901,
    "start_time": "2023-01-12T09:31:12.753Z"
   },
   {
    "duration": 166,
    "start_time": "2023-01-12T09:31:13.656Z"
   },
   {
    "duration": 3090,
    "start_time": "2023-01-12T09:31:13.824Z"
   },
   {
    "duration": 927,
    "start_time": "2023-01-12T09:31:16.919Z"
   },
   {
    "duration": 180,
    "start_time": "2023-01-12T09:31:17.847Z"
   },
   {
    "duration": 1811,
    "start_time": "2023-01-12T09:31:20.616Z"
   },
   {
    "duration": 355,
    "start_time": "2023-01-12T09:31:32.763Z"
   },
   {
    "duration": 46,
    "start_time": "2023-01-12T09:31:33.274Z"
   },
   {
    "duration": 863,
    "start_time": "2023-01-12T09:31:34.018Z"
   },
   {
    "duration": 830,
    "start_time": "2023-01-12T09:51:16.326Z"
   },
   {
    "duration": 628,
    "start_time": "2023-01-12T10:08:04.889Z"
   },
   {
    "duration": 349,
    "start_time": "2023-01-12T10:08:16.005Z"
   },
   {
    "duration": 245,
    "start_time": "2023-01-12T10:29:46.189Z"
   },
   {
    "duration": 30,
    "start_time": "2023-01-12T10:29:49.427Z"
   },
   {
    "duration": 453,
    "start_time": "2023-01-12T10:29:56.813Z"
   },
   {
    "duration": 602,
    "start_time": "2023-01-12T10:46:07.895Z"
   },
   {
    "duration": 98,
    "start_time": "2023-01-12T10:46:46.524Z"
   },
   {
    "duration": 2171,
    "start_time": "2023-01-12T10:46:57.443Z"
   },
   {
    "duration": 638,
    "start_time": "2023-01-12T10:48:46.559Z"
   },
   {
    "duration": 60,
    "start_time": "2023-01-12T10:49:54.063Z"
   },
   {
    "duration": 1109,
    "start_time": "2023-01-12T10:49:56.405Z"
   },
   {
    "duration": 1767,
    "start_time": "2023-01-12T11:37:12.604Z"
   },
   {
    "duration": 944,
    "start_time": "2023-01-12T11:37:14.374Z"
   },
   {
    "duration": 51,
    "start_time": "2023-01-12T11:37:15.320Z"
   },
   {
    "duration": 38,
    "start_time": "2023-01-12T11:37:15.373Z"
   },
   {
    "duration": 34,
    "start_time": "2023-01-12T11:37:15.413Z"
   },
   {
    "duration": 28,
    "start_time": "2023-01-12T11:37:15.449Z"
   },
   {
    "duration": 16,
    "start_time": "2023-01-12T11:37:15.479Z"
   },
   {
    "duration": 19,
    "start_time": "2023-01-12T11:37:15.496Z"
   },
   {
    "duration": 2240,
    "start_time": "2023-01-12T11:37:15.517Z"
   },
   {
    "duration": 50,
    "start_time": "2023-01-12T11:37:17.761Z"
   },
   {
    "duration": 12,
    "start_time": "2023-01-12T11:37:17.813Z"
   },
   {
    "duration": 900,
    "start_time": "2023-01-12T11:37:17.827Z"
   },
   {
    "duration": 478,
    "start_time": "2023-01-12T11:37:18.729Z"
   },
   {
    "duration": 93,
    "start_time": "2023-01-12T11:37:19.209Z"
   },
   {
    "duration": 5,
    "start_time": "2023-01-12T11:37:19.304Z"
   },
   {
    "duration": 18,
    "start_time": "2023-01-12T11:37:19.311Z"
   },
   {
    "duration": 17,
    "start_time": "2023-01-12T11:37:19.332Z"
   },
   {
    "duration": 14,
    "start_time": "2023-01-12T11:37:19.351Z"
   },
   {
    "duration": 4969,
    "start_time": "2023-01-12T11:37:19.367Z"
   },
   {
    "duration": 8,
    "start_time": "2023-01-12T11:37:24.338Z"
   },
   {
    "duration": 42,
    "start_time": "2023-01-12T11:37:24.349Z"
   },
   {
    "duration": 30,
    "start_time": "2023-01-12T11:37:24.392Z"
   },
   {
    "duration": 85,
    "start_time": "2023-01-12T11:37:24.424Z"
   },
   {
    "duration": 170,
    "start_time": "2023-01-12T11:37:24.511Z"
   },
   {
    "duration": 82,
    "start_time": "2023-01-12T11:37:24.683Z"
   },
   {
    "duration": 37,
    "start_time": "2023-01-12T11:37:24.767Z"
   },
   {
    "duration": 33,
    "start_time": "2023-01-12T11:37:24.805Z"
   },
   {
    "duration": 942,
    "start_time": "2023-01-12T11:37:24.840Z"
   },
   {
    "duration": 166,
    "start_time": "2023-01-12T11:37:25.783Z"
   },
   {
    "duration": 3120,
    "start_time": "2023-01-12T11:37:25.952Z"
   },
   {
    "duration": 804,
    "start_time": "2023-01-12T11:37:29.074Z"
   },
   {
    "duration": 176,
    "start_time": "2023-01-12T11:37:29.880Z"
   },
   {
    "duration": 1980,
    "start_time": "2023-01-12T11:37:30.059Z"
   },
   {
    "duration": 815,
    "start_time": "2023-01-12T11:37:47.063Z"
   },
   {
    "duration": 708,
    "start_time": "2023-01-12T11:37:57.091Z"
   },
   {
    "duration": 171,
    "start_time": "2023-01-12T11:38:00.673Z"
   },
   {
    "duration": 1886,
    "start_time": "2023-01-12T11:38:01.650Z"
   },
   {
    "duration": 472,
    "start_time": "2023-01-12T11:38:14.903Z"
   },
   {
    "duration": 53,
    "start_time": "2023-01-12T11:38:20.650Z"
   },
   {
    "duration": 1094,
    "start_time": "2023-01-12T11:38:24.900Z"
   },
   {
    "duration": 325,
    "start_time": "2023-01-12T11:38:36.538Z"
   },
   {
    "duration": 33,
    "start_time": "2023-01-12T11:38:37.142Z"
   },
   {
    "duration": 502,
    "start_time": "2023-01-12T11:38:38.299Z"
   },
   {
    "duration": 645,
    "start_time": "2023-01-12T11:38:40.878Z"
   },
   {
    "duration": 82,
    "start_time": "2023-01-12T11:38:49.166Z"
   },
   {
    "duration": 2290,
    "start_time": "2023-01-12T11:38:50.447Z"
   },
   {
    "duration": 718,
    "start_time": "2023-01-12T11:38:52.741Z"
   },
   {
    "duration": 130,
    "start_time": "2023-01-12T11:38:53.807Z"
   },
   {
    "duration": 1211,
    "start_time": "2023-01-12T11:38:56.526Z"
   },
   {
    "duration": 393,
    "start_time": "2023-01-12T11:48:35.048Z"
   },
   {
    "duration": 50,
    "start_time": "2023-01-12T11:48:39.383Z"
   },
   {
    "duration": 974,
    "start_time": "2023-01-12T11:49:06.305Z"
   },
   {
    "duration": 612,
    "start_time": "2023-01-12T11:53:29.072Z"
   },
   {
    "duration": 963,
    "start_time": "2023-01-12T11:53:49.627Z"
   },
   {
    "duration": 198,
    "start_time": "2023-01-12T11:54:22.746Z"
   },
   {
    "duration": 3065,
    "start_time": "2023-01-12T11:54:27.921Z"
   },
   {
    "duration": 623,
    "start_time": "2023-01-12T11:54:39.950Z"
   },
   {
    "duration": 180,
    "start_time": "2023-01-12T11:54:52.873Z"
   },
   {
    "duration": 1890,
    "start_time": "2023-01-12T11:55:03.080Z"
   },
   {
    "duration": 376,
    "start_time": "2023-01-12T11:55:25.766Z"
   },
   {
    "duration": 49,
    "start_time": "2023-01-12T11:55:31.456Z"
   },
   {
    "duration": 973,
    "start_time": "2023-01-12T11:55:36.346Z"
   },
   {
    "duration": 562,
    "start_time": "2023-01-12T12:05:11.111Z"
   },
   {
    "duration": 125,
    "start_time": "2023-01-12T12:05:15.415Z"
   },
   {
    "duration": 2175,
    "start_time": "2023-01-12T12:05:17.562Z"
   },
   {
    "duration": 251,
    "start_time": "2023-01-12T12:06:13.059Z"
   },
   {
    "duration": 32,
    "start_time": "2023-01-12T12:06:16.242Z"
   },
   {
    "duration": 453,
    "start_time": "2023-01-12T12:06:18.628Z"
   },
   {
    "duration": 695,
    "start_time": "2023-01-12T12:07:22.472Z"
   },
   {
    "duration": 113,
    "start_time": "2023-01-12T12:07:27.028Z"
   },
   {
    "duration": 1179,
    "start_time": "2023-01-12T12:07:30.759Z"
   },
   {
    "duration": 769,
    "start_time": "2023-01-12T14:02:11.384Z"
   },
   {
    "duration": 148,
    "start_time": "2023-01-12T14:04:37.294Z"
   },
   {
    "duration": 141,
    "start_time": "2023-01-12T14:04:59.701Z"
   },
   {
    "duration": 303,
    "start_time": "2023-01-12T14:06:31.452Z"
   },
   {
    "duration": 41,
    "start_time": "2023-01-12T14:06:50.834Z"
   },
   {
    "duration": 71,
    "start_time": "2023-01-12T14:07:15.716Z"
   },
   {
    "duration": 50,
    "start_time": "2023-01-13T09:07:17.145Z"
   },
   {
    "duration": 2125,
    "start_time": "2023-01-13T09:07:22.830Z"
   },
   {
    "duration": 474,
    "start_time": "2023-01-13T09:07:24.957Z"
   },
   {
    "duration": 45,
    "start_time": "2023-01-13T09:07:25.433Z"
   },
   {
    "duration": 52,
    "start_time": "2023-01-13T09:07:25.481Z"
   },
   {
    "duration": 16,
    "start_time": "2023-01-13T09:07:25.543Z"
   },
   {
    "duration": 45,
    "start_time": "2023-01-13T09:07:25.560Z"
   },
   {
    "duration": 31,
    "start_time": "2023-01-13T09:07:25.609Z"
   },
   {
    "duration": 29,
    "start_time": "2023-01-13T09:07:25.641Z"
   },
   {
    "duration": 1998,
    "start_time": "2023-01-13T09:07:25.671Z"
   },
   {
    "duration": 42,
    "start_time": "2023-01-13T09:07:27.672Z"
   },
   {
    "duration": 16,
    "start_time": "2023-01-13T09:07:27.715Z"
   },
   {
    "duration": 996,
    "start_time": "2023-01-13T09:07:27.733Z"
   },
   {
    "duration": 487,
    "start_time": "2023-01-13T09:07:28.731Z"
   },
   {
    "duration": 76,
    "start_time": "2023-01-13T09:07:29.219Z"
   },
   {
    "duration": 5,
    "start_time": "2023-01-13T09:07:29.297Z"
   },
   {
    "duration": 80,
    "start_time": "2023-01-13T09:07:29.303Z"
   },
   {
    "duration": 42,
    "start_time": "2023-01-13T09:07:29.384Z"
   },
   {
    "duration": 51,
    "start_time": "2023-01-13T09:07:29.431Z"
   },
   {
    "duration": 4985,
    "start_time": "2023-01-13T09:07:29.485Z"
   },
   {
    "duration": 9,
    "start_time": "2023-01-13T09:07:34.472Z"
   },
   {
    "duration": 53,
    "start_time": "2023-01-13T09:07:34.484Z"
   },
   {
    "duration": 36,
    "start_time": "2023-01-13T09:07:34.539Z"
   },
   {
    "duration": 79,
    "start_time": "2023-01-13T09:07:34.577Z"
   },
   {
    "duration": 206,
    "start_time": "2023-01-13T09:07:34.658Z"
   },
   {
    "duration": 96,
    "start_time": "2023-01-13T09:07:34.867Z"
   },
   {
    "duration": 42,
    "start_time": "2023-01-13T09:07:34.966Z"
   },
   {
    "duration": 19,
    "start_time": "2023-01-13T09:07:35.013Z"
   },
   {
    "duration": 1019,
    "start_time": "2023-01-13T09:07:35.036Z"
   },
   {
    "duration": 219,
    "start_time": "2023-01-13T09:07:36.057Z"
   },
   {
    "duration": 3105,
    "start_time": "2023-01-13T09:07:36.278Z"
   },
   {
    "duration": 842,
    "start_time": "2023-01-13T09:07:39.387Z"
   },
   {
    "duration": 165,
    "start_time": "2023-01-13T09:07:40.230Z"
   },
   {
    "duration": 1795,
    "start_time": "2023-01-13T09:07:40.397Z"
   },
   {
    "duration": 5594,
    "start_time": "2023-01-13T09:07:42.196Z"
   },
   {
    "duration": 409,
    "start_time": "2023-01-13T09:07:47.791Z"
   },
   {
    "duration": 24454,
    "start_time": "2023-01-13T09:07:48.202Z"
   },
   {
    "duration": 327,
    "start_time": "2023-01-13T09:08:12.659Z"
   },
   {
    "duration": 89,
    "start_time": "2023-01-13T09:08:12.988Z"
   },
   {
    "duration": 99,
    "start_time": "2023-01-13T09:08:13.079Z"
   },
   {
    "duration": 5288,
    "start_time": "2023-01-13T09:16:45.144Z"
   },
   {
    "duration": 457,
    "start_time": "2023-01-13T09:17:00.071Z"
   },
   {
    "duration": 5,
    "start_time": "2023-01-13T09:17:33.057Z"
   },
   {
    "duration": 9,
    "start_time": "2023-01-13T09:17:37.936Z"
   },
   {
    "duration": 11,
    "start_time": "2023-01-13T09:17:44.937Z"
   },
   {
    "duration": 4,
    "start_time": "2023-01-13T09:17:52.890Z"
   },
   {
    "duration": 944,
    "start_time": "2023-01-13T09:20:19.922Z"
   },
   {
    "duration": 657,
    "start_time": "2023-01-13T09:20:32.027Z"
   },
   {
    "duration": 10,
    "start_time": "2023-01-13T09:23:32.995Z"
   },
   {
    "duration": 13,
    "start_time": "2023-01-13T09:23:36.064Z"
   },
   {
    "duration": 11,
    "start_time": "2023-01-13T09:23:39.951Z"
   },
   {
    "duration": 9,
    "start_time": "2023-01-13T09:23:50.038Z"
   },
   {
    "duration": 42,
    "start_time": "2023-01-13T09:24:03.087Z"
   },
   {
    "duration": 5,
    "start_time": "2023-01-13T09:24:10.906Z"
   },
   {
    "duration": 9,
    "start_time": "2023-01-13T09:24:15.557Z"
   },
   {
    "duration": 4,
    "start_time": "2023-01-13T09:24:18.535Z"
   },
   {
    "duration": 11,
    "start_time": "2023-01-13T09:24:27.639Z"
   },
   {
    "duration": 26,
    "start_time": "2023-01-13T09:25:06.308Z"
   },
   {
    "duration": 20,
    "start_time": "2023-01-13T09:26:29.385Z"
   },
   {
    "duration": 7,
    "start_time": "2023-01-13T09:26:50.139Z"
   },
   {
    "duration": 24,
    "start_time": "2023-01-13T09:29:22.961Z"
   },
   {
    "duration": 22,
    "start_time": "2023-01-13T09:32:41.647Z"
   },
   {
    "duration": 21,
    "start_time": "2023-01-13T09:32:45.979Z"
   },
   {
    "duration": 31,
    "start_time": "2023-01-13T09:33:40.131Z"
   },
   {
    "duration": 308,
    "start_time": "2023-01-13T09:33:46.725Z"
   },
   {
    "duration": 289,
    "start_time": "2023-01-13T09:34:45.775Z"
   },
   {
    "duration": 817,
    "start_time": "2023-01-13T09:41:48.010Z"
   },
   {
    "duration": 2392,
    "start_time": "2023-01-13T09:41:51.436Z"
   },
   {
    "duration": 8,
    "start_time": "2023-01-13T09:41:53.830Z"
   },
   {
    "duration": 6,
    "start_time": "2023-01-13T09:42:34.671Z"
   },
   {
    "duration": 9,
    "start_time": "2023-01-13T09:43:29.969Z"
   },
   {
    "duration": 3,
    "start_time": "2023-01-13T09:43:33.433Z"
   },
   {
    "duration": 2,
    "start_time": "2023-01-13T09:43:33.578Z"
   },
   {
    "duration": 3,
    "start_time": "2023-01-13T09:43:34.226Z"
   },
   {
    "duration": 9,
    "start_time": "2023-01-13T09:44:01.796Z"
   },
   {
    "duration": 32,
    "start_time": "2023-01-13T09:44:06.745Z"
   },
   {
    "duration": 16,
    "start_time": "2023-01-13T09:45:15.806Z"
   },
   {
    "duration": 22,
    "start_time": "2023-01-13T09:46:43.924Z"
   },
   {
    "duration": 194,
    "start_time": "2023-01-13T09:47:30.341Z"
   },
   {
    "duration": 18,
    "start_time": "2023-01-13T09:47:42.068Z"
   },
   {
    "duration": 196,
    "start_time": "2023-01-13T09:48:00.502Z"
   },
   {
    "duration": 4,
    "start_time": "2023-01-13T09:48:10.254Z"
   },
   {
    "duration": 9,
    "start_time": "2023-01-13T09:48:36.891Z"
   },
   {
    "duration": 5,
    "start_time": "2023-01-13T09:48:40.090Z"
   },
   {
    "duration": 27,
    "start_time": "2023-01-13T09:48:40.237Z"
   },
   {
    "duration": 12,
    "start_time": "2023-01-13T09:51:41.878Z"
   },
   {
    "duration": 3,
    "start_time": "2023-01-13T09:52:16.122Z"
   },
   {
    "duration": 14,
    "start_time": "2023-01-13T09:52:22.590Z"
   },
   {
    "duration": 15,
    "start_time": "2023-01-13T09:52:28.258Z"
   },
   {
    "duration": 5,
    "start_time": "2023-01-13T09:54:11.241Z"
   },
   {
    "duration": 10,
    "start_time": "2023-01-13T09:54:36.298Z"
   },
   {
    "duration": 9,
    "start_time": "2023-01-13T09:54:45.960Z"
   },
   {
    "duration": 2,
    "start_time": "2023-01-13T09:55:21.087Z"
   },
   {
    "duration": 16,
    "start_time": "2023-01-13T09:55:22.256Z"
   },
   {
    "duration": 4,
    "start_time": "2023-01-13T09:55:27.026Z"
   },
   {
    "duration": 19,
    "start_time": "2023-01-13T09:55:55.649Z"
   },
   {
    "duration": 22,
    "start_time": "2023-01-13T09:59:03.879Z"
   },
   {
    "duration": 5,
    "start_time": "2023-01-13T09:59:15.680Z"
   },
   {
    "duration": 6,
    "start_time": "2023-01-13T10:00:19.084Z"
   },
   {
    "duration": 21,
    "start_time": "2023-01-13T10:00:24.849Z"
   },
   {
    "duration": 4,
    "start_time": "2023-01-13T10:00:27.975Z"
   },
   {
    "duration": 4,
    "start_time": "2023-01-13T10:00:35.381Z"
   },
   {
    "duration": 4,
    "start_time": "2023-01-13T10:00:53.098Z"
   },
   {
    "duration": 5,
    "start_time": "2023-01-13T10:01:49.654Z"
   },
   {
    "duration": 13,
    "start_time": "2023-01-13T10:01:59.360Z"
   },
   {
    "duration": 13,
    "start_time": "2023-01-13T10:02:41.906Z"
   },
   {
    "duration": 21,
    "start_time": "2023-01-13T10:05:55.969Z"
   },
   {
    "duration": 21,
    "start_time": "2023-01-13T10:06:25.273Z"
   },
   {
    "duration": 6,
    "start_time": "2023-01-13T10:09:01.009Z"
   },
   {
    "duration": 14,
    "start_time": "2023-01-13T10:09:07.969Z"
   },
   {
    "duration": 19,
    "start_time": "2023-01-13T10:09:33.267Z"
   },
   {
    "duration": 22,
    "start_time": "2023-01-13T10:10:14.434Z"
   },
   {
    "duration": 7,
    "start_time": "2023-01-13T10:11:32.020Z"
   },
   {
    "duration": 7,
    "start_time": "2023-01-13T10:12:07.649Z"
   },
   {
    "duration": 26,
    "start_time": "2023-01-13T10:14:30.374Z"
   },
   {
    "duration": 7,
    "start_time": "2023-01-13T10:14:58.981Z"
   },
   {
    "duration": 27,
    "start_time": "2023-01-13T10:15:25.861Z"
   },
   {
    "duration": 8,
    "start_time": "2023-01-13T10:16:00.618Z"
   },
   {
    "duration": 5,
    "start_time": "2023-01-13T10:16:20.576Z"
   },
   {
    "duration": 4,
    "start_time": "2023-01-13T10:16:34.527Z"
   },
   {
    "duration": 4,
    "start_time": "2023-01-13T10:17:07.825Z"
   },
   {
    "duration": 7,
    "start_time": "2023-01-13T10:17:23.924Z"
   },
   {
    "duration": 9,
    "start_time": "2023-01-13T10:17:36.756Z"
   },
   {
    "duration": 6,
    "start_time": "2023-01-13T10:18:36.367Z"
   },
   {
    "duration": 8,
    "start_time": "2023-01-13T10:18:46.460Z"
   },
   {
    "duration": 7,
    "start_time": "2023-01-13T10:22:11.720Z"
   },
   {
    "duration": 9,
    "start_time": "2023-01-13T10:22:35.126Z"
   },
   {
    "duration": 8,
    "start_time": "2023-01-13T10:22:54.331Z"
   },
   {
    "duration": 842,
    "start_time": "2023-01-13T10:24:56.080Z"
   },
   {
    "duration": 1075,
    "start_time": "2023-01-13T10:25:11.969Z"
   },
   {
    "duration": 55,
    "start_time": "2023-01-13T10:27:37.469Z"
   },
   {
    "duration": 56,
    "start_time": "2023-01-13T10:27:54.473Z"
   },
   {
    "duration": 276,
    "start_time": "2023-01-13T10:28:04.693Z"
   },
   {
    "duration": 9,
    "start_time": "2023-01-13T10:28:18.568Z"
   },
   {
    "duration": 14,
    "start_time": "2023-01-13T10:28:24.820Z"
   },
   {
    "duration": 12,
    "start_time": "2023-01-13T10:28:48.415Z"
   },
   {
    "duration": 15,
    "start_time": "2023-01-13T10:29:15.008Z"
   },
   {
    "duration": 13,
    "start_time": "2023-01-13T10:33:15.452Z"
   },
   {
    "duration": 146,
    "start_time": "2023-01-13T10:33:25.483Z"
   },
   {
    "duration": 11,
    "start_time": "2023-01-13T10:33:32.714Z"
   },
   {
    "duration": 956,
    "start_time": "2023-01-13T11:27:10.526Z"
   },
   {
    "duration": 119,
    "start_time": "2023-01-13T11:27:22.411Z"
   },
   {
    "duration": 22521,
    "start_time": "2023-01-13T11:29:14.023Z"
   },
   {
    "duration": 527,
    "start_time": "2023-01-13T11:30:39.284Z"
   },
   {
    "duration": 624,
    "start_time": "2023-01-13T11:30:55.879Z"
   },
   {
    "duration": 581,
    "start_time": "2023-01-13T11:31:06.256Z"
   },
   {
    "duration": 587,
    "start_time": "2023-01-13T11:31:13.821Z"
   },
   {
    "duration": 143,
    "start_time": "2023-01-13T11:31:18.251Z"
   },
   {
    "duration": 1494,
    "start_time": "2023-01-13T11:31:20.282Z"
   },
   {
    "duration": 5259,
    "start_time": "2023-01-13T11:35:00.448Z"
   },
   {
    "duration": 410,
    "start_time": "2023-01-13T11:35:14.237Z"
   },
   {
    "duration": 723,
    "start_time": "2023-01-13T11:38:12.112Z"
   },
   {
    "duration": 719,
    "start_time": "2023-01-13T11:38:20.808Z"
   },
   {
    "duration": 678,
    "start_time": "2023-01-13T11:39:16.877Z"
   },
   {
    "duration": 6,
    "start_time": "2023-01-13T11:56:01.430Z"
   },
   {
    "duration": 310,
    "start_time": "2023-01-13T12:15:42.106Z"
   },
   {
    "duration": 6,
    "start_time": "2023-01-13T12:15:54.794Z"
   },
   {
    "duration": 5,
    "start_time": "2023-01-13T12:16:51.384Z"
   },
   {
    "duration": 6,
    "start_time": "2023-01-13T12:18:11.930Z"
   },
   {
    "duration": 20,
    "start_time": "2023-01-13T12:18:13.570Z"
   },
   {
    "duration": 5,
    "start_time": "2023-01-13T12:19:31.355Z"
   },
   {
    "duration": 17,
    "start_time": "2023-01-13T12:19:34.527Z"
   },
   {
    "duration": 18,
    "start_time": "2023-01-13T12:20:56.004Z"
   },
   {
    "duration": 24,
    "start_time": "2023-01-13T12:21:47.211Z"
   },
   {
    "duration": 7,
    "start_time": "2023-01-13T12:24:51.959Z"
   },
   {
    "duration": 9,
    "start_time": "2023-01-13T12:24:56.792Z"
   },
   {
    "duration": 9,
    "start_time": "2023-01-13T12:25:17.650Z"
   },
   {
    "duration": 11,
    "start_time": "2023-01-13T12:44:54.558Z"
   },
   {
    "duration": 9,
    "start_time": "2023-01-13T12:45:29.824Z"
   },
   {
    "duration": 15,
    "start_time": "2023-01-13T12:45:35.302Z"
   },
   {
    "duration": 42,
    "start_time": "2023-01-13T12:49:00.343Z"
   },
   {
    "duration": 14,
    "start_time": "2023-01-13T12:49:38.442Z"
   },
   {
    "duration": 8,
    "start_time": "2023-01-13T12:51:29.447Z"
   },
   {
    "duration": 1220,
    "start_time": "2023-01-13T12:52:03.404Z"
   },
   {
    "duration": 11,
    "start_time": "2023-01-13T12:54:45.752Z"
   },
   {
    "duration": 17,
    "start_time": "2023-01-13T12:57:47.976Z"
   },
   {
    "duration": 11,
    "start_time": "2023-01-13T12:57:57.521Z"
   },
   {
    "duration": 11,
    "start_time": "2023-01-13T13:21:04.687Z"
   },
   {
    "duration": 27,
    "start_time": "2023-01-13T13:25:45.719Z"
   },
   {
    "duration": 35,
    "start_time": "2023-01-13T13:29:03.063Z"
   },
   {
    "duration": 10,
    "start_time": "2023-01-13T13:44:01.826Z"
   },
   {
    "duration": 70,
    "start_time": "2023-01-13T13:44:18.141Z"
   },
   {
    "duration": 83,
    "start_time": "2023-01-13T13:44:50.821Z"
   },
   {
    "duration": 59,
    "start_time": "2023-01-13T14:12:59.666Z"
   },
   {
    "duration": 44,
    "start_time": "2023-01-13T14:13:12.104Z"
   },
   {
    "duration": 3,
    "start_time": "2023-01-13T14:13:28.283Z"
   },
   {
    "duration": 4,
    "start_time": "2023-01-13T14:14:37.166Z"
   },
   {
    "duration": 4,
    "start_time": "2023-01-13T14:15:20.611Z"
   },
   {
    "duration": 4,
    "start_time": "2023-01-13T14:15:39.575Z"
   },
   {
    "duration": 49,
    "start_time": "2023-01-13T14:17:51.138Z"
   },
   {
    "duration": 63,
    "start_time": "2023-01-13T14:18:34.151Z"
   },
   {
    "duration": 6,
    "start_time": "2023-01-13T14:18:53.858Z"
   },
   {
    "duration": 6,
    "start_time": "2023-01-13T14:21:20.634Z"
   },
   {
    "duration": 4,
    "start_time": "2023-01-13T14:24:01.642Z"
   },
   {
    "duration": 3,
    "start_time": "2023-01-13T14:25:14.350Z"
   },
   {
    "duration": 4,
    "start_time": "2023-01-13T14:26:06.326Z"
   },
   {
    "duration": 4,
    "start_time": "2023-01-13T14:27:29.530Z"
   },
   {
    "duration": 1721,
    "start_time": "2023-01-14T20:49:22.455Z"
   },
   {
    "duration": 881,
    "start_time": "2023-01-14T20:49:24.178Z"
   },
   {
    "duration": 41,
    "start_time": "2023-01-14T20:49:25.061Z"
   },
   {
    "duration": 39,
    "start_time": "2023-01-14T20:49:25.104Z"
   },
   {
    "duration": 14,
    "start_time": "2023-01-14T20:49:25.145Z"
   },
   {
    "duration": 10,
    "start_time": "2023-01-14T20:49:25.161Z"
   },
   {
    "duration": 12,
    "start_time": "2023-01-14T20:49:25.173Z"
   },
   {
    "duration": 7,
    "start_time": "2023-01-14T20:49:25.187Z"
   },
   {
    "duration": 2039,
    "start_time": "2023-01-14T20:49:25.196Z"
   },
   {
    "duration": 37,
    "start_time": "2023-01-14T20:49:27.238Z"
   },
   {
    "duration": 10,
    "start_time": "2023-01-14T20:49:27.276Z"
   },
   {
    "duration": 875,
    "start_time": "2023-01-14T20:49:27.288Z"
   },
   {
    "duration": 428,
    "start_time": "2023-01-14T20:49:28.165Z"
   },
   {
    "duration": 81,
    "start_time": "2023-01-14T20:49:28.594Z"
   },
   {
    "duration": 3,
    "start_time": "2023-01-14T20:49:28.677Z"
   },
   {
    "duration": 13,
    "start_time": "2023-01-14T20:49:28.681Z"
   },
   {
    "duration": 5,
    "start_time": "2023-01-14T20:49:28.696Z"
   },
   {
    "duration": 5,
    "start_time": "2023-01-14T20:49:28.703Z"
   },
   {
    "duration": 4552,
    "start_time": "2023-01-14T20:49:28.709Z"
   },
   {
    "duration": 8,
    "start_time": "2023-01-14T20:49:33.263Z"
   },
   {
    "duration": 2310,
    "start_time": "2023-01-14T20:49:33.272Z"
   },
   {
    "duration": 8,
    "start_time": "2023-01-14T20:49:35.583Z"
   },
   {
    "duration": 41,
    "start_time": "2023-01-14T20:49:35.592Z"
   },
   {
    "duration": 22,
    "start_time": "2023-01-14T20:49:35.635Z"
   },
   {
    "duration": 37,
    "start_time": "2023-01-14T20:49:35.659Z"
   },
   {
    "duration": 147,
    "start_time": "2023-01-14T20:49:35.698Z"
   },
   {
    "duration": 86,
    "start_time": "2023-01-14T20:49:35.851Z"
   },
   {
    "duration": 38,
    "start_time": "2023-01-14T20:49:35.940Z"
   },
   {
    "duration": 18,
    "start_time": "2023-01-14T20:49:35.979Z"
   },
   {
    "duration": 1149,
    "start_time": "2023-01-14T20:49:35.999Z"
   },
   {
    "duration": 114,
    "start_time": "2023-01-14T20:49:37.150Z"
   },
   {
    "duration": 0,
    "start_time": "2023-01-14T20:49:37.265Z"
   },
   {
    "duration": 0,
    "start_time": "2023-01-14T20:49:37.266Z"
   },
   {
    "duration": 0,
    "start_time": "2023-01-14T20:49:37.267Z"
   },
   {
    "duration": 0,
    "start_time": "2023-01-14T20:49:37.268Z"
   },
   {
    "duration": 0,
    "start_time": "2023-01-14T20:49:37.269Z"
   },
   {
    "duration": 0,
    "start_time": "2023-01-14T20:49:37.270Z"
   },
   {
    "duration": 0,
    "start_time": "2023-01-14T20:49:37.271Z"
   },
   {
    "duration": 0,
    "start_time": "2023-01-14T20:49:37.272Z"
   },
   {
    "duration": 0,
    "start_time": "2023-01-14T20:49:37.273Z"
   },
   {
    "duration": 0,
    "start_time": "2023-01-14T20:49:37.274Z"
   },
   {
    "duration": 0,
    "start_time": "2023-01-14T20:49:37.276Z"
   },
   {
    "duration": 0,
    "start_time": "2023-01-14T20:49:37.277Z"
   },
   {
    "duration": 0,
    "start_time": "2023-01-14T20:49:37.278Z"
   },
   {
    "duration": 0,
    "start_time": "2023-01-14T20:49:37.279Z"
   },
   {
    "duration": 0,
    "start_time": "2023-01-14T20:49:37.280Z"
   },
   {
    "duration": 0,
    "start_time": "2023-01-14T20:49:37.281Z"
   },
   {
    "duration": 0,
    "start_time": "2023-01-14T20:49:37.282Z"
   },
   {
    "duration": 0,
    "start_time": "2023-01-14T20:49:37.283Z"
   },
   {
    "duration": 0,
    "start_time": "2023-01-14T20:49:37.284Z"
   },
   {
    "duration": 0,
    "start_time": "2023-01-14T20:49:37.284Z"
   },
   {
    "duration": 0,
    "start_time": "2023-01-14T20:49:37.285Z"
   },
   {
    "duration": 0,
    "start_time": "2023-01-14T20:49:37.286Z"
   },
   {
    "duration": 0,
    "start_time": "2023-01-14T20:49:37.287Z"
   },
   {
    "duration": 0,
    "start_time": "2023-01-14T20:49:37.322Z"
   },
   {
    "duration": 45,
    "start_time": "2023-01-15T07:41:19.689Z"
   },
   {
    "duration": 1464,
    "start_time": "2023-01-15T07:41:26.156Z"
   },
   {
    "duration": 429,
    "start_time": "2023-01-15T07:41:27.622Z"
   },
   {
    "duration": 42,
    "start_time": "2023-01-15T07:41:28.053Z"
   },
   {
    "duration": 29,
    "start_time": "2023-01-15T07:41:28.096Z"
   },
   {
    "duration": 13,
    "start_time": "2023-01-15T07:41:28.251Z"
   },
   {
    "duration": 8,
    "start_time": "2023-01-15T07:41:28.959Z"
   },
   {
    "duration": 9,
    "start_time": "2023-01-15T07:41:30.997Z"
   },
   {
    "duration": 5,
    "start_time": "2023-01-15T07:41:31.643Z"
   },
   {
    "duration": 44,
    "start_time": "2023-01-15T07:41:34.040Z"
   },
   {
    "duration": 1933,
    "start_time": "2023-01-15T07:41:37.859Z"
   },
   {
    "duration": 1931,
    "start_time": "2023-01-15T07:41:44.785Z"
   },
   {
    "duration": 48,
    "start_time": "2023-01-15T07:42:03.885Z"
   },
   {
    "duration": 1925,
    "start_time": "2023-01-15T07:42:10.588Z"
   },
   {
    "duration": 39,
    "start_time": "2023-01-15T07:48:47.463Z"
   },
   {
    "duration": 9,
    "start_time": "2023-01-15T07:48:52.063Z"
   },
   {
    "duration": 864,
    "start_time": "2023-01-15T07:48:55.298Z"
   },
   {
    "duration": 420,
    "start_time": "2023-01-15T07:48:56.164Z"
   },
   {
    "duration": 79,
    "start_time": "2023-01-15T07:48:56.585Z"
   },
   {
    "duration": 6,
    "start_time": "2023-01-15T07:56:55.438Z"
   },
   {
    "duration": 5,
    "start_time": "2023-01-15T07:56:56.266Z"
   },
   {
    "duration": 5,
    "start_time": "2023-01-15T07:58:25.817Z"
   },
   {
    "duration": 4,
    "start_time": "2023-01-15T07:58:26.329Z"
   },
   {
    "duration": 3,
    "start_time": "2023-01-15T07:58:29.750Z"
   },
   {
    "duration": 3,
    "start_time": "2023-01-15T07:58:51.028Z"
   },
   {
    "duration": 3,
    "start_time": "2023-01-15T07:58:51.383Z"
   },
   {
    "duration": 4,
    "start_time": "2023-01-15T07:58:52.821Z"
   },
   {
    "duration": 4,
    "start_time": "2023-01-15T07:58:53.575Z"
   },
   {
    "duration": 785,
    "start_time": "2023-01-15T07:58:56.435Z"
   },
   {
    "duration": 0,
    "start_time": "2023-01-15T07:58:57.221Z"
   },
   {
    "duration": 687,
    "start_time": "2023-01-15T07:58:57.493Z"
   },
   {
    "duration": 721,
    "start_time": "2023-01-15T07:59:17.705Z"
   },
   {
    "duration": 699,
    "start_time": "2023-01-15T07:59:29.189Z"
   },
   {
    "duration": 647,
    "start_time": "2023-01-15T07:59:36.161Z"
   },
   {
    "duration": 0,
    "start_time": "2023-01-15T07:59:36.810Z"
   },
   {
    "duration": 6,
    "start_time": "2023-01-15T07:59:47.800Z"
   },
   {
    "duration": 208,
    "start_time": "2023-01-15T07:59:48.425Z"
   },
   {
    "duration": 41,
    "start_time": "2023-01-15T07:59:53.276Z"
   },
   {
    "duration": 29,
    "start_time": "2023-01-15T07:59:54.425Z"
   },
   {
    "duration": 13,
    "start_time": "2023-01-15T07:59:55.479Z"
   },
   {
    "duration": 8,
    "start_time": "2023-01-15T07:59:56.400Z"
   },
   {
    "duration": 8,
    "start_time": "2023-01-15T07:59:57.455Z"
   },
   {
    "duration": 5,
    "start_time": "2023-01-15T07:59:58.269Z"
   },
   {
    "duration": 1917,
    "start_time": "2023-01-15T08:00:02.933Z"
   },
   {
    "duration": 41,
    "start_time": "2023-01-15T08:00:23.700Z"
   },
   {
    "duration": 9,
    "start_time": "2023-01-15T08:00:25.481Z"
   },
   {
    "duration": 771,
    "start_time": "2023-01-15T08:00:27.155Z"
   },
   {
    "duration": 376,
    "start_time": "2023-01-15T08:00:29.951Z"
   },
   {
    "duration": 66,
    "start_time": "2023-01-15T08:00:31.931Z"
   },
   {
    "duration": 7,
    "start_time": "2023-01-15T08:00:32.890Z"
   },
   {
    "duration": 8,
    "start_time": "2023-01-15T08:00:33.587Z"
   },
   {
    "duration": 7,
    "start_time": "2023-01-15T08:01:32.723Z"
   },
   {
    "duration": 5,
    "start_time": "2023-01-15T08:01:33.161Z"
   },
   {
    "duration": 3,
    "start_time": "2023-01-15T08:01:37.078Z"
   },
   {
    "duration": 3,
    "start_time": "2023-01-15T08:01:37.583Z"
   },
   {
    "duration": 5,
    "start_time": "2023-01-15T08:01:38.200Z"
   },
   {
    "duration": 3,
    "start_time": "2023-01-15T08:01:38.991Z"
   },
   {
    "duration": 692,
    "start_time": "2023-01-15T08:01:41.997Z"
   },
   {
    "duration": 716,
    "start_time": "2023-01-15T08:03:02.776Z"
   },
   {
    "duration": 2,
    "start_time": "2023-01-15T08:04:03.375Z"
   },
   {
    "duration": 3,
    "start_time": "2023-01-15T08:04:07.616Z"
   },
   {
    "duration": 2,
    "start_time": "2023-01-15T08:04:08.062Z"
   },
   {
    "duration": 4,
    "start_time": "2023-01-15T08:04:11.191Z"
   },
   {
    "duration": 3,
    "start_time": "2023-01-15T08:04:11.743Z"
   },
   {
    "duration": 3,
    "start_time": "2023-01-15T08:04:12.206Z"
   },
   {
    "duration": 4,
    "start_time": "2023-01-15T08:04:12.658Z"
   },
   {
    "duration": 682,
    "start_time": "2023-01-15T08:04:13.979Z"
   },
   {
    "duration": 6,
    "start_time": "2023-01-15T12:26:54.549Z"
   },
   {
    "duration": 202,
    "start_time": "2023-01-15T12:26:56.289Z"
   },
   {
    "duration": 41,
    "start_time": "2023-01-15T12:26:59.947Z"
   },
   {
    "duration": 38,
    "start_time": "2023-01-15T12:27:01.065Z"
   },
   {
    "duration": 13,
    "start_time": "2023-01-15T12:27:05.164Z"
   },
   {
    "duration": 8,
    "start_time": "2023-01-15T12:27:06.296Z"
   },
   {
    "duration": 9,
    "start_time": "2023-01-15T12:27:06.934Z"
   },
   {
    "duration": 7,
    "start_time": "2023-01-15T12:27:07.636Z"
   },
   {
    "duration": 1744,
    "start_time": "2023-01-15T12:27:11.709Z"
   },
   {
    "duration": 42,
    "start_time": "2023-01-15T12:27:22.200Z"
   },
   {
    "duration": 10,
    "start_time": "2023-01-15T12:27:26.720Z"
   },
   {
    "duration": 796,
    "start_time": "2023-01-15T12:27:30.474Z"
   },
   {
    "duration": 399,
    "start_time": "2023-01-15T12:27:31.271Z"
   },
   {
    "duration": 73,
    "start_time": "2023-01-15T12:27:31.672Z"
   },
   {
    "duration": 5,
    "start_time": "2023-01-15T12:27:32.188Z"
   },
   {
    "duration": 7,
    "start_time": "2023-01-15T12:27:33.073Z"
   },
   {
    "duration": 4,
    "start_time": "2023-01-15T12:27:38.428Z"
   },
   {
    "duration": 4,
    "start_time": "2023-01-15T12:27:50.247Z"
   },
   {
    "duration": 4,
    "start_time": "2023-01-15T12:27:51.683Z"
   },
   {
    "duration": 20,
    "start_time": "2023-01-15T12:27:55.427Z"
   },
   {
    "duration": 5,
    "start_time": "2023-01-15T12:28:01.507Z"
   },
   {
    "duration": 11,
    "start_time": "2023-01-15T12:28:06.279Z"
   },
   {
    "duration": 6,
    "start_time": "2023-01-15T12:28:12.311Z"
   },
   {
    "duration": 15,
    "start_time": "2023-01-15T12:28:18.496Z"
   },
   {
    "duration": 4,
    "start_time": "2023-01-15T12:28:27.218Z"
   },
   {
    "duration": 7,
    "start_time": "2023-01-15T12:28:35.094Z"
   },
   {
    "duration": 5,
    "start_time": "2023-01-15T12:28:36.051Z"
   },
   {
    "duration": 12,
    "start_time": "2023-01-15T12:28:37.099Z"
   },
   {
    "duration": 5,
    "start_time": "2023-01-15T12:31:47.740Z"
   },
   {
    "duration": 205,
    "start_time": "2023-01-15T12:31:49.380Z"
   },
   {
    "duration": 38,
    "start_time": "2023-01-15T12:31:53.035Z"
   },
   {
    "duration": 26,
    "start_time": "2023-01-15T12:32:00.465Z"
   },
   {
    "duration": 17,
    "start_time": "2023-01-15T12:32:02.790Z"
   },
   {
    "duration": 9,
    "start_time": "2023-01-15T12:32:06.630Z"
   },
   {
    "duration": 6,
    "start_time": "2023-01-15T12:32:08.590Z"
   },
   {
    "duration": 1995,
    "start_time": "2023-01-15T12:32:13.795Z"
   },
   {
    "duration": 43,
    "start_time": "2023-01-15T12:32:21.897Z"
   },
   {
    "duration": 12,
    "start_time": "2023-01-15T12:32:26.557Z"
   },
   {
    "duration": 834,
    "start_time": "2023-01-15T12:32:31.422Z"
   },
   {
    "duration": 443,
    "start_time": "2023-01-15T12:32:33.205Z"
   },
   {
    "duration": 73,
    "start_time": "2023-01-15T12:32:34.958Z"
   },
   {
    "duration": 6,
    "start_time": "2023-01-15T12:32:38.818Z"
   },
   {
    "duration": 7,
    "start_time": "2023-01-15T12:32:39.633Z"
   },
   {
    "duration": 4,
    "start_time": "2023-01-15T12:32:45.836Z"
   },
   {
    "duration": 3,
    "start_time": "2023-01-15T12:32:47.143Z"
   },
   {
    "duration": 4,
    "start_time": "2023-01-15T12:32:49.232Z"
   },
   {
    "duration": 29,
    "start_time": "2023-01-15T12:32:52.806Z"
   },
   {
    "duration": 6,
    "start_time": "2023-01-15T12:32:55.241Z"
   },
   {
    "duration": 12,
    "start_time": "2023-01-15T12:36:53.818Z"
   },
   {
    "duration": 6,
    "start_time": "2023-01-15T12:36:54.417Z"
   },
   {
    "duration": 19,
    "start_time": "2023-01-15T12:37:29.022Z"
   },
   {
    "duration": 4,
    "start_time": "2023-01-15T12:37:38.020Z"
   },
   {
    "duration": 7,
    "start_time": "2023-01-15T12:37:45.792Z"
   },
   {
    "duration": 6,
    "start_time": "2023-01-15T12:37:46.652Z"
   },
   {
    "duration": 12,
    "start_time": "2023-01-15T12:37:53.605Z"
   },
   {
    "duration": 4,
    "start_time": "2023-01-15T12:47:25.543Z"
   },
   {
    "duration": 7,
    "start_time": "2023-01-15T12:47:28.554Z"
   },
   {
    "duration": 1853,
    "start_time": "2023-01-15T12:47:30.318Z"
   },
   {
    "duration": 12,
    "start_time": "2023-01-15T12:47:33.324Z"
   },
   {
    "duration": 6,
    "start_time": "2023-01-15T12:47:34.601Z"
   },
   {
    "duration": 6,
    "start_time": "2023-01-15T12:47:35.718Z"
   },
   {
    "duration": 5,
    "start_time": "2023-01-15T12:47:37.739Z"
   },
   {
    "duration": 11,
    "start_time": "2023-01-15T12:47:38.157Z"
   },
   {
    "duration": 5,
    "start_time": "2023-01-15T12:47:38.571Z"
   },
   {
    "duration": 4,
    "start_time": "2023-01-15T12:47:38.943Z"
   },
   {
    "duration": 4,
    "start_time": "2023-01-15T12:47:42.415Z"
   },
   {
    "duration": 3,
    "start_time": "2023-01-15T12:47:44.295Z"
   },
   {
    "duration": 4,
    "start_time": "2023-01-15T12:47:44.651Z"
   },
   {
    "duration": 3,
    "start_time": "2023-01-15T12:47:50.616Z"
   },
   {
    "duration": 16,
    "start_time": "2023-01-15T12:47:52.286Z"
   },
   {
    "duration": 6,
    "start_time": "2023-01-15T12:47:53.260Z"
   },
   {
    "duration": 5,
    "start_time": "2023-01-15T12:48:03.512Z"
   },
   {
    "duration": 15,
    "start_time": "2023-01-15T12:48:08.342Z"
   },
   {
    "duration": 4,
    "start_time": "2023-01-15T12:48:09.417Z"
   },
   {
    "duration": 6,
    "start_time": "2023-01-15T12:48:13.110Z"
   },
   {
    "duration": 6,
    "start_time": "2023-01-15T12:48:13.935Z"
   },
   {
    "duration": 11,
    "start_time": "2023-01-15T12:48:14.803Z"
   },
   {
    "duration": 3,
    "start_time": "2023-01-15T12:52:28.040Z"
   },
   {
    "duration": 6,
    "start_time": "2023-01-15T12:52:28.564Z"
   },
   {
    "duration": 2058,
    "start_time": "2023-01-15T12:52:36.869Z"
   },
   {
    "duration": 12,
    "start_time": "2023-01-15T12:52:41.447Z"
   },
   {
    "duration": 5,
    "start_time": "2023-01-15T12:52:46.063Z"
   },
   {
    "duration": 6,
    "start_time": "2023-01-15T12:52:48.473Z"
   },
   {
    "duration": 5,
    "start_time": "2023-01-15T12:52:49.150Z"
   },
   {
    "duration": 12,
    "start_time": "2023-01-15T12:52:49.651Z"
   },
   {
    "duration": 4,
    "start_time": "2023-01-15T12:52:51.918Z"
   },
   {
    "duration": 4,
    "start_time": "2023-01-15T12:52:52.468Z"
   },
   {
    "duration": 3,
    "start_time": "2023-01-15T12:52:57.056Z"
   },
   {
    "duration": 3,
    "start_time": "2023-01-15T12:52:57.625Z"
   },
   {
    "duration": 5,
    "start_time": "2023-01-15T12:53:01.624Z"
   },
   {
    "duration": 4,
    "start_time": "2023-01-15T12:53:02.376Z"
   },
   {
    "duration": 16,
    "start_time": "2023-01-15T12:53:05.503Z"
   },
   {
    "duration": 7,
    "start_time": "2023-01-15T12:53:06.222Z"
   },
   {
    "duration": 14,
    "start_time": "2023-01-15T12:53:11.316Z"
   },
   {
    "duration": 7,
    "start_time": "2023-01-15T12:53:11.986Z"
   },
   {
    "duration": 20,
    "start_time": "2023-01-15T12:53:17.540Z"
   },
   {
    "duration": 3,
    "start_time": "2023-01-15T12:53:24.481Z"
   },
   {
    "duration": 5,
    "start_time": "2023-01-15T12:53:27.680Z"
   },
   {
    "duration": 6,
    "start_time": "2023-01-15T12:53:28.654Z"
   },
   {
    "duration": 15,
    "start_time": "2023-01-15T12:53:29.619Z"
   },
   {
    "duration": 10,
    "start_time": "2023-01-15T12:56:14.148Z"
   },
   {
    "duration": 5,
    "start_time": "2023-01-15T12:56:22.793Z"
   },
   {
    "duration": 10,
    "start_time": "2023-01-15T12:57:24.420Z"
   },
   {
    "duration": 10,
    "start_time": "2023-01-15T13:15:39.575Z"
   },
   {
    "duration": 4,
    "start_time": "2023-01-15T13:15:59.837Z"
   },
   {
    "duration": 4,
    "start_time": "2023-01-15T13:16:30.879Z"
   },
   {
    "duration": 6,
    "start_time": "2023-01-15T13:16:31.801Z"
   },
   {
    "duration": 1814,
    "start_time": "2023-01-15T13:16:34.837Z"
   },
   {
    "duration": 12,
    "start_time": "2023-01-15T13:16:38.761Z"
   },
   {
    "duration": 10,
    "start_time": "2023-01-15T13:21:56.187Z"
   },
   {
    "duration": 5,
    "start_time": "2023-01-15T13:22:09.572Z"
   },
   {
    "duration": 192,
    "start_time": "2023-01-15T13:22:13.743Z"
   },
   {
    "duration": 288,
    "start_time": "2023-01-15T13:22:17.944Z"
   },
   {
    "duration": 30,
    "start_time": "2023-01-15T13:22:18.672Z"
   },
   {
    "duration": 25,
    "start_time": "2023-01-15T13:22:23.426Z"
   },
   {
    "duration": 17,
    "start_time": "2023-01-15T13:22:24.525Z"
   },
   {
    "duration": 9,
    "start_time": "2023-01-15T13:22:26.686Z"
   },
   {
    "duration": 53,
    "start_time": "2023-01-15T13:22:28.967Z"
   },
   {
    "duration": 58,
    "start_time": "2023-01-15T13:23:09.133Z"
   },
   {
    "duration": 50,
    "start_time": "2023-01-15T13:23:20.224Z"
   },
   {
    "duration": 5,
    "start_time": "2023-01-15T13:23:50.985Z"
   },
   {
    "duration": 1727,
    "start_time": "2023-01-15T13:23:53.731Z"
   },
   {
    "duration": 41,
    "start_time": "2023-01-15T13:24:26.086Z"
   },
   {
    "duration": 11,
    "start_time": "2023-01-15T13:24:37.377Z"
   },
   {
    "duration": 773,
    "start_time": "2023-01-15T13:24:41.680Z"
   },
   {
    "duration": 410,
    "start_time": "2023-01-15T13:24:42.455Z"
   },
   {
    "duration": 71,
    "start_time": "2023-01-15T13:24:42.979Z"
   },
   {
    "duration": 6,
    "start_time": "2023-01-15T13:24:44.003Z"
   },
   {
    "duration": 5,
    "start_time": "2023-01-15T13:24:44.642Z"
   },
   {
    "duration": 4,
    "start_time": "2023-01-15T13:24:49.235Z"
   },
   {
    "duration": 3,
    "start_time": "2023-01-15T13:24:49.784Z"
   },
   {
    "duration": 3,
    "start_time": "2023-01-15T13:24:51.355Z"
   },
   {
    "duration": 4,
    "start_time": "2023-01-15T13:24:52.179Z"
   },
   {
    "duration": 17,
    "start_time": "2023-01-15T13:24:54.799Z"
   },
   {
    "duration": 5,
    "start_time": "2023-01-15T13:24:55.354Z"
   },
   {
    "duration": 11,
    "start_time": "2023-01-15T13:24:58.876Z"
   },
   {
    "duration": 6,
    "start_time": "2023-01-15T13:24:59.425Z"
   },
   {
    "duration": 19,
    "start_time": "2023-01-15T13:25:05.283Z"
   },
   {
    "duration": 3,
    "start_time": "2023-01-15T13:25:06.641Z"
   },
   {
    "duration": 6,
    "start_time": "2023-01-15T13:25:10.379Z"
   },
   {
    "duration": 5,
    "start_time": "2023-01-15T13:25:11.344Z"
   },
   {
    "duration": 13,
    "start_time": "2023-01-15T13:25:12.407Z"
   },
   {
    "duration": 5,
    "start_time": "2023-01-15T13:25:44.509Z"
   },
   {
    "duration": 8,
    "start_time": "2023-01-15T13:25:46.906Z"
   },
   {
    "duration": 13,
    "start_time": "2023-01-15T13:27:00.693Z"
   },
   {
    "duration": 8,
    "start_time": "2023-01-15T13:28:12.721Z"
   },
   {
    "duration": 6,
    "start_time": "2023-01-15T13:28:16.648Z"
   },
   {
    "duration": 9,
    "start_time": "2023-01-15T13:28:17.283Z"
   },
   {
    "duration": 12,
    "start_time": "2023-01-15T17:05:45.106Z"
   },
   {
    "duration": 8,
    "start_time": "2023-01-15T17:05:58.099Z"
   },
   {
    "duration": 6,
    "start_time": "2023-01-15T17:16:37.352Z"
   },
   {
    "duration": 15,
    "start_time": "2023-01-15T17:17:00.701Z"
   },
   {
    "duration": 5,
    "start_time": "2023-01-15T17:17:15.582Z"
   },
   {
    "duration": 13,
    "start_time": "2023-01-15T17:17:19.114Z"
   },
   {
    "duration": 5,
    "start_time": "2023-01-15T17:17:19.993Z"
   },
   {
    "duration": 6,
    "start_time": "2023-01-15T17:17:40.455Z"
   },
   {
    "duration": 6,
    "start_time": "2023-01-15T17:17:44.356Z"
   },
   {
    "duration": 13,
    "start_time": "2023-01-15T17:17:48.093Z"
   },
   {
    "duration": 9,
    "start_time": "2023-01-15T17:18:00.517Z"
   },
   {
    "duration": 5,
    "start_time": "2023-01-15T17:23:45.497Z"
   },
   {
    "duration": 14,
    "start_time": "2023-01-15T17:23:46.563Z"
   },
   {
    "duration": 3,
    "start_time": "2023-01-15T17:35:58.344Z"
   },
   {
    "duration": 5,
    "start_time": "2023-01-15T17:36:00.121Z"
   },
   {
    "duration": 6,
    "start_time": "2023-01-15T17:36:02.753Z"
   },
   {
    "duration": 11,
    "start_time": "2023-01-15T17:36:04.233Z"
   },
   {
    "duration": 9,
    "start_time": "2023-01-15T17:36:09.542Z"
   },
   {
    "duration": 5,
    "start_time": "2023-01-15T17:36:16.346Z"
   },
   {
    "duration": 5,
    "start_time": "2023-01-15T17:36:16.944Z"
   },
   {
    "duration": 6,
    "start_time": "2023-01-15T17:36:30.838Z"
   },
   {
    "duration": 5,
    "start_time": "2023-01-15T17:36:31.452Z"
   },
   {
    "duration": 12,
    "start_time": "2023-01-15T17:36:32.388Z"
   },
   {
    "duration": 9,
    "start_time": "2023-01-15T17:36:33.423Z"
   },
   {
    "duration": 5,
    "start_time": "2023-01-15T17:36:36.656Z"
   },
   {
    "duration": 5,
    "start_time": "2023-01-15T17:36:37.331Z"
   },
   {
    "duration": 6,
    "start_time": "2023-01-15T17:52:46.457Z"
   },
   {
    "duration": 5,
    "start_time": "2023-01-15T17:52:52.798Z"
   },
   {
    "duration": 5,
    "start_time": "2023-01-15T17:53:09.780Z"
   },
   {
    "duration": 5,
    "start_time": "2023-01-15T17:53:10.922Z"
   },
   {
    "duration": 9,
    "start_time": "2023-01-15T17:53:12.080Z"
   },
   {
    "duration": 41,
    "start_time": "2023-01-15T17:53:49.534Z"
   },
   {
    "duration": 710,
    "start_time": "2023-01-15T17:53:58.156Z"
   },
   {
    "duration": 789,
    "start_time": "2023-01-15T17:54:32.845Z"
   },
   {
    "duration": 14,
    "start_time": "2023-01-15T17:54:57.580Z"
   },
   {
    "duration": 6,
    "start_time": "2023-01-15T17:55:20.832Z"
   },
   {
    "duration": 5,
    "start_time": "2023-01-15T17:55:22.404Z"
   },
   {
    "duration": 8,
    "start_time": "2023-01-15T17:55:23.237Z"
   },
   {
    "duration": 5,
    "start_time": "2023-01-15T17:55:23.900Z"
   },
   {
    "duration": 16,
    "start_time": "2023-01-15T17:55:31.022Z"
   },
   {
    "duration": 9,
    "start_time": "2023-01-15T17:56:07.405Z"
   },
   {
    "duration": 5,
    "start_time": "2023-01-15T18:30:43.353Z"
   },
   {
    "duration": 209,
    "start_time": "2023-01-15T18:30:45.602Z"
   },
   {
    "duration": 36,
    "start_time": "2023-01-15T18:30:49.220Z"
   },
   {
    "duration": 32,
    "start_time": "2023-01-15T18:30:52.044Z"
   },
   {
    "duration": 25,
    "start_time": "2023-01-15T18:30:55.780Z"
   },
   {
    "duration": 15,
    "start_time": "2023-01-15T18:30:58.831Z"
   },
   {
    "duration": 8,
    "start_time": "2023-01-15T18:31:00.372Z"
   },
   {
    "duration": 6,
    "start_time": "2023-01-15T18:31:04.447Z"
   },
   {
    "duration": 1797,
    "start_time": "2023-01-15T18:31:15.578Z"
   },
   {
    "duration": 47,
    "start_time": "2023-01-15T18:31:27.480Z"
   },
   {
    "duration": 28,
    "start_time": "2023-01-15T18:31:33.547Z"
   },
   {
    "duration": 26,
    "start_time": "2023-01-15T18:32:03.977Z"
   },
   {
    "duration": 11,
    "start_time": "2023-01-15T18:32:10.057Z"
   },
   {
    "duration": 770,
    "start_time": "2023-01-15T18:32:15.628Z"
   },
   {
    "duration": 394,
    "start_time": "2023-01-15T18:32:16.463Z"
   },
   {
    "duration": 8,
    "start_time": "2023-01-15T18:32:20.384Z"
   },
   {
    "duration": 6,
    "start_time": "2023-01-15T18:32:21.300Z"
   },
   {
    "duration": 5,
    "start_time": "2023-01-15T18:32:36.243Z"
   },
   {
    "duration": 6,
    "start_time": "2023-01-15T18:32:38.969Z"
   },
   {
    "duration": 3,
    "start_time": "2023-01-15T18:32:41.232Z"
   },
   {
    "duration": 4,
    "start_time": "2023-01-15T18:32:41.922Z"
   },
   {
    "duration": 27,
    "start_time": "2023-01-15T18:32:45.098Z"
   },
   {
    "duration": 8,
    "start_time": "2023-01-15T18:32:46.482Z"
   },
   {
    "duration": 17,
    "start_time": "2023-01-15T18:32:51.201Z"
   },
   {
    "duration": 7,
    "start_time": "2023-01-15T18:32:52.109Z"
   },
   {
    "duration": 15,
    "start_time": "2023-01-15T18:32:57.084Z"
   },
   {
    "duration": 3,
    "start_time": "2023-01-15T18:32:58.465Z"
   },
   {
    "duration": 4,
    "start_time": "2023-01-15T18:33:03.636Z"
   },
   {
    "duration": 6,
    "start_time": "2023-01-15T18:33:05.188Z"
   },
   {
    "duration": 6,
    "start_time": "2023-01-15T18:33:06.303Z"
   },
   {
    "duration": 13,
    "start_time": "2023-01-15T18:33:07.221Z"
   },
   {
    "duration": 46,
    "start_time": "2023-01-15T18:35:33.965Z"
   },
   {
    "duration": 5,
    "start_time": "2023-01-15T19:11:47.386Z"
   },
   {
    "duration": 6,
    "start_time": "2023-01-15T19:11:48.439Z"
   },
   {
    "duration": 12,
    "start_time": "2023-01-15T19:11:49.628Z"
   },
   {
    "duration": 47,
    "start_time": "2023-01-15T19:12:01.866Z"
   },
   {
    "duration": 5,
    "start_time": "2023-01-15T19:12:06.253Z"
   },
   {
    "duration": 6,
    "start_time": "2023-01-15T19:12:08.811Z"
   },
   {
    "duration": 14,
    "start_time": "2023-01-15T19:12:16.145Z"
   },
   {
    "duration": 5,
    "start_time": "2023-01-15T19:21:23.258Z"
   },
   {
    "duration": 6,
    "start_time": "2023-01-15T19:21:27.443Z"
   },
   {
    "duration": 3,
    "start_time": "2023-01-15T19:21:28.888Z"
   },
   {
    "duration": 4,
    "start_time": "2023-01-15T19:21:30.098Z"
   },
   {
    "duration": 16,
    "start_time": "2023-01-15T19:21:49.328Z"
   },
   {
    "duration": 6,
    "start_time": "2023-01-15T19:21:50.027Z"
   },
   {
    "duration": 16,
    "start_time": "2023-01-15T19:21:58.466Z"
   },
   {
    "duration": 3,
    "start_time": "2023-01-15T19:22:04.963Z"
   },
   {
    "duration": 6,
    "start_time": "2023-01-15T19:22:06.501Z"
   },
   {
    "duration": 5,
    "start_time": "2023-01-15T19:27:06.154Z"
   },
   {
    "duration": 11,
    "start_time": "2023-01-15T19:27:07.026Z"
   },
   {
    "duration": 61,
    "start_time": "2023-01-15T19:27:10.575Z"
   },
   {
    "duration": 6,
    "start_time": "2023-01-15T19:29:51.969Z"
   },
   {
    "duration": 5,
    "start_time": "2023-01-15T19:29:52.806Z"
   },
   {
    "duration": 12,
    "start_time": "2023-01-15T19:29:53.733Z"
   },
   {
    "duration": 4,
    "start_time": "2023-01-15T19:29:54.728Z"
   },
   {
    "duration": 5,
    "start_time": "2023-01-15T19:29:55.651Z"
   },
   {
    "duration": 4,
    "start_time": "2023-01-15T19:29:59.298Z"
   },
   {
    "duration": 4,
    "start_time": "2023-01-15T19:30:02.512Z"
   },
   {
    "duration": 3,
    "start_time": "2023-01-15T19:30:05.292Z"
   },
   {
    "duration": 3,
    "start_time": "2023-01-15T19:30:06.345Z"
   },
   {
    "duration": 16,
    "start_time": "2023-01-15T19:30:10.084Z"
   },
   {
    "duration": 5,
    "start_time": "2023-01-15T19:30:11.031Z"
   },
   {
    "duration": 11,
    "start_time": "2023-01-15T19:30:13.698Z"
   },
   {
    "duration": 14,
    "start_time": "2023-01-15T19:31:12.504Z"
   },
   {
    "duration": 3,
    "start_time": "2023-01-15T19:31:14.766Z"
   },
   {
    "duration": 6,
    "start_time": "2023-01-15T19:31:26.306Z"
   },
   {
    "duration": 6,
    "start_time": "2023-01-15T19:31:27.439Z"
   },
   {
    "duration": 11,
    "start_time": "2023-01-15T19:31:28.824Z"
   },
   {
    "duration": 56,
    "start_time": "2023-01-15T19:32:34.745Z"
   },
   {
    "duration": 5,
    "start_time": "2023-01-15T19:32:39.030Z"
   },
   {
    "duration": 5,
    "start_time": "2023-01-15T19:32:39.925Z"
   },
   {
    "duration": 12,
    "start_time": "2023-01-15T19:34:38.119Z"
   },
   {
    "duration": 3,
    "start_time": "2023-01-15T19:38:35.647Z"
   },
   {
    "duration": 5,
    "start_time": "2023-01-15T19:38:39.214Z"
   },
   {
    "duration": 9,
    "start_time": "2023-01-15T19:38:40.300Z"
   },
   {
    "duration": 12,
    "start_time": "2023-01-15T19:38:41.256Z"
   },
   {
    "duration": 1525,
    "start_time": "2023-01-16T07:29:01.248Z"
   },
   {
    "duration": 422,
    "start_time": "2023-01-16T07:29:02.775Z"
   },
   {
    "duration": 45,
    "start_time": "2023-01-16T07:29:03.199Z"
   },
   {
    "duration": 31,
    "start_time": "2023-01-16T07:29:03.551Z"
   },
   {
    "duration": 27,
    "start_time": "2023-01-16T07:29:05.589Z"
   },
   {
    "duration": 23,
    "start_time": "2023-01-16T07:29:06.143Z"
   },
   {
    "duration": 9,
    "start_time": "2023-01-16T07:29:09.006Z"
   },
   {
    "duration": 6,
    "start_time": "2023-01-16T07:29:09.473Z"
   },
   {
    "duration": 2092,
    "start_time": "2023-01-16T07:29:12.213Z"
   },
   {
    "duration": 2062,
    "start_time": "2023-01-16T07:29:15.395Z"
   },
   {
    "duration": 61,
    "start_time": "2023-01-16T07:29:22.085Z"
   },
   {
    "duration": 31,
    "start_time": "2023-01-16T07:29:25.050Z"
   },
   {
    "duration": 10,
    "start_time": "2023-01-16T07:29:29.463Z"
   },
   {
    "duration": 854,
    "start_time": "2023-01-16T07:29:32.566Z"
   },
   {
    "duration": 444,
    "start_time": "2023-01-16T07:29:33.619Z"
   },
   {
    "duration": 74,
    "start_time": "2023-01-16T07:29:34.157Z"
   },
   {
    "duration": 8,
    "start_time": "2023-01-16T07:29:35.307Z"
   },
   {
    "duration": 6,
    "start_time": "2023-01-16T07:29:35.845Z"
   },
   {
    "duration": 5,
    "start_time": "2023-01-16T07:29:39.763Z"
   },
   {
    "duration": 3,
    "start_time": "2023-01-16T07:29:40.836Z"
   },
   {
    "duration": 3,
    "start_time": "2023-01-16T07:29:41.276Z"
   },
   {
    "duration": 147,
    "start_time": "2023-01-16T07:29:43.939Z"
   },
   {
    "duration": 1090,
    "start_time": "2023-01-16T07:29:44.567Z"
   },
   {
    "duration": 5,
    "start_time": "2023-01-16T07:29:47.937Z"
   },
   {
    "duration": 18,
    "start_time": "2023-01-16T07:29:49.265Z"
   },
   {
    "duration": 6,
    "start_time": "2023-01-16T07:29:50.499Z"
   },
   {
    "duration": 14,
    "start_time": "2023-01-16T07:29:53.988Z"
   },
   {
    "duration": 7,
    "start_time": "2023-01-16T07:29:54.582Z"
   },
   {
    "duration": 16,
    "start_time": "2023-01-16T07:29:58.761Z"
   },
   {
    "duration": 5,
    "start_time": "2023-01-16T07:30:00.135Z"
   },
   {
    "duration": 8,
    "start_time": "2023-01-16T07:30:03.192Z"
   },
   {
    "duration": 7,
    "start_time": "2023-01-16T07:30:04.163Z"
   },
   {
    "duration": 17,
    "start_time": "2023-01-16T07:30:04.970Z"
   },
   {
    "duration": 4,
    "start_time": "2023-01-16T07:30:35.925Z"
   },
   {
    "duration": 6,
    "start_time": "2023-01-16T07:59:58.503Z"
   },
   {
    "duration": 5,
    "start_time": "2023-01-16T07:59:59.652Z"
   },
   {
    "duration": 14,
    "start_time": "2023-01-16T08:00:00.582Z"
   },
   {
    "duration": 8,
    "start_time": "2023-01-16T08:01:05.914Z"
   },
   {
    "duration": 7,
    "start_time": "2023-01-16T08:01:07.044Z"
   },
   {
    "duration": 13,
    "start_time": "2023-01-16T08:01:07.953Z"
   },
   {
    "duration": 4,
    "start_time": "2023-01-16T08:02:35.260Z"
   },
   {
    "duration": 7,
    "start_time": "2023-01-16T08:02:37.813Z"
   },
   {
    "duration": 7,
    "start_time": "2023-01-16T08:02:39.085Z"
   },
   {
    "duration": 13,
    "start_time": "2023-01-16T08:02:40.422Z"
   },
   {
    "duration": 4,
    "start_time": "2023-01-16T08:03:20.820Z"
   },
   {
    "duration": 6,
    "start_time": "2023-01-16T08:03:22.994Z"
   },
   {
    "duration": 8,
    "start_time": "2023-01-16T08:03:23.955Z"
   },
   {
    "duration": 59,
    "start_time": "2023-01-16T08:03:24.809Z"
   },
   {
    "duration": 3,
    "start_time": "2023-01-16T08:04:33.542Z"
   },
   {
    "duration": 9,
    "start_time": "2023-01-16T08:04:36.174Z"
   },
   {
    "duration": 47,
    "start_time": "2023-01-16T08:04:38.079Z"
   },
   {
    "duration": 3,
    "start_time": "2023-01-16T08:05:23.771Z"
   },
   {
    "duration": 7,
    "start_time": "2023-01-16T08:05:26.099Z"
   },
   {
    "duration": 6,
    "start_time": "2023-01-16T08:05:27.153Z"
   },
   {
    "duration": 14,
    "start_time": "2023-01-16T08:05:28.326Z"
   },
   {
    "duration": 4,
    "start_time": "2023-01-16T08:06:30.658Z"
   },
   {
    "duration": 5,
    "start_time": "2023-01-16T08:06:31.642Z"
   },
   {
    "duration": 9,
    "start_time": "2023-01-16T08:06:33.090Z"
   },
   {
    "duration": 5,
    "start_time": "2023-01-16T09:24:45.924Z"
   },
   {
    "duration": 4,
    "start_time": "2023-01-16T09:24:47.081Z"
   },
   {
    "duration": 1937,
    "start_time": "2023-01-16T09:25:23.884Z"
   },
   {
    "duration": 2128,
    "start_time": "2023-01-16T09:25:45.050Z"
   },
   {
    "duration": 2012,
    "start_time": "2023-01-16T09:26:01.079Z"
   },
   {
    "duration": 5,
    "start_time": "2023-01-16T09:26:38.364Z"
   },
   {
    "duration": 215,
    "start_time": "2023-01-16T09:26:40.789Z"
   },
   {
    "duration": 37,
    "start_time": "2023-01-16T09:26:44.213Z"
   },
   {
    "duration": 28,
    "start_time": "2023-01-16T09:26:47.260Z"
   },
   {
    "duration": 16,
    "start_time": "2023-01-16T09:26:48.257Z"
   },
   {
    "duration": 10,
    "start_time": "2023-01-16T09:26:51.374Z"
   },
   {
    "duration": 6,
    "start_time": "2023-01-16T09:26:56.670Z"
   },
   {
    "duration": 1919,
    "start_time": "2023-01-16T09:27:01.481Z"
   },
   {
    "duration": 45,
    "start_time": "2023-01-16T09:27:59.281Z"
   },
   {
    "duration": 30,
    "start_time": "2023-01-16T09:28:01.994Z"
   },
   {
    "duration": 10,
    "start_time": "2023-01-16T09:28:07.275Z"
   },
   {
    "duration": 908,
    "start_time": "2023-01-16T09:28:15.234Z"
   },
   {
    "duration": 416,
    "start_time": "2023-01-16T09:28:16.610Z"
   },
   {
    "duration": 80,
    "start_time": "2023-01-16T09:28:17.902Z"
   },
   {
    "duration": 9,
    "start_time": "2023-01-16T09:28:19.036Z"
   },
   {
    "duration": 8,
    "start_time": "2023-01-16T09:28:20.285Z"
   },
   {
    "duration": 3,
    "start_time": "2023-01-16T09:28:24.754Z"
   },
   {
    "duration": 4,
    "start_time": "2023-01-16T09:28:26.105Z"
   },
   {
    "duration": 4,
    "start_time": "2023-01-16T09:28:27.200Z"
   },
   {
    "duration": 4,
    "start_time": "2023-01-16T09:28:28.721Z"
   },
   {
    "duration": 277,
    "start_time": "2023-01-16T09:28:31.782Z"
   },
   {
    "duration": 6,
    "start_time": "2023-01-16T09:28:35.404Z"
   },
   {
    "duration": 156,
    "start_time": "2023-01-16T09:28:40.316Z"
   },
   {
    "duration": 6,
    "start_time": "2023-01-16T09:28:41.468Z"
   },
   {
    "duration": 17,
    "start_time": "2023-01-16T09:28:47.845Z"
   },
   {
    "duration": 3,
    "start_time": "2023-01-16T09:28:52.589Z"
   },
   {
    "duration": 10,
    "start_time": "2023-01-16T09:28:56.083Z"
   },
   {
    "duration": 14,
    "start_time": "2023-01-16T09:28:56.971Z"
   },
   {
    "duration": 11,
    "start_time": "2023-01-16T09:28:57.941Z"
   },
   {
    "duration": 4,
    "start_time": "2023-01-16T09:29:00.596Z"
   },
   {
    "duration": 8,
    "start_time": "2023-01-16T09:29:01.579Z"
   },
   {
    "duration": 8,
    "start_time": "2023-01-16T09:29:02.678Z"
   },
   {
    "duration": 15,
    "start_time": "2023-01-16T09:31:23.289Z"
   },
   {
    "duration": 6,
    "start_time": "2023-01-16T09:31:31.612Z"
   },
   {
    "duration": 14,
    "start_time": "2023-01-16T09:31:35.285Z"
   },
   {
    "duration": 13,
    "start_time": "2023-01-16T09:31:38.632Z"
   },
   {
    "duration": 10,
    "start_time": "2023-01-16T09:34:28.858Z"
   },
   {
    "duration": 22,
    "start_time": "2023-01-16T09:35:42.438Z"
   },
   {
    "duration": 15,
    "start_time": "2023-01-16T10:01:51.278Z"
   },
   {
    "duration": 12,
    "start_time": "2023-01-16T10:01:56.128Z"
   },
   {
    "duration": 11,
    "start_time": "2023-01-16T10:01:59.576Z"
   },
   {
    "duration": 22,
    "start_time": "2023-01-16T10:15:58.122Z"
   },
   {
    "duration": 20,
    "start_time": "2023-01-16T10:16:55.805Z"
   },
   {
    "duration": 66,
    "start_time": "2023-01-16T10:50:47.866Z"
   },
   {
    "duration": 30,
    "start_time": "2023-01-16T10:55:25.178Z"
   },
   {
    "duration": 27,
    "start_time": "2023-01-16T10:56:32.173Z"
   },
   {
    "duration": 5,
    "start_time": "2023-01-16T11:02:42.019Z"
   },
   {
    "duration": 6,
    "start_time": "2023-01-16T11:06:03.315Z"
   },
   {
    "duration": 54,
    "start_time": "2023-01-16T11:07:45.517Z"
   },
   {
    "duration": 6,
    "start_time": "2023-01-16T11:08:10.116Z"
   },
   {
    "duration": 57,
    "start_time": "2023-01-16T11:09:09.024Z"
   },
   {
    "duration": 37,
    "start_time": "2023-01-16T11:09:47.890Z"
   },
   {
    "duration": 36,
    "start_time": "2023-01-16T11:09:48.422Z"
   },
   {
    "duration": 15,
    "start_time": "2023-01-16T11:09:50.029Z"
   },
   {
    "duration": 6,
    "start_time": "2023-01-16T11:10:48.474Z"
   },
   {
    "duration": 6,
    "start_time": "2023-01-16T12:28:02.544Z"
   },
   {
    "duration": 11,
    "start_time": "2023-01-16T12:29:21.729Z"
   },
   {
    "duration": 14,
    "start_time": "2023-01-16T12:29:30.056Z"
   },
   {
    "duration": 2300,
    "start_time": "2023-01-16T12:30:40.774Z"
   },
   {
    "duration": 3,
    "start_time": "2023-01-16T12:32:29.391Z"
   },
   {
    "duration": 3,
    "start_time": "2023-01-16T12:32:30.091Z"
   },
   {
    "duration": 3,
    "start_time": "2023-01-16T12:32:32.663Z"
   },
   {
    "duration": 4,
    "start_time": "2023-01-16T12:32:33.974Z"
   },
   {
    "duration": 5,
    "start_time": "2023-01-16T12:32:35.957Z"
   },
   {
    "duration": 4,
    "start_time": "2023-01-16T12:32:36.698Z"
   },
   {
    "duration": 279,
    "start_time": "2023-01-16T12:32:40.312Z"
   },
   {
    "duration": 7,
    "start_time": "2023-01-16T12:32:41.660Z"
   },
   {
    "duration": 151,
    "start_time": "2023-01-16T12:32:42.613Z"
   },
   {
    "duration": 7,
    "start_time": "2023-01-16T12:32:59.812Z"
   },
   {
    "duration": 19,
    "start_time": "2023-01-16T12:33:07.994Z"
   },
   {
    "duration": 4,
    "start_time": "2023-01-16T12:33:24.147Z"
   },
   {
    "duration": 8,
    "start_time": "2023-01-16T12:33:28.225Z"
   },
   {
    "duration": 21,
    "start_time": "2023-01-16T12:33:29.320Z"
   },
   {
    "duration": 11,
    "start_time": "2023-01-16T12:33:30.293Z"
   },
   {
    "duration": 4,
    "start_time": "2023-01-16T12:33:31.395Z"
   },
   {
    "duration": 8,
    "start_time": "2023-01-16T12:33:38.017Z"
   },
   {
    "duration": 65,
    "start_time": "2023-01-16T12:34:04.792Z"
   },
   {
    "duration": 8,
    "start_time": "2023-01-16T12:34:13.601Z"
   },
   {
    "duration": 38,
    "start_time": "2023-01-16T12:34:18.319Z"
   },
   {
    "duration": 180,
    "start_time": "2023-01-16T12:36:12.917Z"
   },
   {
    "duration": 6,
    "start_time": "2023-01-16T12:36:37.545Z"
   },
   {
    "duration": 13,
    "start_time": "2023-01-16T12:48:36.562Z"
   },
   {
    "duration": 14,
    "start_time": "2023-01-16T12:48:45.824Z"
   },
   {
    "duration": 13,
    "start_time": "2023-01-16T12:49:10.608Z"
   },
   {
    "duration": 55,
    "start_time": "2023-01-16T12:51:14.262Z"
   },
   {
    "duration": 58,
    "start_time": "2023-01-16T12:51:14.767Z"
   },
   {
    "duration": 37,
    "start_time": "2023-01-16T12:51:15.133Z"
   },
   {
    "duration": 34,
    "start_time": "2023-01-16T12:51:15.648Z"
   },
   {
    "duration": 16,
    "start_time": "2023-01-16T12:51:16.597Z"
   },
   {
    "duration": 2,
    "start_time": "2023-01-16T12:51:28.209Z"
   },
   {
    "duration": 20,
    "start_time": "2023-01-16T12:51:34.698Z"
   },
   {
    "duration": 6,
    "start_time": "2023-01-16T12:51:35.092Z"
   },
   {
    "duration": 3,
    "start_time": "2023-01-16T12:51:36.046Z"
   },
   {
    "duration": 4,
    "start_time": "2023-01-16T12:51:39.667Z"
   },
   {
    "duration": 4,
    "start_time": "2023-01-16T12:51:39.897Z"
   },
   {
    "duration": 4,
    "start_time": "2023-01-16T12:51:40.222Z"
   },
   {
    "duration": 3,
    "start_time": "2023-01-16T12:51:40.864Z"
   },
   {
    "duration": 281,
    "start_time": "2023-01-16T12:51:41.825Z"
   },
   {
    "duration": 6,
    "start_time": "2023-01-16T12:51:42.450Z"
   },
   {
    "duration": 160,
    "start_time": "2023-01-16T12:51:43.285Z"
   },
   {
    "duration": 6,
    "start_time": "2023-01-16T12:51:48.259Z"
   },
   {
    "duration": 16,
    "start_time": "2023-01-16T12:51:51.021Z"
   },
   {
    "duration": 8,
    "start_time": "2023-01-16T12:52:04.000Z"
   },
   {
    "duration": 8,
    "start_time": "2023-01-16T12:52:06.878Z"
   },
   {
    "duration": 13,
    "start_time": "2023-01-16T12:52:07.646Z"
   },
   {
    "duration": 10,
    "start_time": "2023-01-16T12:52:08.045Z"
   },
   {
    "duration": 8,
    "start_time": "2023-01-16T12:52:08.426Z"
   },
   {
    "duration": 68,
    "start_time": "2023-01-16T12:52:08.992Z"
   },
   {
    "duration": 8,
    "start_time": "2023-01-16T12:52:13.802Z"
   },
   {
    "duration": 50,
    "start_time": "2023-01-16T12:52:17.160Z"
   },
   {
    "duration": 8,
    "start_time": "2023-01-16T13:36:06.756Z"
   },
   {
    "duration": 18,
    "start_time": "2023-01-16T13:58:24.191Z"
   },
   {
    "duration": 15,
    "start_time": "2023-01-16T13:58:24.586Z"
   },
   {
    "duration": 19,
    "start_time": "2023-01-16T13:58:24.958Z"
   },
   {
    "duration": 58,
    "start_time": "2023-01-16T13:58:46.212Z"
   },
   {
    "duration": 42,
    "start_time": "2023-01-16T13:58:46.519Z"
   },
   {
    "duration": 36,
    "start_time": "2023-01-16T13:58:46.864Z"
   },
   {
    "duration": 31,
    "start_time": "2023-01-16T13:58:47.524Z"
   },
   {
    "duration": 23,
    "start_time": "2023-01-16T13:58:48.366Z"
   },
   {
    "duration": 17,
    "start_time": "2023-01-16T13:59:00.133Z"
   },
   {
    "duration": 6,
    "start_time": "2023-01-16T13:59:33.434Z"
   },
   {
    "duration": 249,
    "start_time": "2023-01-16T13:59:33.987Z"
   },
   {
    "duration": 42,
    "start_time": "2023-01-16T13:59:39.202Z"
   },
   {
    "duration": 34,
    "start_time": "2023-01-16T13:59:40.393Z"
   },
   {
    "duration": 41,
    "start_time": "2023-01-16T13:59:49.682Z"
   },
   {
    "duration": 16,
    "start_time": "2023-01-16T13:59:50.502Z"
   },
   {
    "duration": 2060,
    "start_time": "2023-01-16T13:59:58.895Z"
   },
   {
    "duration": 2290,
    "start_time": "2023-01-16T14:00:12.078Z"
   },
   {
    "duration": 59,
    "start_time": "2023-01-16T14:00:21.729Z"
   },
   {
    "duration": 28,
    "start_time": "2023-01-16T14:00:23.525Z"
   },
   {
    "duration": 11,
    "start_time": "2023-01-16T14:00:28.879Z"
   },
   {
    "duration": 916,
    "start_time": "2023-01-16T14:00:32.279Z"
   },
   {
    "duration": 457,
    "start_time": "2023-01-16T14:00:34.139Z"
   },
   {
    "duration": 35,
    "start_time": "2023-01-16T14:00:35.333Z"
   },
   {
    "duration": 31,
    "start_time": "2023-01-16T14:00:36.792Z"
   },
   {
    "duration": 6,
    "start_time": "2023-01-16T14:00:40.331Z"
   },
   {
    "duration": 4,
    "start_time": "2023-01-16T14:00:44.185Z"
   },
   {
    "duration": 5,
    "start_time": "2023-01-16T14:00:47.361Z"
   },
   {
    "duration": 5,
    "start_time": "2023-01-16T14:00:48.260Z"
   },
   {
    "duration": 2306,
    "start_time": "2023-01-16T14:00:53.436Z"
   },
   {
    "duration": 2003,
    "start_time": "2023-01-16T14:01:19.198Z"
   },
   {
    "duration": 113,
    "start_time": "2023-01-16T14:01:54.553Z"
   },
   {
    "duration": 8,
    "start_time": "2023-01-16T14:01:56.519Z"
   },
   {
    "duration": 7,
    "start_time": "2023-01-16T14:02:29.503Z"
   },
   {
    "duration": 4,
    "start_time": "2023-01-16T14:02:50.235Z"
   },
   {
    "duration": 5,
    "start_time": "2023-01-16T14:02:51.214Z"
   },
   {
    "duration": 5,
    "start_time": "2023-01-16T14:02:56.485Z"
   },
   {
    "duration": 5,
    "start_time": "2023-01-16T14:02:57.066Z"
   },
   {
    "duration": 5104,
    "start_time": "2023-01-16T14:03:00.128Z"
   },
   {
    "duration": 9,
    "start_time": "2023-01-16T14:03:05.235Z"
   },
   {
    "duration": 2942,
    "start_time": "2023-01-16T14:03:11.538Z"
   },
   {
    "duration": 17,
    "start_time": "2023-01-16T14:03:14.482Z"
   },
   {
    "duration": 27,
    "start_time": "2023-01-16T14:03:19.625Z"
   },
   {
    "duration": 5,
    "start_time": "2023-01-16T14:03:20.849Z"
   },
   {
    "duration": 22,
    "start_time": "2023-01-16T14:03:26.223Z"
   },
   {
    "duration": 105,
    "start_time": "2023-01-16T14:03:26.972Z"
   },
   {
    "duration": 62,
    "start_time": "2023-01-16T14:03:27.983Z"
   },
   {
    "duration": 38,
    "start_time": "2023-01-16T14:03:29.075Z"
   },
   {
    "duration": 64,
    "start_time": "2023-01-16T14:03:30.033Z"
   },
   {
    "duration": 1158,
    "start_time": "2023-01-16T14:03:38.607Z"
   },
   {
    "duration": 11,
    "start_time": "2023-01-16T14:03:47.649Z"
   },
   {
    "duration": 251,
    "start_time": "2023-01-16T14:04:29.520Z"
   },
   {
    "duration": 3142,
    "start_time": "2023-01-16T14:05:11.459Z"
   },
   {
    "duration": 609,
    "start_time": "2023-01-16T14:05:20.837Z"
   },
   {
    "duration": 183,
    "start_time": "2023-01-16T14:05:26.315Z"
   },
   {
    "duration": 1656,
    "start_time": "2023-01-16T14:05:30.149Z"
   },
   {
    "duration": 5826,
    "start_time": "2023-01-16T14:05:35.794Z"
   },
   {
    "duration": 449,
    "start_time": "2023-01-16T14:05:51.295Z"
   },
   {
    "duration": 25338,
    "start_time": "2023-01-16T14:05:53.051Z"
   },
   {
    "duration": 18,
    "start_time": "2023-01-16T14:06:18.391Z"
   },
   {
    "duration": 18,
    "start_time": "2023-01-16T14:08:07.130Z"
   },
   {
    "duration": 17,
    "start_time": "2023-01-16T14:19:33.153Z"
   },
   {
    "duration": 18,
    "start_time": "2023-01-16T14:25:00.713Z"
   },
   {
    "duration": 10,
    "start_time": "2023-01-16T14:30:54.668Z"
   },
   {
    "duration": 18,
    "start_time": "2023-01-16T14:41:34.024Z"
   },
   {
    "duration": 18,
    "start_time": "2023-01-16T14:41:58.376Z"
   },
   {
    "duration": 8183,
    "start_time": "2023-01-16T14:43:06.375Z"
   },
   {
    "duration": 1591,
    "start_time": "2023-01-16T14:43:40.480Z"
   },
   {
    "duration": 25817,
    "start_time": "2023-01-16T14:43:50.684Z"
   },
   {
    "duration": 18,
    "start_time": "2023-01-16T14:44:16.503Z"
   },
   {
    "duration": 5411,
    "start_time": "2023-01-16T14:46:08.234Z"
   },
   {
    "duration": 416,
    "start_time": "2023-01-16T14:47:17.563Z"
   },
   {
    "duration": 25124,
    "start_time": "2023-01-16T14:47:22.562Z"
   },
   {
    "duration": 21,
    "start_time": "2023-01-16T14:48:17.908Z"
   },
   {
    "duration": 15,
    "start_time": "2023-01-16T14:48:31.011Z"
   },
   {
    "duration": 6,
    "start_time": "2023-01-16T14:49:04.947Z"
   },
   {
    "duration": 192,
    "start_time": "2023-01-16T14:49:05.841Z"
   },
   {
    "duration": 51,
    "start_time": "2023-01-16T14:49:13.442Z"
   },
   {
    "duration": 33,
    "start_time": "2023-01-16T14:49:22.584Z"
   },
   {
    "duration": 34,
    "start_time": "2023-01-16T14:49:26.210Z"
   },
   {
    "duration": 19,
    "start_time": "2023-01-16T14:49:27.518Z"
   },
   {
    "duration": 7,
    "start_time": "2023-01-16T14:49:28.308Z"
   },
   {
    "duration": 2307,
    "start_time": "2023-01-16T14:49:37.399Z"
   },
   {
    "duration": 45,
    "start_time": "2023-01-16T14:49:46.971Z"
   },
   {
    "duration": 29,
    "start_time": "2023-01-16T14:49:48.102Z"
   },
   {
    "duration": 10,
    "start_time": "2023-01-16T14:49:54.313Z"
   },
   {
    "duration": 889,
    "start_time": "2023-01-16T14:50:02.039Z"
   },
   {
    "duration": 424,
    "start_time": "2023-01-16T14:50:02.987Z"
   },
   {
    "duration": 33,
    "start_time": "2023-01-16T14:50:05.342Z"
   },
   {
    "duration": 25,
    "start_time": "2023-01-16T14:50:09.981Z"
   },
   {
    "duration": 5,
    "start_time": "2023-01-16T14:50:27.422Z"
   },
   {
    "duration": 5,
    "start_time": "2023-01-16T14:50:28.025Z"
   },
   {
    "duration": 5,
    "start_time": "2023-01-16T14:50:28.696Z"
   },
   {
    "duration": 5,
    "start_time": "2023-01-16T14:50:30.357Z"
   },
   {
    "duration": 86,
    "start_time": "2023-01-16T14:50:30.998Z"
   },
   {
    "duration": 7,
    "start_time": "2023-01-16T14:50:34.208Z"
   },
   {
    "duration": 5,
    "start_time": "2023-01-16T14:50:54.127Z"
   },
   {
    "duration": 3,
    "start_time": "2023-01-16T14:50:55.442Z"
   },
   {
    "duration": 4,
    "start_time": "2023-01-16T14:50:56.524Z"
   },
   {
    "duration": 5,
    "start_time": "2023-01-16T14:50:57.677Z"
   },
   {
    "duration": 4746,
    "start_time": "2023-01-16T14:51:01.345Z"
   },
   {
    "duration": 8,
    "start_time": "2023-01-16T14:51:11.281Z"
   },
   {
    "duration": 2321,
    "start_time": "2023-01-16T14:51:15.249Z"
   },
   {
    "duration": 8,
    "start_time": "2023-01-16T14:51:17.572Z"
   },
   {
    "duration": 24,
    "start_time": "2023-01-16T14:51:56.407Z"
   },
   {
    "duration": 3,
    "start_time": "2023-01-16T14:52:00.732Z"
   },
   {
    "duration": 23,
    "start_time": "2023-01-16T14:52:04.953Z"
   },
   {
    "duration": 143,
    "start_time": "2023-01-16T14:52:06.295Z"
   },
   {
    "duration": 58,
    "start_time": "2023-01-16T14:52:07.282Z"
   },
   {
    "duration": 24,
    "start_time": "2023-01-16T14:52:08.649Z"
   },
   {
    "duration": 26,
    "start_time": "2023-01-16T14:53:16.258Z"
   },
   {
    "duration": 15,
    "start_time": "2023-01-16T14:59:48.499Z"
   },
   {
    "duration": 18,
    "start_time": "2023-01-16T14:59:59.899Z"
   },
   {
    "duration": 1022,
    "start_time": "2023-01-16T15:00:09.582Z"
   },
   {
    "duration": 3132,
    "start_time": "2023-01-16T15:00:23.579Z"
   },
   {
    "duration": 615,
    "start_time": "2023-01-16T15:00:29.210Z"
   },
   {
    "duration": 218,
    "start_time": "2023-01-16T15:00:45.092Z"
   },
   {
    "duration": 1614,
    "start_time": "2023-01-16T15:00:48.583Z"
   },
   {
    "duration": 5557,
    "start_time": "2023-01-16T15:00:53.230Z"
   },
   {
    "duration": 436,
    "start_time": "2023-01-16T15:01:48.813Z"
   },
   {
    "duration": 24647,
    "start_time": "2023-01-16T15:01:50.919Z"
   },
   {
    "duration": 5340,
    "start_time": "2023-01-16T15:02:15.568Z"
   },
   {
    "duration": 831,
    "start_time": "2023-01-16T15:02:20.910Z"
   },
   {
    "duration": 5445,
    "start_time": "2023-01-16T15:04:37.955Z"
   },
   {
    "duration": 25042,
    "start_time": "2023-01-16T15:05:16.772Z"
   },
   {
    "duration": 5562,
    "start_time": "2023-01-16T15:05:59.577Z"
   },
   {
    "duration": 834,
    "start_time": "2023-01-16T15:06:14.032Z"
   },
   {
    "duration": 717,
    "start_time": "2023-01-16T15:06:21.663Z"
   },
   {
    "duration": 309,
    "start_time": "2023-01-16T15:06:36.618Z"
   },
   {
    "duration": 6,
    "start_time": "2023-01-16T15:06:40.929Z"
   },
   {
    "duration": 8,
    "start_time": "2023-01-16T15:06:45.781Z"
   },
   {
    "duration": 22,
    "start_time": "2023-01-16T15:06:48.879Z"
   },
   {
    "duration": 6,
    "start_time": "2023-01-16T15:06:52.382Z"
   },
   {
    "duration": 19,
    "start_time": "2023-01-16T15:07:10.362Z"
   },
   {
    "duration": 19,
    "start_time": "2023-01-16T15:07:12.850Z"
   },
   {
    "duration": 24,
    "start_time": "2023-01-16T15:07:14.270Z"
   },
   {
    "duration": 7,
    "start_time": "2023-01-16T15:07:24.641Z"
   },
   {
    "duration": 10,
    "start_time": "2023-01-16T15:07:25.955Z"
   },
   {
    "duration": 8,
    "start_time": "2023-01-16T15:07:31.194Z"
   },
   {
    "duration": 8,
    "start_time": "2023-01-16T15:07:33.101Z"
   },
   {
    "duration": 7,
    "start_time": "2023-01-16T15:07:37.410Z"
   },
   {
    "duration": 7,
    "start_time": "2023-01-16T15:07:38.560Z"
   },
   {
    "duration": 10,
    "start_time": "2023-01-16T15:07:47.877Z"
   },
   {
    "duration": 10,
    "start_time": "2023-01-16T15:08:21.703Z"
   },
   {
    "duration": 10,
    "start_time": "2023-01-16T15:08:59.734Z"
   },
   {
    "duration": 6,
    "start_time": "2023-01-16T15:09:13.266Z"
   },
   {
    "duration": 177,
    "start_time": "2023-01-16T15:09:14.197Z"
   },
   {
    "duration": 38,
    "start_time": "2023-01-16T15:09:17.476Z"
   },
   {
    "duration": 31,
    "start_time": "2023-01-16T15:09:19.773Z"
   },
   {
    "duration": 31,
    "start_time": "2023-01-16T15:09:24.960Z"
   },
   {
    "duration": 19,
    "start_time": "2023-01-16T15:09:26.162Z"
   },
   {
    "duration": 7,
    "start_time": "2023-01-16T15:09:28.202Z"
   },
   {
    "duration": 2277,
    "start_time": "2023-01-16T15:09:34.562Z"
   },
   {
    "duration": 42,
    "start_time": "2023-01-16T15:09:51.585Z"
   },
   {
    "duration": 26,
    "start_time": "2023-01-16T15:09:52.936Z"
   },
   {
    "duration": 10,
    "start_time": "2023-01-16T15:09:58.200Z"
   },
   {
    "duration": 881,
    "start_time": "2023-01-16T15:10:02.435Z"
   },
   {
    "duration": 411,
    "start_time": "2023-01-16T15:10:03.318Z"
   },
   {
    "duration": 4,
    "start_time": "2023-01-16T15:10:03.732Z"
   },
   {
    "duration": 4,
    "start_time": "2023-01-16T15:10:04.047Z"
   },
   {
    "duration": 4,
    "start_time": "2023-01-16T15:10:04.643Z"
   },
   {
    "duration": 5,
    "start_time": "2023-01-16T15:10:05.810Z"
   },
   {
    "duration": 73,
    "start_time": "2023-01-16T15:10:07.062Z"
   },
   {
    "duration": 6,
    "start_time": "2023-01-16T15:10:08.438Z"
   },
   {
    "duration": 12,
    "start_time": "2023-01-16T15:10:54.275Z"
   },
   {
    "duration": 6,
    "start_time": "2023-01-16T15:10:54.990Z"
   },
   {
    "duration": 71,
    "start_time": "2023-01-16T15:16:57.658Z"
   },
   {
    "duration": 4,
    "start_time": "2023-01-16T15:17:03.987Z"
   },
   {
    "duration": 3,
    "start_time": "2023-01-16T15:17:05.024Z"
   },
   {
    "duration": 4,
    "start_time": "2023-01-16T15:17:07.383Z"
   },
   {
    "duration": 4,
    "start_time": "2023-01-16T15:17:08.625Z"
   },
   {
    "duration": 4541,
    "start_time": "2023-01-16T15:17:11.344Z"
   },
   {
    "duration": 13,
    "start_time": "2023-01-16T15:17:15.887Z"
   },
   {
    "duration": 2320,
    "start_time": "2023-01-16T15:17:21.358Z"
   },
   {
    "duration": 7,
    "start_time": "2023-01-16T15:17:23.681Z"
   },
   {
    "duration": 19,
    "start_time": "2023-01-16T15:17:34.002Z"
   },
   {
    "duration": 4,
    "start_time": "2023-01-16T15:17:35.788Z"
   },
   {
    "duration": 20,
    "start_time": "2023-01-16T15:17:41.847Z"
   },
   {
    "duration": 104,
    "start_time": "2023-01-16T15:17:42.940Z"
   },
   {
    "duration": 59,
    "start_time": "2023-01-16T15:17:43.841Z"
   },
   {
    "duration": 25,
    "start_time": "2023-01-16T15:17:44.906Z"
   },
   {
    "duration": 14,
    "start_time": "2023-01-16T15:17:45.945Z"
   },
   {
    "duration": 16,
    "start_time": "2023-01-16T15:17:47.973Z"
   },
   {
    "duration": 2,
    "start_time": "2023-01-16T15:17:59.950Z"
   },
   {
    "duration": 1015,
    "start_time": "2023-01-16T15:18:04.362Z"
   },
   {
    "duration": 214,
    "start_time": "2023-01-16T15:18:12.341Z"
   },
   {
    "duration": 2762,
    "start_time": "2023-01-16T15:18:17.069Z"
   },
   {
    "duration": 570,
    "start_time": "2023-01-16T15:18:22.964Z"
   },
   {
    "duration": 217,
    "start_time": "2023-01-16T15:18:28.081Z"
   },
   {
    "duration": 1388,
    "start_time": "2023-01-16T15:18:29.466Z"
   },
   {
    "duration": 5630,
    "start_time": "2023-01-16T15:18:33.829Z"
   },
   {
    "duration": 427,
    "start_time": "2023-01-16T15:18:43.534Z"
   },
   {
    "duration": 24482,
    "start_time": "2023-01-16T15:18:46.564Z"
   },
   {
    "duration": 5499,
    "start_time": "2023-01-16T15:19:11.048Z"
   },
   {
    "duration": 868,
    "start_time": "2023-01-16T15:19:42.838Z"
   },
   {
    "duration": 730,
    "start_time": "2023-01-16T15:19:48.845Z"
   },
   {
    "duration": 293,
    "start_time": "2023-01-16T15:20:02.603Z"
   },
   {
    "duration": 4,
    "start_time": "2023-01-16T15:20:06.225Z"
   },
   {
    "duration": 6,
    "start_time": "2023-01-16T15:20:07.305Z"
   },
   {
    "duration": 18,
    "start_time": "2023-01-16T15:20:09.726Z"
   },
   {
    "duration": 6,
    "start_time": "2023-01-16T15:20:12.615Z"
   },
   {
    "duration": 17,
    "start_time": "2023-01-16T15:20:13.515Z"
   },
   {
    "duration": 17,
    "start_time": "2023-01-16T15:20:16.277Z"
   },
   {
    "duration": 23,
    "start_time": "2023-01-16T15:20:17.190Z"
   },
   {
    "duration": 8,
    "start_time": "2023-01-16T15:20:26.279Z"
   },
   {
    "duration": 11,
    "start_time": "2023-01-16T15:20:29.368Z"
   },
   {
    "duration": 9,
    "start_time": "2023-01-16T15:20:30.226Z"
   },
   {
    "duration": 8,
    "start_time": "2023-01-16T15:20:32.873Z"
   },
   {
    "duration": 6,
    "start_time": "2023-01-16T15:20:34.425Z"
   },
   {
    "duration": 13,
    "start_time": "2023-01-16T15:20:40.341Z"
   },
   {
    "duration": 10,
    "start_time": "2023-01-16T15:23:23.619Z"
   },
   {
    "duration": 1015,
    "start_time": "2023-01-16T15:28:27.752Z"
   },
   {
    "duration": 273,
    "start_time": "2023-01-16T15:28:38.889Z"
   },
   {
    "duration": 2906,
    "start_time": "2023-01-16T15:28:48.235Z"
   },
   {
    "duration": 528,
    "start_time": "2023-01-16T15:29:01.606Z"
   },
   {
    "duration": 180,
    "start_time": "2023-01-16T15:29:03.026Z"
   },
   {
    "duration": 1503,
    "start_time": "2023-01-16T15:29:05.958Z"
   },
   {
    "duration": 5305,
    "start_time": "2023-01-16T15:29:12.376Z"
   },
   {
    "duration": 440,
    "start_time": "2023-01-16T15:29:17.682Z"
   },
   {
    "duration": 23762,
    "start_time": "2023-01-16T15:29:26.534Z"
   },
   {
    "duration": 826,
    "start_time": "2023-01-16T15:29:50.299Z"
   },
   {
    "duration": 723,
    "start_time": "2023-01-16T15:29:57.112Z"
   },
   {
    "duration": 313,
    "start_time": "2023-01-16T15:30:10.062Z"
   },
   {
    "duration": 6,
    "start_time": "2023-01-16T15:30:13.510Z"
   },
   {
    "duration": 7,
    "start_time": "2023-01-16T15:30:14.469Z"
   },
   {
    "duration": 18,
    "start_time": "2023-01-16T15:30:15.759Z"
   },
   {
    "duration": 7,
    "start_time": "2023-01-16T15:30:21.039Z"
   },
   {
    "duration": 17,
    "start_time": "2023-01-16T15:30:23.336Z"
   },
   {
    "duration": 15,
    "start_time": "2023-01-16T15:30:39.997Z"
   },
   {
    "duration": 23,
    "start_time": "2023-01-16T15:30:41.704Z"
   },
   {
    "duration": 7,
    "start_time": "2023-01-16T15:30:48.019Z"
   },
   {
    "duration": 9,
    "start_time": "2023-01-16T15:30:50.106Z"
   },
   {
    "duration": 9,
    "start_time": "2023-01-16T15:30:50.965Z"
   },
   {
    "duration": 8,
    "start_time": "2023-01-16T15:30:51.790Z"
   },
   {
    "duration": 7,
    "start_time": "2023-01-16T15:30:54.296Z"
   },
   {
    "duration": 7,
    "start_time": "2023-01-16T15:30:57.292Z"
   },
   {
    "duration": 11,
    "start_time": "2023-01-16T15:31:11.844Z"
   },
   {
    "duration": 4,
    "start_time": "2023-01-16T16:01:28.375Z"
   },
   {
    "duration": 5,
    "start_time": "2023-01-16T16:02:22.852Z"
   },
   {
    "duration": 5,
    "start_time": "2023-01-16T16:03:37.261Z"
   },
   {
    "duration": 4,
    "start_time": "2023-01-16T16:06:05.708Z"
   },
   {
    "duration": 4,
    "start_time": "2023-01-16T16:09:55.749Z"
   },
   {
    "duration": 1560,
    "start_time": "2023-01-16T18:22:51.152Z"
   },
   {
    "duration": 781,
    "start_time": "2023-01-16T18:22:52.714Z"
   },
   {
    "duration": 42,
    "start_time": "2023-01-16T18:22:53.496Z"
   },
   {
    "duration": 31,
    "start_time": "2023-01-16T18:22:53.540Z"
   },
   {
    "duration": 42,
    "start_time": "2023-01-16T18:22:53.573Z"
   },
   {
    "duration": 18,
    "start_time": "2023-01-16T18:22:53.616Z"
   },
   {
    "duration": 9,
    "start_time": "2023-01-16T18:22:53.636Z"
   },
   {
    "duration": 1976,
    "start_time": "2023-01-16T18:22:53.647Z"
   },
   {
    "duration": 40,
    "start_time": "2023-01-16T18:22:55.625Z"
   },
   {
    "duration": 25,
    "start_time": "2023-01-16T18:22:55.667Z"
   },
   {
    "duration": 19,
    "start_time": "2023-01-16T18:22:55.694Z"
   },
   {
    "duration": 984,
    "start_time": "2023-01-16T18:22:55.715Z"
   },
   {
    "duration": 405,
    "start_time": "2023-01-16T18:22:56.704Z"
   },
   {
    "duration": 4,
    "start_time": "2023-01-16T18:22:57.112Z"
   },
   {
    "duration": 7,
    "start_time": "2023-01-16T18:22:57.117Z"
   },
   {
    "duration": 5,
    "start_time": "2023-01-16T18:22:57.125Z"
   },
   {
    "duration": 5,
    "start_time": "2023-01-16T18:22:57.131Z"
   },
   {
    "duration": 93,
    "start_time": "2023-01-16T18:22:57.138Z"
   },
   {
    "duration": 84,
    "start_time": "2023-01-16T18:22:57.233Z"
   },
   {
    "duration": 3,
    "start_time": "2023-01-16T18:22:57.318Z"
   },
   {
    "duration": 13,
    "start_time": "2023-01-16T18:22:57.323Z"
   },
   {
    "duration": 13,
    "start_time": "2023-01-16T18:22:57.337Z"
   },
   {
    "duration": 7,
    "start_time": "2023-01-16T18:22:57.352Z"
   },
   {
    "duration": 4246,
    "start_time": "2023-01-16T18:22:57.360Z"
   },
   {
    "duration": 8,
    "start_time": "2023-01-16T18:23:01.608Z"
   },
   {
    "duration": 2108,
    "start_time": "2023-01-16T18:23:01.617Z"
   },
   {
    "duration": 6,
    "start_time": "2023-01-16T18:23:03.727Z"
   },
   {
    "duration": 93,
    "start_time": "2023-01-16T18:23:03.734Z"
   },
   {
    "duration": 5,
    "start_time": "2023-01-16T18:23:03.829Z"
   },
   {
    "duration": 23,
    "start_time": "2023-01-16T18:23:03.835Z"
   },
   {
    "duration": 128,
    "start_time": "2023-01-16T18:23:03.859Z"
   },
   {
    "duration": 58,
    "start_time": "2023-01-16T18:23:03.989Z"
   },
   {
    "duration": 39,
    "start_time": "2023-01-16T18:23:04.049Z"
   },
   {
    "duration": 29,
    "start_time": "2023-01-16T18:23:04.090Z"
   },
   {
    "duration": 2,
    "start_time": "2023-01-16T18:23:04.121Z"
   },
   {
    "duration": 1035,
    "start_time": "2023-01-16T18:23:04.125Z"
   },
   {
    "duration": 215,
    "start_time": "2023-01-16T18:23:05.162Z"
   },
   {
    "duration": 2860,
    "start_time": "2023-01-16T18:23:05.379Z"
   },
   {
    "duration": 688,
    "start_time": "2023-01-16T18:23:08.242Z"
   },
   {
    "duration": 188,
    "start_time": "2023-01-16T18:23:08.932Z"
   },
   {
    "duration": 1518,
    "start_time": "2023-01-16T18:23:09.124Z"
   },
   {
    "duration": 5237,
    "start_time": "2023-01-16T18:23:10.644Z"
   },
   {
    "duration": 412,
    "start_time": "2023-01-16T18:23:15.882Z"
   },
   {
    "duration": 23401,
    "start_time": "2023-01-16T18:23:16.296Z"
   },
   {
    "duration": 840,
    "start_time": "2023-01-16T18:23:39.698Z"
   },
   {
    "duration": 0,
    "start_time": "2023-01-16T18:23:40.539Z"
   },
   {
    "duration": 0,
    "start_time": "2023-01-16T18:23:40.541Z"
   },
   {
    "duration": 0,
    "start_time": "2023-01-16T18:23:40.542Z"
   },
   {
    "duration": 0,
    "start_time": "2023-01-16T18:23:40.543Z"
   },
   {
    "duration": 0,
    "start_time": "2023-01-16T18:23:40.544Z"
   },
   {
    "duration": 0,
    "start_time": "2023-01-16T18:23:40.545Z"
   },
   {
    "duration": 0,
    "start_time": "2023-01-16T18:23:40.546Z"
   },
   {
    "duration": 0,
    "start_time": "2023-01-16T18:23:40.547Z"
   },
   {
    "duration": 0,
    "start_time": "2023-01-16T18:23:40.548Z"
   },
   {
    "duration": 1,
    "start_time": "2023-01-16T18:23:40.549Z"
   },
   {
    "duration": 0,
    "start_time": "2023-01-16T18:23:40.551Z"
   },
   {
    "duration": 0,
    "start_time": "2023-01-16T18:23:40.552Z"
   },
   {
    "duration": 0,
    "start_time": "2023-01-16T18:23:40.553Z"
   },
   {
    "duration": 0,
    "start_time": "2023-01-16T18:23:40.554Z"
   },
   {
    "duration": 0,
    "start_time": "2023-01-16T18:23:40.555Z"
   },
   {
    "duration": 0,
    "start_time": "2023-01-16T18:23:40.556Z"
   },
   {
    "duration": 0,
    "start_time": "2023-01-16T18:23:40.558Z"
   },
   {
    "duration": 51,
    "start_time": "2023-01-17T14:04:58.766Z"
   },
   {
    "duration": 1670,
    "start_time": "2023-01-17T14:05:10.115Z"
   },
   {
    "duration": 940,
    "start_time": "2023-01-17T14:05:11.787Z"
   },
   {
    "duration": 65,
    "start_time": "2023-01-17T14:05:14.641Z"
   },
   {
    "duration": 35,
    "start_time": "2023-01-17T14:05:15.606Z"
   },
   {
    "duration": 29,
    "start_time": "2023-01-17T14:05:16.763Z"
   },
   {
    "duration": 16,
    "start_time": "2023-01-17T14:05:18.034Z"
   },
   {
    "duration": 7,
    "start_time": "2023-01-17T14:05:19.181Z"
   },
   {
    "duration": 2337,
    "start_time": "2023-01-17T14:05:23.399Z"
   },
   {
    "duration": 50,
    "start_time": "2023-01-17T14:05:31.303Z"
   },
   {
    "duration": 35,
    "start_time": "2023-01-17T14:05:35.218Z"
   },
   {
    "duration": 11,
    "start_time": "2023-01-17T14:05:40.015Z"
   },
   {
    "duration": 905,
    "start_time": "2023-01-17T14:05:42.209Z"
   },
   {
    "duration": 458,
    "start_time": "2023-01-17T14:05:43.116Z"
   },
   {
    "duration": 5,
    "start_time": "2023-01-17T14:05:43.576Z"
   },
   {
    "duration": 41,
    "start_time": "2023-01-17T14:05:43.582Z"
   },
   {
    "duration": 5,
    "start_time": "2023-01-17T14:06:07.819Z"
   },
   {
    "duration": 5,
    "start_time": "2023-01-17T14:06:08.485Z"
   },
   {
    "duration": 79,
    "start_time": "2023-01-17T14:06:09.071Z"
   },
   {
    "duration": 83,
    "start_time": "2023-01-17T14:09:50.171Z"
   },
   {
    "duration": 12,
    "start_time": "2023-01-17T14:10:06.512Z"
   },
   {
    "duration": 54,
    "start_time": "2023-01-17T14:12:17.681Z"
   },
   {
    "duration": 84,
    "start_time": "2023-01-17T14:12:36.827Z"
   },
   {
    "duration": 82,
    "start_time": "2023-01-17T14:12:47.535Z"
   },
   {
    "duration": 57,
    "start_time": "2023-01-17T14:13:16.444Z"
   },
   {
    "duration": 86,
    "start_time": "2023-01-17T14:13:23.311Z"
   },
   {
    "duration": 8,
    "start_time": "2023-01-17T14:17:24.724Z"
   },
   {
    "duration": 77,
    "start_time": "2023-01-17T14:17:30.738Z"
   },
   {
    "duration": 7,
    "start_time": "2023-01-17T14:18:04.125Z"
   },
   {
    "duration": 80,
    "start_time": "2023-01-17T14:18:05.297Z"
   },
   {
    "duration": 77,
    "start_time": "2023-01-17T14:18:09.472Z"
   },
   {
    "duration": 4,
    "start_time": "2023-01-17T14:18:24.253Z"
   },
   {
    "duration": 4,
    "start_time": "2023-01-17T14:18:25.417Z"
   },
   {
    "duration": 4,
    "start_time": "2023-01-17T14:18:27.290Z"
   },
   {
    "duration": 4,
    "start_time": "2023-01-17T14:18:27.867Z"
   },
   {
    "duration": 4610,
    "start_time": "2023-01-17T14:18:31.395Z"
   },
   {
    "duration": 8,
    "start_time": "2023-01-17T14:18:37.433Z"
   },
   {
    "duration": 2210,
    "start_time": "2023-01-17T14:18:46.244Z"
   },
   {
    "duration": 6,
    "start_time": "2023-01-17T14:18:48.457Z"
   },
   {
    "duration": 16,
    "start_time": "2023-01-17T14:18:56.160Z"
   },
   {
    "duration": 4,
    "start_time": "2023-01-17T14:19:01.293Z"
   },
   {
    "duration": 3,
    "start_time": "2023-01-17T14:19:20.299Z"
   },
   {
    "duration": 23,
    "start_time": "2023-01-17T14:19:26.819Z"
   },
   {
    "duration": 132,
    "start_time": "2023-01-17T14:19:28.168Z"
   },
   {
    "duration": 57,
    "start_time": "2023-01-17T14:19:29.332Z"
   },
   {
    "duration": 41,
    "start_time": "2023-01-17T14:19:32.734Z"
   },
   {
    "duration": 21,
    "start_time": "2023-01-17T14:19:33.736Z"
   },
   {
    "duration": 2,
    "start_time": "2023-01-17T14:19:35.445Z"
   },
   {
    "duration": 1005,
    "start_time": "2023-01-17T14:19:40.919Z"
   },
   {
    "duration": 826,
    "start_time": "2023-01-17T14:20:18.203Z"
   },
   {
    "duration": 1146,
    "start_time": "2023-01-17T14:23:09.129Z"
   },
   {
    "duration": 814,
    "start_time": "2023-01-17T14:35:18.642Z"
   },
   {
    "duration": 812,
    "start_time": "2023-01-17T14:36:01.901Z"
   },
   {
    "duration": 0,
    "start_time": "2023-01-17T14:40:45.292Z"
   },
   {
    "duration": 96107,
    "start_time": "2023-01-17T14:41:18.291Z"
   },
   {
    "duration": 99724,
    "start_time": "2023-01-17T14:43:27.999Z"
   },
   {
    "duration": 263,
    "start_time": "2023-01-17T14:45:33.931Z"
   },
   {
    "duration": 3193,
    "start_time": "2023-01-17T14:46:12.036Z"
   },
   {
    "duration": 577,
    "start_time": "2023-01-17T14:46:31.678Z"
   },
   {
    "duration": 165,
    "start_time": "2023-01-17T14:46:32.871Z"
   },
   {
    "duration": 1606,
    "start_time": "2023-01-17T14:47:27.616Z"
   },
   {
    "duration": 5694,
    "start_time": "2023-01-17T14:47:47.728Z"
   },
   {
    "duration": 481,
    "start_time": "2023-01-17T14:48:03.345Z"
   },
   {
    "duration": 26183,
    "start_time": "2023-01-17T14:48:13.670Z"
   },
   {
    "duration": 937,
    "start_time": "2023-01-17T14:54:52.740Z"
   },
   {
    "duration": 835,
    "start_time": "2023-01-17T14:55:34.834Z"
   },
   {
    "duration": 323,
    "start_time": "2023-01-17T14:57:12.279Z"
   },
   {
    "duration": 6,
    "start_time": "2023-01-17T14:57:13.148Z"
   },
   {
    "duration": 8,
    "start_time": "2023-01-17T14:57:19.702Z"
   },
   {
    "duration": 19,
    "start_time": "2023-01-17T14:57:20.471Z"
   },
   {
    "duration": 6,
    "start_time": "2023-01-17T14:57:21.264Z"
   },
   {
    "duration": 18,
    "start_time": "2023-01-17T14:57:26.942Z"
   },
   {
    "duration": 15,
    "start_time": "2023-01-17T14:57:27.721Z"
   },
   {
    "duration": 22,
    "start_time": "2023-01-17T14:57:29.045Z"
   },
   {
    "duration": 7,
    "start_time": "2023-01-17T14:57:33.587Z"
   },
   {
    "duration": 10,
    "start_time": "2023-01-17T14:57:34.251Z"
   },
   {
    "duration": 8,
    "start_time": "2023-01-17T14:57:36.086Z"
   },
   {
    "duration": 7,
    "start_time": "2023-01-17T14:57:37.973Z"
   },
   {
    "duration": 6,
    "start_time": "2023-01-17T14:57:41.618Z"
   },
   {
    "duration": 7,
    "start_time": "2023-01-17T14:57:42.283Z"
   },
   {
    "duration": 11,
    "start_time": "2023-01-17T14:59:17.405Z"
   },
   {
    "duration": 2083,
    "start_time": "2023-01-17T16:17:38.690Z"
   },
   {
    "duration": 594,
    "start_time": "2023-01-17T16:17:40.776Z"
   },
   {
    "duration": 55,
    "start_time": "2023-01-17T16:17:41.372Z"
   },
   {
    "duration": 53,
    "start_time": "2023-01-17T16:17:41.430Z"
   },
   {
    "duration": 32,
    "start_time": "2023-01-17T16:17:41.486Z"
   },
   {
    "duration": 44,
    "start_time": "2023-01-17T16:17:41.520Z"
   },
   {
    "duration": 7,
    "start_time": "2023-01-17T16:17:41.566Z"
   },
   {
    "duration": 2448,
    "start_time": "2023-01-17T16:17:41.575Z"
   },
   {
    "duration": 61,
    "start_time": "2023-01-17T16:17:44.025Z"
   },
   {
    "duration": 33,
    "start_time": "2023-01-17T16:17:44.088Z"
   },
   {
    "duration": 42,
    "start_time": "2023-01-17T16:17:44.124Z"
   },
   {
    "duration": 1127,
    "start_time": "2023-01-17T16:17:44.169Z"
   },
   {
    "duration": 488,
    "start_time": "2023-01-17T16:17:45.298Z"
   },
   {
    "duration": 9,
    "start_time": "2023-01-17T16:17:45.790Z"
   },
   {
    "duration": 31,
    "start_time": "2023-01-17T16:17:45.801Z"
   },
   {
    "duration": 137,
    "start_time": "2023-01-17T16:17:45.834Z"
   },
   {
    "duration": 96,
    "start_time": "2023-01-17T16:17:45.973Z"
   },
   {
    "duration": 4,
    "start_time": "2023-01-17T16:17:46.071Z"
   },
   {
    "duration": 55,
    "start_time": "2023-01-17T16:17:46.077Z"
   },
   {
    "duration": 65,
    "start_time": "2023-01-17T16:17:46.134Z"
   },
   {
    "duration": 64,
    "start_time": "2023-01-17T16:17:46.201Z"
   },
   {
    "duration": 5184,
    "start_time": "2023-01-17T16:17:46.267Z"
   },
   {
    "duration": 9,
    "start_time": "2023-01-17T16:17:51.453Z"
   },
   {
    "duration": 2405,
    "start_time": "2023-01-17T16:17:51.464Z"
   },
   {
    "duration": 8,
    "start_time": "2023-01-17T16:17:53.871Z"
   },
   {
    "duration": 37,
    "start_time": "2023-01-17T16:17:53.881Z"
   },
   {
    "duration": 31,
    "start_time": "2023-01-17T16:17:53.920Z"
   },
   {
    "duration": 43,
    "start_time": "2023-01-17T16:17:53.953Z"
   },
   {
    "duration": 161,
    "start_time": "2023-01-17T16:17:53.998Z"
   },
   {
    "duration": 69,
    "start_time": "2023-01-17T16:17:54.161Z"
   },
   {
    "duration": 60,
    "start_time": "2023-01-17T16:17:54.232Z"
   },
   {
    "duration": 21,
    "start_time": "2023-01-17T16:17:54.294Z"
   },
   {
    "duration": 16,
    "start_time": "2023-01-17T16:17:54.317Z"
   },
   {
    "duration": 95231,
    "start_time": "2023-01-17T16:17:54.335Z"
   },
   {
    "duration": 259,
    "start_time": "2023-01-17T16:19:29.654Z"
   },
   {
    "duration": 0,
    "start_time": "2023-01-17T16:19:29.917Z"
   },
   {
    "duration": 0,
    "start_time": "2023-01-17T16:19:29.919Z"
   },
   {
    "duration": 0,
    "start_time": "2023-01-17T16:19:29.920Z"
   },
   {
    "duration": 0,
    "start_time": "2023-01-17T16:19:29.922Z"
   },
   {
    "duration": 0,
    "start_time": "2023-01-17T16:19:29.924Z"
   },
   {
    "duration": 0,
    "start_time": "2023-01-17T16:19:29.926Z"
   },
   {
    "duration": 0,
    "start_time": "2023-01-17T16:19:29.927Z"
   },
   {
    "duration": 0,
    "start_time": "2023-01-17T16:19:29.951Z"
   },
   {
    "duration": 0,
    "start_time": "2023-01-17T16:19:29.952Z"
   },
   {
    "duration": 0,
    "start_time": "2023-01-17T16:19:29.954Z"
   },
   {
    "duration": 0,
    "start_time": "2023-01-17T16:19:29.955Z"
   },
   {
    "duration": 0,
    "start_time": "2023-01-17T16:19:29.957Z"
   },
   {
    "duration": 0,
    "start_time": "2023-01-17T16:19:29.958Z"
   },
   {
    "duration": 0,
    "start_time": "2023-01-17T16:19:29.960Z"
   },
   {
    "duration": 0,
    "start_time": "2023-01-17T16:19:29.961Z"
   },
   {
    "duration": 0,
    "start_time": "2023-01-17T16:19:29.963Z"
   },
   {
    "duration": 0,
    "start_time": "2023-01-17T16:19:29.965Z"
   },
   {
    "duration": 0,
    "start_time": "2023-01-17T16:19:29.967Z"
   },
   {
    "duration": 0,
    "start_time": "2023-01-17T16:19:29.969Z"
   },
   {
    "duration": 0,
    "start_time": "2023-01-17T16:19:29.971Z"
   },
   {
    "duration": 0,
    "start_time": "2023-01-17T16:19:29.972Z"
   },
   {
    "duration": 0,
    "start_time": "2023-01-17T16:19:29.974Z"
   },
   {
    "duration": 0,
    "start_time": "2023-01-17T16:19:29.975Z"
   },
   {
    "duration": 1621,
    "start_time": "2023-01-18T15:32:56.334Z"
   },
   {
    "duration": 945,
    "start_time": "2023-01-18T15:32:57.957Z"
   },
   {
    "duration": 46,
    "start_time": "2023-01-18T15:33:00.694Z"
   },
   {
    "duration": 40,
    "start_time": "2023-01-18T15:33:01.297Z"
   },
   {
    "duration": 27,
    "start_time": "2023-01-18T15:33:01.735Z"
   },
   {
    "duration": 17,
    "start_time": "2023-01-18T15:33:02.204Z"
   },
   {
    "duration": 6,
    "start_time": "2023-01-18T15:33:02.730Z"
   },
   {
    "duration": 2008,
    "start_time": "2023-01-18T15:33:03.983Z"
   },
   {
    "duration": 42,
    "start_time": "2023-01-18T15:33:05.993Z"
   },
   {
    "duration": 29,
    "start_time": "2023-01-18T15:33:07.271Z"
   },
   {
    "duration": 10,
    "start_time": "2023-01-18T15:33:11.896Z"
   },
   {
    "duration": 901,
    "start_time": "2023-01-18T15:33:13.319Z"
   },
   {
    "duration": 447,
    "start_time": "2023-01-18T15:33:14.222Z"
   },
   {
    "duration": 8,
    "start_time": "2023-01-18T15:33:14.672Z"
   },
   {
    "duration": 9,
    "start_time": "2023-01-18T15:33:15.241Z"
   },
   {
    "duration": 82,
    "start_time": "2023-01-18T15:33:15.838Z"
   },
   {
    "duration": 5,
    "start_time": "2023-01-18T15:33:46.345Z"
   },
   {
    "duration": 78,
    "start_time": "2023-01-18T15:33:57.260Z"
   },
   {
    "duration": 4,
    "start_time": "2023-01-18T15:35:23.990Z"
   },
   {
    "duration": 4,
    "start_time": "2023-01-18T15:35:24.463Z"
   },
   {
    "duration": 4,
    "start_time": "2023-01-18T15:35:26.172Z"
   },
   {
    "duration": 4,
    "start_time": "2023-01-18T15:35:27.222Z"
   },
   {
    "duration": 4497,
    "start_time": "2023-01-18T15:35:30.401Z"
   },
   {
    "duration": 8,
    "start_time": "2023-01-18T15:36:22.887Z"
   },
   {
    "duration": 2150,
    "start_time": "2023-01-18T15:36:45.647Z"
   },
   {
    "duration": 7,
    "start_time": "2023-01-18T15:36:47.799Z"
   },
   {
    "duration": 16,
    "start_time": "2023-01-18T15:36:57.002Z"
   },
   {
    "duration": 4,
    "start_time": "2023-01-18T15:36:58.463Z"
   },
   {
    "duration": 21,
    "start_time": "2023-01-18T15:37:02.167Z"
   },
   {
    "duration": 132,
    "start_time": "2023-01-18T15:37:03.545Z"
   },
   {
    "duration": 58,
    "start_time": "2023-01-18T15:37:04.171Z"
   },
   {
    "duration": 44,
    "start_time": "2023-01-18T15:37:06.603Z"
   },
   {
    "duration": 19,
    "start_time": "2023-01-18T15:37:07.168Z"
   },
   {
    "duration": 3,
    "start_time": "2023-01-18T15:37:08.085Z"
   },
   {
    "duration": 82638,
    "start_time": "2023-01-18T15:37:12.017Z"
   },
   {
    "duration": 354,
    "start_time": "2023-01-18T15:38:34.657Z"
   },
   {
    "duration": 76739,
    "start_time": "2023-01-18T15:39:02.098Z"
   },
   {
    "duration": 356,
    "start_time": "2023-01-18T15:40:18.839Z"
   },
   {
    "duration": 337644,
    "start_time": "2023-01-18T15:40:19.196Z"
   },
   {
    "duration": 355,
    "start_time": "2023-01-18T15:45:56.842Z"
   },
   {
    "duration": 576,
    "start_time": "2023-01-18T15:45:57.199Z"
   },
   {
    "duration": 173,
    "start_time": "2023-01-18T15:45:57.777Z"
   },
   {
    "duration": 1588,
    "start_time": "2023-01-18T15:45:57.952Z"
   },
   {
    "duration": 5821,
    "start_time": "2023-01-18T15:45:59.542Z"
   },
   {
    "duration": 434,
    "start_time": "2023-01-18T15:46:05.365Z"
   },
   {
    "duration": 25306,
    "start_time": "2023-01-18T15:46:05.801Z"
   },
   {
    "duration": 944,
    "start_time": "2023-01-18T15:46:31.109Z"
   },
   {
    "duration": 720,
    "start_time": "2023-01-18T15:46:32.054Z"
   },
   {
    "duration": 340,
    "start_time": "2023-01-18T15:46:32.776Z"
   },
   {
    "duration": 5,
    "start_time": "2023-01-18T15:46:33.117Z"
   },
   {
    "duration": 17,
    "start_time": "2023-01-18T15:46:33.124Z"
   },
   {
    "duration": 17,
    "start_time": "2023-01-18T15:46:33.143Z"
   },
   {
    "duration": 5,
    "start_time": "2023-01-18T15:46:33.161Z"
   },
   {
    "duration": 20,
    "start_time": "2023-01-18T15:46:33.167Z"
   },
   {
    "duration": 13,
    "start_time": "2023-01-18T15:46:33.189Z"
   },
   {
    "duration": 52,
    "start_time": "2023-01-18T15:46:33.205Z"
   },
   {
    "duration": 6,
    "start_time": "2023-01-18T15:46:33.259Z"
   },
   {
    "duration": 11,
    "start_time": "2023-01-18T15:46:33.267Z"
   },
   {
    "duration": 14,
    "start_time": "2023-01-18T15:46:33.280Z"
   },
   {
    "duration": 8,
    "start_time": "2023-01-18T15:46:33.296Z"
   },
   {
    "duration": 34,
    "start_time": "2023-01-18T15:46:33.306Z"
   },
   {
    "duration": 14,
    "start_time": "2023-01-18T15:46:33.341Z"
   },
   {
    "duration": 12,
    "start_time": "2023-01-18T15:52:16.208Z"
   },
   {
    "duration": 27,
    "start_time": "2023-01-18T15:52:32.783Z"
   },
   {
    "duration": 190291,
    "start_time": "2023-01-18T15:52:38.849Z"
   },
   {
    "duration": 1815,
    "start_time": "2023-01-18T18:00:50.410Z"
   },
   {
    "duration": 616,
    "start_time": "2023-01-18T18:00:52.228Z"
   },
   {
    "duration": 43,
    "start_time": "2023-01-18T18:00:52.846Z"
   },
   {
    "duration": 37,
    "start_time": "2023-01-18T18:00:52.890Z"
   },
   {
    "duration": 25,
    "start_time": "2023-01-18T18:00:52.929Z"
   },
   {
    "duration": 18,
    "start_time": "2023-01-18T18:00:52.956Z"
   },
   {
    "duration": 23,
    "start_time": "2023-01-18T18:00:52.975Z"
   },
   {
    "duration": 2029,
    "start_time": "2023-01-18T18:00:53.000Z"
   },
   {
    "duration": 40,
    "start_time": "2023-01-18T18:00:55.031Z"
   },
   {
    "duration": 26,
    "start_time": "2023-01-18T18:00:55.073Z"
   },
   {
    "duration": 15,
    "start_time": "2023-01-18T18:00:55.101Z"
   },
   {
    "duration": 817,
    "start_time": "2023-01-18T18:00:55.118Z"
   },
   {
    "duration": 382,
    "start_time": "2023-01-18T18:00:55.937Z"
   },
   {
    "duration": 7,
    "start_time": "2023-01-18T18:00:56.322Z"
   },
   {
    "duration": 14,
    "start_time": "2023-01-18T18:00:56.330Z"
   },
   {
    "duration": 96,
    "start_time": "2023-01-18T18:00:56.346Z"
   },
   {
    "duration": 5,
    "start_time": "2023-01-18T18:00:56.443Z"
   },
   {
    "duration": 82,
    "start_time": "2023-01-18T18:00:56.450Z"
   },
   {
    "duration": 4,
    "start_time": "2023-01-18T18:00:56.533Z"
   },
   {
    "duration": 10,
    "start_time": "2023-01-18T18:00:56.538Z"
   },
   {
    "duration": 7,
    "start_time": "2023-01-18T18:00:56.550Z"
   },
   {
    "duration": 11,
    "start_time": "2023-01-18T18:00:56.559Z"
   },
   {
    "duration": 4380,
    "start_time": "2023-01-18T18:00:56.572Z"
   },
   {
    "duration": 6,
    "start_time": "2023-01-18T18:01:00.954Z"
   },
   {
    "duration": 2215,
    "start_time": "2023-01-18T18:01:00.962Z"
   },
   {
    "duration": 7,
    "start_time": "2023-01-18T18:01:03.179Z"
   },
   {
    "duration": 33,
    "start_time": "2023-01-18T18:01:03.188Z"
   },
   {
    "duration": 17,
    "start_time": "2023-01-18T18:01:03.223Z"
   },
   {
    "duration": 25,
    "start_time": "2023-01-18T18:01:03.241Z"
   },
   {
    "duration": 128,
    "start_time": "2023-01-18T18:01:03.268Z"
   },
   {
    "duration": 51,
    "start_time": "2023-01-18T18:01:03.399Z"
   },
   {
    "duration": 33,
    "start_time": "2023-01-18T18:01:03.452Z"
   },
   {
    "duration": 19,
    "start_time": "2023-01-18T18:01:03.498Z"
   },
   {
    "duration": 2,
    "start_time": "2023-01-18T18:01:03.519Z"
   },
   {
    "duration": 70360,
    "start_time": "2023-01-18T18:01:03.523Z"
   },
   {
    "duration": 0,
    "start_time": "2023-01-18T18:02:13.886Z"
   },
   {
    "duration": 0,
    "start_time": "2023-01-18T18:02:13.898Z"
   },
   {
    "duration": 0,
    "start_time": "2023-01-18T18:02:13.900Z"
   },
   {
    "duration": 0,
    "start_time": "2023-01-18T18:02:13.901Z"
   },
   {
    "duration": 0,
    "start_time": "2023-01-18T18:02:13.903Z"
   },
   {
    "duration": 0,
    "start_time": "2023-01-18T18:02:13.904Z"
   },
   {
    "duration": 0,
    "start_time": "2023-01-18T18:02:13.905Z"
   },
   {
    "duration": 0,
    "start_time": "2023-01-18T18:02:13.906Z"
   },
   {
    "duration": 1,
    "start_time": "2023-01-18T18:02:13.907Z"
   },
   {
    "duration": 0,
    "start_time": "2023-01-18T18:02:13.908Z"
   },
   {
    "duration": 0,
    "start_time": "2023-01-18T18:02:13.910Z"
   },
   {
    "duration": 0,
    "start_time": "2023-01-18T18:02:13.911Z"
   },
   {
    "duration": 0,
    "start_time": "2023-01-18T18:02:13.912Z"
   },
   {
    "duration": 0,
    "start_time": "2023-01-18T18:02:13.913Z"
   },
   {
    "duration": 0,
    "start_time": "2023-01-18T18:02:13.915Z"
   },
   {
    "duration": 0,
    "start_time": "2023-01-18T18:02:13.916Z"
   },
   {
    "duration": 0,
    "start_time": "2023-01-18T18:02:13.918Z"
   },
   {
    "duration": 0,
    "start_time": "2023-01-18T18:02:13.920Z"
   },
   {
    "duration": 0,
    "start_time": "2023-01-18T18:02:13.921Z"
   },
   {
    "duration": 0,
    "start_time": "2023-01-18T18:02:13.922Z"
   },
   {
    "duration": 0,
    "start_time": "2023-01-18T18:02:13.924Z"
   },
   {
    "duration": 0,
    "start_time": "2023-01-18T18:02:13.925Z"
   },
   {
    "duration": 0,
    "start_time": "2023-01-18T18:02:13.927Z"
   },
   {
    "duration": 0,
    "start_time": "2023-01-18T18:02:13.928Z"
   },
   {
    "duration": 72664,
    "start_time": "2023-01-18T18:09:01.040Z"
   },
   {
    "duration": 384,
    "start_time": "2023-01-18T18:10:13.706Z"
   },
   {
    "duration": 1790,
    "start_time": "2023-01-18T18:41:31.776Z"
   },
   {
    "duration": 937,
    "start_time": "2023-01-18T18:41:33.569Z"
   },
   {
    "duration": 45,
    "start_time": "2023-01-18T18:41:34.508Z"
   },
   {
    "duration": 34,
    "start_time": "2023-01-18T18:41:34.555Z"
   },
   {
    "duration": 52,
    "start_time": "2023-01-18T18:41:34.591Z"
   },
   {
    "duration": 16,
    "start_time": "2023-01-18T18:41:34.645Z"
   },
   {
    "duration": 19,
    "start_time": "2023-01-18T18:41:34.663Z"
   },
   {
    "duration": 2091,
    "start_time": "2023-01-18T18:41:34.684Z"
   },
   {
    "duration": 52,
    "start_time": "2023-01-18T18:41:36.777Z"
   },
   {
    "duration": 34,
    "start_time": "2023-01-18T18:41:36.832Z"
   },
   {
    "duration": 19,
    "start_time": "2023-01-18T18:41:36.869Z"
   },
   {
    "duration": 897,
    "start_time": "2023-01-18T18:41:36.889Z"
   },
   {
    "duration": 470,
    "start_time": "2023-01-18T18:41:37.788Z"
   },
   {
    "duration": 9,
    "start_time": "2023-01-18T18:41:38.260Z"
   },
   {
    "duration": 23,
    "start_time": "2023-01-18T18:41:38.271Z"
   },
   {
    "duration": 96,
    "start_time": "2023-01-18T18:41:38.296Z"
   },
   {
    "duration": 5,
    "start_time": "2023-01-18T18:41:38.394Z"
   },
   {
    "duration": 81,
    "start_time": "2023-01-18T18:41:38.401Z"
   },
   {
    "duration": 4,
    "start_time": "2023-01-18T18:41:38.484Z"
   },
   {
    "duration": 17,
    "start_time": "2023-01-18T18:41:38.489Z"
   },
   {
    "duration": 12,
    "start_time": "2023-01-18T18:41:38.508Z"
   },
   {
    "duration": 14,
    "start_time": "2023-01-18T18:41:38.522Z"
   },
   {
    "duration": 4754,
    "start_time": "2023-01-18T18:41:38.538Z"
   },
   {
    "duration": 7,
    "start_time": "2023-01-18T18:41:43.294Z"
   },
   {
    "duration": 2337,
    "start_time": "2023-01-18T18:41:43.303Z"
   },
   {
    "duration": 7,
    "start_time": "2023-01-18T18:41:45.642Z"
   },
   {
    "duration": 37,
    "start_time": "2023-01-18T18:41:45.650Z"
   },
   {
    "duration": 13,
    "start_time": "2023-01-18T18:41:45.691Z"
   },
   {
    "duration": 35,
    "start_time": "2023-01-18T18:41:45.706Z"
   },
   {
    "duration": 144,
    "start_time": "2023-01-18T18:41:45.743Z"
   },
   {
    "duration": 68,
    "start_time": "2023-01-18T18:41:45.889Z"
   },
   {
    "duration": 37,
    "start_time": "2023-01-18T18:41:45.958Z"
   },
   {
    "duration": 19,
    "start_time": "2023-01-18T18:41:45.997Z"
   },
   {
    "duration": 3,
    "start_time": "2023-01-18T18:41:46.018Z"
   },
   {
    "duration": 100705,
    "start_time": "2023-01-18T18:41:46.037Z"
   },
   {
    "duration": 352,
    "start_time": "2023-01-18T18:43:26.747Z"
   },
   {
    "duration": 1558,
    "start_time": "2023-01-18T18:43:33.314Z"
   },
   {
    "duration": 233,
    "start_time": "2023-01-18T18:43:34.875Z"
   },
   {
    "duration": 54,
    "start_time": "2023-01-18T18:43:35.110Z"
   },
   {
    "duration": 33,
    "start_time": "2023-01-18T18:43:35.166Z"
   },
   {
    "duration": 48,
    "start_time": "2023-01-18T18:43:35.201Z"
   },
   {
    "duration": 17,
    "start_time": "2023-01-18T18:43:35.250Z"
   },
   {
    "duration": 15,
    "start_time": "2023-01-18T18:43:35.268Z"
   },
   {
    "duration": 2083,
    "start_time": "2023-01-18T18:43:35.285Z"
   },
   {
    "duration": 56,
    "start_time": "2023-01-18T18:43:37.370Z"
   },
   {
    "duration": 39,
    "start_time": "2023-01-18T18:43:37.428Z"
   },
   {
    "duration": 13,
    "start_time": "2023-01-18T18:43:37.469Z"
   },
   {
    "duration": 904,
    "start_time": "2023-01-18T18:43:37.484Z"
   },
   {
    "duration": 420,
    "start_time": "2023-01-18T18:43:38.390Z"
   },
   {
    "duration": 8,
    "start_time": "2023-01-18T18:43:38.813Z"
   },
   {
    "duration": 39,
    "start_time": "2023-01-18T18:43:38.822Z"
   },
   {
    "duration": 89,
    "start_time": "2023-01-18T18:43:38.863Z"
   },
   {
    "duration": 5,
    "start_time": "2023-01-18T18:43:38.954Z"
   },
   {
    "duration": 32,
    "start_time": "2023-01-18T18:43:38.960Z"
   },
   {
    "duration": 23,
    "start_time": "2023-01-18T18:43:38.994Z"
   },
   {
    "duration": 24,
    "start_time": "2023-01-18T18:43:39.018Z"
   },
   {
    "duration": 21,
    "start_time": "2023-01-18T18:43:39.044Z"
   },
   {
    "duration": 17,
    "start_time": "2023-01-18T18:43:39.067Z"
   },
   {
    "duration": 4390,
    "start_time": "2023-01-18T18:43:39.085Z"
   },
   {
    "duration": 7,
    "start_time": "2023-01-18T18:43:43.476Z"
   },
   {
    "duration": 2268,
    "start_time": "2023-01-18T18:43:43.485Z"
   },
   {
    "duration": 7,
    "start_time": "2023-01-18T18:43:45.755Z"
   },
   {
    "duration": 49,
    "start_time": "2023-01-18T18:43:45.764Z"
   },
   {
    "duration": 20,
    "start_time": "2023-01-18T18:43:45.815Z"
   },
   {
    "duration": 45,
    "start_time": "2023-01-18T18:43:45.837Z"
   },
   {
    "duration": 141,
    "start_time": "2023-01-18T18:43:45.884Z"
   },
   {
    "duration": 63,
    "start_time": "2023-01-18T18:43:46.027Z"
   },
   {
    "duration": 48,
    "start_time": "2023-01-18T18:43:46.091Z"
   },
   {
    "duration": 20,
    "start_time": "2023-01-18T18:43:46.141Z"
   },
   {
    "duration": 16,
    "start_time": "2023-01-18T18:43:46.162Z"
   },
   {
    "duration": 1501,
    "start_time": "2023-01-18T18:44:02.552Z"
   },
   {
    "duration": 237,
    "start_time": "2023-01-18T18:44:04.056Z"
   },
   {
    "duration": 54,
    "start_time": "2023-01-18T18:44:04.295Z"
   },
   {
    "duration": 35,
    "start_time": "2023-01-18T18:44:04.351Z"
   },
   {
    "duration": 28,
    "start_time": "2023-01-18T18:44:04.388Z"
   },
   {
    "duration": 19,
    "start_time": "2023-01-18T18:44:04.440Z"
   },
   {
    "duration": 15,
    "start_time": "2023-01-18T18:44:04.461Z"
   },
   {
    "duration": 2042,
    "start_time": "2023-01-18T18:44:04.478Z"
   },
   {
    "duration": 50,
    "start_time": "2023-01-18T18:44:06.522Z"
   },
   {
    "duration": 32,
    "start_time": "2023-01-18T18:44:06.574Z"
   },
   {
    "duration": 31,
    "start_time": "2023-01-18T18:44:06.608Z"
   },
   {
    "duration": 911,
    "start_time": "2023-01-18T18:44:06.641Z"
   },
   {
    "duration": 424,
    "start_time": "2023-01-18T18:44:07.554Z"
   },
   {
    "duration": 8,
    "start_time": "2023-01-18T18:44:07.981Z"
   },
   {
    "duration": 13,
    "start_time": "2023-01-18T18:44:07.991Z"
   },
   {
    "duration": 97,
    "start_time": "2023-01-18T18:44:08.006Z"
   },
   {
    "duration": 4,
    "start_time": "2023-01-18T18:44:08.105Z"
   },
   {
    "duration": 17,
    "start_time": "2023-01-18T18:44:08.110Z"
   },
   {
    "duration": 9,
    "start_time": "2023-01-18T18:44:08.137Z"
   },
   {
    "duration": 40,
    "start_time": "2023-01-18T18:44:08.148Z"
   },
   {
    "duration": 20,
    "start_time": "2023-01-18T18:44:08.190Z"
   },
   {
    "duration": 24,
    "start_time": "2023-01-18T18:44:08.211Z"
   },
   {
    "duration": 4552,
    "start_time": "2023-01-18T18:44:08.237Z"
   },
   {
    "duration": 7,
    "start_time": "2023-01-18T18:44:12.792Z"
   },
   {
    "duration": 2266,
    "start_time": "2023-01-18T18:44:12.801Z"
   },
   {
    "duration": 7,
    "start_time": "2023-01-18T18:44:15.069Z"
   },
   {
    "duration": 64,
    "start_time": "2023-01-18T18:44:15.078Z"
   },
   {
    "duration": 19,
    "start_time": "2023-01-18T18:44:15.144Z"
   },
   {
    "duration": 33,
    "start_time": "2023-01-18T18:44:15.164Z"
   },
   {
    "duration": 131,
    "start_time": "2023-01-18T18:44:15.199Z"
   },
   {
    "duration": 62,
    "start_time": "2023-01-18T18:44:15.332Z"
   },
   {
    "duration": 52,
    "start_time": "2023-01-18T18:44:15.396Z"
   },
   {
    "duration": 22,
    "start_time": "2023-01-18T18:44:15.450Z"
   },
   {
    "duration": 12,
    "start_time": "2023-01-18T18:44:15.474Z"
   },
   {
    "duration": 1639,
    "start_time": "2023-01-19T08:53:53.903Z"
   },
   {
    "duration": 546,
    "start_time": "2023-01-19T08:53:55.544Z"
   },
   {
    "duration": 60,
    "start_time": "2023-01-19T08:53:56.093Z"
   },
   {
    "duration": 35,
    "start_time": "2023-01-19T08:53:56.222Z"
   },
   {
    "duration": 44,
    "start_time": "2023-01-19T08:53:56.835Z"
   },
   {
    "duration": 15,
    "start_time": "2023-01-19T08:53:57.466Z"
   },
   {
    "duration": 6,
    "start_time": "2023-01-19T08:53:58.206Z"
   },
   {
    "duration": 2154,
    "start_time": "2023-01-19T08:54:01.938Z"
   },
   {
    "duration": 45,
    "start_time": "2023-01-19T08:54:05.231Z"
   },
   {
    "duration": 27,
    "start_time": "2023-01-19T08:54:05.911Z"
   },
   {
    "duration": 10,
    "start_time": "2023-01-19T08:54:08.467Z"
   },
   {
    "duration": 940,
    "start_time": "2023-01-19T08:54:09.447Z"
   },
   {
    "duration": 531,
    "start_time": "2023-01-19T08:54:10.390Z"
   },
   {
    "duration": 9,
    "start_time": "2023-01-19T08:54:10.923Z"
   },
   {
    "duration": 24,
    "start_time": "2023-01-19T08:54:10.935Z"
   },
   {
    "duration": 140,
    "start_time": "2023-01-19T08:55:26.566Z"
   },
   {
    "duration": 10,
    "start_time": "2023-01-19T08:55:49.367Z"
   },
   {
    "duration": 4,
    "start_time": "2023-01-19T09:50:41.942Z"
   },
   {
    "duration": 6,
    "start_time": "2023-01-19T09:51:14.739Z"
   },
   {
    "duration": 85,
    "start_time": "2023-01-19T09:51:56.882Z"
   },
   {
    "duration": 12,
    "start_time": "2023-01-19T09:52:01.698Z"
   },
   {
    "duration": 1721,
    "start_time": "2023-01-19T10:45:25.569Z"
   },
   {
    "duration": 895,
    "start_time": "2023-01-19T10:45:27.292Z"
   },
   {
    "duration": 54,
    "start_time": "2023-01-19T10:45:28.189Z"
   },
   {
    "duration": 49,
    "start_time": "2023-01-19T10:45:28.245Z"
   },
   {
    "duration": 55,
    "start_time": "2023-01-19T10:45:28.296Z"
   },
   {
    "duration": 22,
    "start_time": "2023-01-19T10:45:33.063Z"
   },
   {
    "duration": 7,
    "start_time": "2023-01-19T10:45:33.544Z"
   },
   {
    "duration": 2150,
    "start_time": "2023-01-19T10:45:35.405Z"
   },
   {
    "duration": 60,
    "start_time": "2023-01-19T10:45:38.460Z"
   },
   {
    "duration": 31,
    "start_time": "2023-01-19T10:45:38.761Z"
   },
   {
    "duration": 12,
    "start_time": "2023-01-19T10:45:41.870Z"
   },
   {
    "duration": 907,
    "start_time": "2023-01-19T10:45:42.949Z"
   },
   {
    "duration": 456,
    "start_time": "2023-01-19T10:45:43.858Z"
   },
   {
    "duration": 9,
    "start_time": "2023-01-19T10:45:44.316Z"
   },
   {
    "duration": 11,
    "start_time": "2023-01-19T10:45:44.335Z"
   },
   {
    "duration": 89,
    "start_time": "2023-01-19T10:45:44.635Z"
   },
   {
    "duration": 94,
    "start_time": "2023-01-19T10:45:49.236Z"
   },
   {
    "duration": 32,
    "start_time": "2023-01-19T10:45:49.708Z"
   },
   {
    "duration": 3,
    "start_time": "2023-01-19T10:45:55.146Z"
   },
   {
    "duration": 3,
    "start_time": "2023-01-19T10:45:56.050Z"
   },
   {
    "duration": 4,
    "start_time": "2023-01-19T10:45:56.702Z"
   },
   {
    "duration": 6,
    "start_time": "2023-01-19T10:45:57.012Z"
   },
   {
    "duration": 4829,
    "start_time": "2023-01-19T10:45:57.871Z"
   },
   {
    "duration": 8,
    "start_time": "2023-01-19T10:46:04.082Z"
   },
   {
    "duration": 2511,
    "start_time": "2023-01-19T10:46:07.676Z"
   },
   {
    "duration": 7,
    "start_time": "2023-01-19T10:46:10.189Z"
   },
   {
    "duration": 143,
    "start_time": "2023-01-19T11:00:15.334Z"
   },
   {
    "duration": 12,
    "start_time": "2023-01-19T11:00:22.014Z"
   },
   {
    "duration": 15,
    "start_time": "2023-01-19T11:00:26.637Z"
   },
   {
    "duration": 25,
    "start_time": "2023-01-19T11:00:37.384Z"
   },
   {
    "duration": 4,
    "start_time": "2023-01-19T11:00:38.789Z"
   },
   {
    "duration": 33,
    "start_time": "2023-01-19T11:00:41.803Z"
   },
   {
    "duration": 144,
    "start_time": "2023-01-19T11:00:42.464Z"
   },
   {
    "duration": 66,
    "start_time": "2023-01-19T11:00:43.462Z"
   },
   {
    "duration": 41,
    "start_time": "2023-01-19T11:00:44.403Z"
   },
   {
    "duration": 16,
    "start_time": "2023-01-19T11:00:45.216Z"
   },
   {
    "duration": 2,
    "start_time": "2023-01-19T11:00:45.831Z"
   },
   {
    "duration": 338,
    "start_time": "2023-01-19T11:00:49.438Z"
   },
   {
    "duration": 17,
    "start_time": "2023-01-19T11:01:45.547Z"
   },
   {
    "duration": 6,
    "start_time": "2023-01-19T11:02:00.652Z"
   },
   {
    "duration": 261,
    "start_time": "2023-01-19T11:02:01.178Z"
   },
   {
    "duration": 41,
    "start_time": "2023-01-19T11:02:04.190Z"
   },
   {
    "duration": 35,
    "start_time": "2023-01-19T11:02:05.427Z"
   },
   {
    "duration": 29,
    "start_time": "2023-01-19T11:02:10.533Z"
   },
   {
    "duration": 18,
    "start_time": "2023-01-19T11:02:11.593Z"
   },
   {
    "duration": 7,
    "start_time": "2023-01-19T11:02:12.560Z"
   },
   {
    "duration": 2224,
    "start_time": "2023-01-19T11:02:16.225Z"
   },
   {
    "duration": 76,
    "start_time": "2023-01-19T11:02:43.734Z"
   },
   {
    "duration": 49,
    "start_time": "2023-01-19T11:02:44.557Z"
   },
   {
    "duration": 17,
    "start_time": "2023-01-19T11:02:50.758Z"
   },
   {
    "duration": 944,
    "start_time": "2023-01-19T11:02:59.060Z"
   },
   {
    "duration": 443,
    "start_time": "2023-01-19T11:03:00.006Z"
   },
   {
    "duration": 9,
    "start_time": "2023-01-19T11:03:00.451Z"
   },
   {
    "duration": 8,
    "start_time": "2023-01-19T11:03:15.490Z"
   },
   {
    "duration": 126,
    "start_time": "2023-01-19T11:03:16.050Z"
   },
   {
    "duration": 165,
    "start_time": "2023-01-19T11:04:08.179Z"
   },
   {
    "duration": 57,
    "start_time": "2023-01-19T11:04:09.883Z"
   },
   {
    "duration": 78,
    "start_time": "2023-01-19T11:04:16.036Z"
   },
   {
    "duration": 78,
    "start_time": "2023-01-19T11:05:48.689Z"
   },
   {
    "duration": 75,
    "start_time": "2023-01-19T11:05:54.008Z"
   },
   {
    "duration": 56,
    "start_time": "2023-01-19T11:07:48.196Z"
   },
   {
    "duration": 184,
    "start_time": "2023-01-19T11:09:09.050Z"
   },
   {
    "duration": 74,
    "start_time": "2023-01-19T11:09:13.084Z"
   },
   {
    "duration": 5,
    "start_time": "2023-01-19T11:09:19.517Z"
   },
   {
    "duration": 4,
    "start_time": "2023-01-19T11:09:23.470Z"
   },
   {
    "duration": 6,
    "start_time": "2023-01-19T11:09:25.499Z"
   },
   {
    "duration": 5,
    "start_time": "2023-01-19T11:09:34.321Z"
   },
   {
    "duration": 5146,
    "start_time": "2023-01-19T11:09:37.151Z"
   },
   {
    "duration": 10,
    "start_time": "2023-01-19T11:09:44.444Z"
   },
   {
    "duration": 2555,
    "start_time": "2023-01-19T11:09:52.410Z"
   },
   {
    "duration": 10,
    "start_time": "2023-01-19T11:09:56.891Z"
   },
   {
    "duration": 27,
    "start_time": "2023-01-19T11:10:03.614Z"
   },
   {
    "duration": 108,
    "start_time": "2023-01-19T11:13:30.371Z"
   },
   {
    "duration": 58,
    "start_time": "2023-01-19T11:13:35.260Z"
   },
   {
    "duration": 102,
    "start_time": "2023-01-19T11:13:45.144Z"
   },
   {
    "duration": 58,
    "start_time": "2023-01-19T11:13:46.460Z"
   },
   {
    "duration": 141,
    "start_time": "2023-01-19T11:14:12.110Z"
   },
   {
    "duration": 49,
    "start_time": "2023-01-19T11:14:13.232Z"
   },
   {
    "duration": 6,
    "start_time": "2023-01-19T11:14:19.347Z"
   },
   {
    "duration": 5,
    "start_time": "2023-01-19T11:14:20.411Z"
   },
   {
    "duration": 5,
    "start_time": "2023-01-19T11:14:21.344Z"
   },
   {
    "duration": 5,
    "start_time": "2023-01-19T11:14:24.733Z"
   },
   {
    "duration": 5529,
    "start_time": "2023-01-19T11:14:27.960Z"
   },
   {
    "duration": 9,
    "start_time": "2023-01-19T11:14:36.181Z"
   },
   {
    "duration": 2492,
    "start_time": "2023-01-19T11:14:40.270Z"
   },
   {
    "duration": 8,
    "start_time": "2023-01-19T11:14:43.702Z"
   },
   {
    "duration": 23,
    "start_time": "2023-01-19T11:14:50.052Z"
   },
   {
    "duration": 25,
    "start_time": "2023-01-19T11:14:56.457Z"
   },
   {
    "duration": 20,
    "start_time": "2023-01-19T11:15:28.729Z"
   },
   {
    "duration": 4,
    "start_time": "2023-01-19T11:15:55.384Z"
   },
   {
    "duration": 31,
    "start_time": "2023-01-19T11:15:57.768Z"
   },
   {
    "duration": 115,
    "start_time": "2023-01-19T11:15:59.163Z"
   },
   {
    "duration": 97,
    "start_time": "2023-01-19T11:16:01.055Z"
   },
   {
    "duration": 33,
    "start_time": "2023-01-19T11:16:01.986Z"
   },
   {
    "duration": 17,
    "start_time": "2023-01-19T11:16:02.951Z"
   },
   {
    "duration": 2,
    "start_time": "2023-01-19T11:16:03.853Z"
   },
   {
    "duration": 297,
    "start_time": "2023-01-19T11:16:07.164Z"
   },
   {
    "duration": 1036,
    "start_time": "2023-01-19T11:17:44.592Z"
   },
   {
    "duration": 7,
    "start_time": "2023-01-19T11:18:18.580Z"
   },
   {
    "duration": 202,
    "start_time": "2023-01-19T11:18:19.459Z"
   },
   {
    "duration": 40,
    "start_time": "2023-01-19T11:18:21.699Z"
   },
   {
    "duration": 39,
    "start_time": "2023-01-19T11:18:22.113Z"
   },
   {
    "duration": 28,
    "start_time": "2023-01-19T11:18:22.887Z"
   },
   {
    "duration": 19,
    "start_time": "2023-01-19T11:18:24.040Z"
   },
   {
    "duration": 8,
    "start_time": "2023-01-19T11:18:24.945Z"
   },
   {
    "duration": 2232,
    "start_time": "2023-01-19T11:18:50.443Z"
   },
   {
    "duration": 47,
    "start_time": "2023-01-19T11:18:53.756Z"
   },
   {
    "duration": 34,
    "start_time": "2023-01-19T11:18:54.320Z"
   },
   {
    "duration": 10,
    "start_time": "2023-01-19T11:18:55.577Z"
   },
   {
    "duration": 899,
    "start_time": "2023-01-19T11:18:57.143Z"
   },
   {
    "duration": 517,
    "start_time": "2023-01-19T11:18:58.045Z"
   },
   {
    "duration": 11,
    "start_time": "2023-01-19T11:18:58.565Z"
   },
   {
    "duration": 6,
    "start_time": "2023-01-19T11:18:58.653Z"
   },
   {
    "duration": 78,
    "start_time": "2023-01-19T11:19:00.130Z"
   },
   {
    "duration": 128,
    "start_time": "2023-01-19T11:19:02.497Z"
   },
   {
    "duration": 162,
    "start_time": "2023-01-19T11:19:04.968Z"
   },
   {
    "duration": 58,
    "start_time": "2023-01-19T11:19:06.143Z"
   },
   {
    "duration": 4,
    "start_time": "2023-01-19T11:19:07.997Z"
   },
   {
    "duration": 4,
    "start_time": "2023-01-19T11:19:08.212Z"
   },
   {
    "duration": 6,
    "start_time": "2023-01-19T11:19:08.568Z"
   },
   {
    "duration": 4,
    "start_time": "2023-01-19T11:19:08.882Z"
   },
   {
    "duration": 4774,
    "start_time": "2023-01-19T11:19:09.498Z"
   },
   {
    "duration": 8,
    "start_time": "2023-01-19T11:19:14.275Z"
   },
   {
    "duration": 2375,
    "start_time": "2023-01-19T11:19:14.285Z"
   },
   {
    "duration": 8,
    "start_time": "2023-01-19T11:19:16.662Z"
   },
   {
    "duration": 31,
    "start_time": "2023-01-19T11:19:23.313Z"
   },
   {
    "duration": 4,
    "start_time": "2023-01-19T11:19:43.862Z"
   },
   {
    "duration": 22,
    "start_time": "2023-01-19T11:19:46.573Z"
   },
   {
    "duration": 112,
    "start_time": "2023-01-19T11:19:46.860Z"
   },
   {
    "duration": 59,
    "start_time": "2023-01-19T11:19:47.154Z"
   },
   {
    "duration": 36,
    "start_time": "2023-01-19T11:19:47.396Z"
   },
   {
    "duration": 15,
    "start_time": "2023-01-19T11:19:47.664Z"
   },
   {
    "duration": 3,
    "start_time": "2023-01-19T11:19:47.943Z"
   },
   {
    "duration": 278,
    "start_time": "2023-01-19T11:19:50.713Z"
   },
   {
    "duration": 282,
    "start_time": "2023-01-19T11:20:34.110Z"
   },
   {
    "duration": 18,
    "start_time": "2023-01-19T11:21:08.944Z"
   },
   {
    "duration": 6,
    "start_time": "2023-01-19T11:21:22.198Z"
   },
   {
    "duration": 199,
    "start_time": "2023-01-19T11:21:22.950Z"
   },
   {
    "duration": 41,
    "start_time": "2023-01-19T11:21:24.304Z"
   },
   {
    "duration": 41,
    "start_time": "2023-01-19T11:21:24.982Z"
   },
   {
    "duration": 38,
    "start_time": "2023-01-19T11:21:25.654Z"
   },
   {
    "duration": 17,
    "start_time": "2023-01-19T11:21:27.510Z"
   },
   {
    "duration": 9,
    "start_time": "2023-01-19T11:21:28.449Z"
   },
   {
    "duration": 2194,
    "start_time": "2023-01-19T11:21:32.372Z"
   },
   {
    "duration": 72,
    "start_time": "2023-01-19T11:23:41.232Z"
   },
   {
    "duration": 30,
    "start_time": "2023-01-19T11:23:41.880Z"
   },
   {
    "duration": 16,
    "start_time": "2023-01-19T11:23:44.191Z"
   },
   {
    "duration": 957,
    "start_time": "2023-01-19T11:23:47.245Z"
   },
   {
    "duration": 475,
    "start_time": "2023-01-19T11:23:48.205Z"
   },
   {
    "duration": 9,
    "start_time": "2023-01-19T11:23:49.102Z"
   },
   {
    "duration": 8,
    "start_time": "2023-01-19T11:23:50.112Z"
   },
   {
    "duration": 89,
    "start_time": "2023-01-19T11:23:52.253Z"
   },
   {
    "duration": 124,
    "start_time": "2023-01-19T11:23:57.235Z"
   },
   {
    "duration": 212,
    "start_time": "2023-01-19T11:23:58.278Z"
   },
   {
    "duration": 70,
    "start_time": "2023-01-19T11:24:01.343Z"
   },
   {
    "duration": 94,
    "start_time": "2023-01-19T11:31:53.071Z"
   },
   {
    "duration": 124,
    "start_time": "2023-01-19T11:32:02.160Z"
   },
   {
    "duration": 27,
    "start_time": "2023-01-19T11:44:32.874Z"
   },
   {
    "duration": 78,
    "start_time": "2023-01-19T11:44:35.980Z"
   },
   {
    "duration": 5,
    "start_time": "2023-01-19T11:44:50.998Z"
   },
   {
    "duration": 11,
    "start_time": "2023-01-19T11:44:51.934Z"
   },
   {
    "duration": 9,
    "start_time": "2023-01-19T11:44:54.100Z"
   },
   {
    "duration": 11,
    "start_time": "2023-01-19T11:44:54.601Z"
   },
   {
    "duration": 7462,
    "start_time": "2023-01-19T11:44:56.884Z"
   },
   {
    "duration": 11,
    "start_time": "2023-01-19T11:45:04.348Z"
   },
   {
    "duration": 3661,
    "start_time": "2023-01-19T11:45:09.307Z"
   },
   {
    "duration": 9,
    "start_time": "2023-01-19T11:45:12.971Z"
   },
   {
    "duration": 26,
    "start_time": "2023-01-19T11:45:24.142Z"
   },
   {
    "duration": 18,
    "start_time": "2023-01-19T11:46:49.509Z"
   },
   {
    "duration": 164,
    "start_time": "2023-01-19T11:49:38.558Z"
   },
   {
    "duration": 55,
    "start_time": "2023-01-19T11:49:41.155Z"
   },
   {
    "duration": 68,
    "start_time": "2023-01-19T11:49:44.617Z"
   },
   {
    "duration": 4,
    "start_time": "2023-01-19T11:49:52.641Z"
   },
   {
    "duration": 5,
    "start_time": "2023-01-19T11:49:55.597Z"
   },
   {
    "duration": 5,
    "start_time": "2023-01-19T11:49:57.760Z"
   },
   {
    "duration": 6,
    "start_time": "2023-01-19T11:50:00.846Z"
   },
   {
    "duration": 6396,
    "start_time": "2023-01-19T11:50:03.742Z"
   },
   {
    "duration": 12,
    "start_time": "2023-01-19T11:50:12.369Z"
   },
   {
    "duration": 3137,
    "start_time": "2023-01-19T11:50:27.873Z"
   },
   {
    "duration": 10,
    "start_time": "2023-01-19T11:50:32.197Z"
   },
   {
    "duration": 29,
    "start_time": "2023-01-19T11:50:38.062Z"
   },
   {
    "duration": 5,
    "start_time": "2023-01-19T11:50:47.061Z"
   },
   {
    "duration": 33,
    "start_time": "2023-01-19T11:50:50.944Z"
   },
   {
    "duration": 193,
    "start_time": "2023-01-19T11:50:51.795Z"
   },
   {
    "duration": 100,
    "start_time": "2023-01-19T11:50:52.814Z"
   },
   {
    "duration": 33,
    "start_time": "2023-01-19T11:50:53.786Z"
   },
   {
    "duration": 16,
    "start_time": "2023-01-19T11:50:54.756Z"
   },
   {
    "duration": 3,
    "start_time": "2023-01-19T11:50:55.764Z"
   },
   {
    "duration": 13778,
    "start_time": "2023-01-19T11:50:59.774Z"
   },
   {
    "duration": 331,
    "start_time": "2023-01-19T11:51:17.201Z"
   },
   {
    "duration": 74394,
    "start_time": "2023-01-19T11:51:25.559Z"
   },
   {
    "duration": 66,
    "start_time": "2023-01-19T11:52:43.357Z"
   },
   {
    "duration": 863,
    "start_time": "2023-01-19T11:53:13.055Z"
   },
   {
    "duration": 173,
    "start_time": "2023-01-19T11:53:15.565Z"
   },
   {
    "duration": 2146,
    "start_time": "2023-01-19T11:53:42.200Z"
   },
   {
    "duration": 921,
    "start_time": "2023-01-19T11:54:37.495Z"
   },
   {
    "duration": 214,
    "start_time": "2023-01-19T11:54:42.266Z"
   },
   {
    "duration": 2301,
    "start_time": "2023-01-19T11:54:45.055Z"
   },
   {
    "duration": 8496,
    "start_time": "2023-01-19T11:54:50.853Z"
   },
   {
    "duration": 604,
    "start_time": "2023-01-19T11:55:05.718Z"
   },
   {
    "duration": 30331,
    "start_time": "2023-01-19T11:55:09.653Z"
   },
   {
    "duration": 908,
    "start_time": "2023-01-19T11:55:39.987Z"
   },
   {
    "duration": 798,
    "start_time": "2023-01-19T11:57:07.042Z"
   },
   {
    "duration": 907,
    "start_time": "2023-01-19T12:06:42.663Z"
   },
   {
    "duration": 381,
    "start_time": "2023-01-19T12:08:17.915Z"
   },
   {
    "duration": 7,
    "start_time": "2023-01-19T12:08:25.883Z"
   },
   {
    "duration": 9,
    "start_time": "2023-01-19T12:08:28.702Z"
   },
   {
    "duration": 27,
    "start_time": "2023-01-19T12:08:29.695Z"
   },
   {
    "duration": 7,
    "start_time": "2023-01-19T12:08:30.877Z"
   },
   {
    "duration": 26,
    "start_time": "2023-01-19T12:08:33.000Z"
   },
   {
    "duration": 21,
    "start_time": "2023-01-19T12:08:41.001Z"
   },
   {
    "duration": 39,
    "start_time": "2023-01-19T12:08:44.415Z"
   },
   {
    "duration": 10,
    "start_time": "2023-01-19T12:08:50.060Z"
   },
   {
    "duration": 16,
    "start_time": "2023-01-19T12:08:51.351Z"
   },
   {
    "duration": 15,
    "start_time": "2023-01-19T12:08:52.462Z"
   },
   {
    "duration": 13,
    "start_time": "2023-01-19T12:08:53.380Z"
   },
   {
    "duration": 9,
    "start_time": "2023-01-19T12:08:57.263Z"
   },
   {
    "duration": 13,
    "start_time": "2023-01-19T12:14:52.602Z"
   }
  ],
  "kernelspec": {
   "display_name": "Python 3 (ipykernel)",
   "language": "python",
   "name": "python3"
  },
  "language_info": {
   "codemirror_mode": {
    "name": "ipython",
    "version": 3
   },
   "file_extension": ".py",
   "mimetype": "text/x-python",
   "name": "python",
   "nbconvert_exporter": "python",
   "pygments_lexer": "ipython3",
   "version": "3.9.5"
  },
  "toc": {
   "base_numbering": 1,
   "nav_menu": {},
   "number_sections": true,
   "sideBar": true,
   "skip_h1_title": true,
   "title_cell": "Table of Contents",
   "title_sidebar": "Contents",
   "toc_cell": false,
   "toc_position": {},
   "toc_section_display": true,
   "toc_window_display": false
  }
 },
 "nbformat": 4,
 "nbformat_minor": 2
}
